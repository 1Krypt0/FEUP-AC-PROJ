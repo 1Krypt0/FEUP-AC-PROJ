{
 "cells": [
  {
   "cell_type": "markdown",
   "id": "83cffc4c",
   "metadata": {},
   "source": [
    "# To Loan or not to Loan - Data Mining Problem"
   ]
  },
  {
   "cell_type": "code",
   "execution_count": 1,
   "id": "52b04eed",
   "metadata": {
    "scrolled": false
   },
   "outputs": [
    {
     "name": "stderr",
     "output_type": "stream",
     "text": [
      "Loading required package: dplyr\n",
      "\n",
      "\n",
      "Attaching package: ‘dplyr’\n",
      "\n",
      "\n",
      "The following objects are masked from ‘package:stats’:\n",
      "\n",
      "    filter, lag\n",
      "\n",
      "\n",
      "The following objects are masked from ‘package:base’:\n",
      "\n",
      "    intersect, setdiff, setequal, union\n",
      "\n",
      "\n",
      "Loading required package: corrplot\n",
      "\n",
      "corrplot 0.92 loaded\n",
      "\n",
      "Loading required package: ggplot2\n",
      "\n"
     ]
    }
   ],
   "source": [
    "if (!require(\"dplyr\")) install.packages(\"dplyr\")\n",
    "if (!require(\"corrplot\")) install.packages(\"corrplot\")\n",
    "if (!require(\"ggplot2\")) install.packages(\"ggplot2\")\n"
   ]
  },
  {
   "cell_type": "markdown",
   "id": "9fbf58ca",
   "metadata": {},
   "source": [
    "## Load datasets\n",
    "\n",
    "We start by reading the data from the csv files that are available and uniformizing all the values such as \"NaN\", \"?\", \"\" or \" \" to be NA, which makes working with them easier."
   ]
  },
  {
   "cell_type": "code",
   "execution_count": 2,
   "id": "d6898474",
   "metadata": {},
   "outputs": [],
   "source": [
    "# Read csv files\n",
    "account_data <- read.csv(\"../data/account.csv\", sep = \";\")\n",
    "card_data <- read.csv(\"../data/card_dev.csv\", sep = \";\")\n",
    "client_data <- read.csv(\"../data/client.csv\", sep = \";\")\n",
    "disp_data <- read.csv(\"../data/disp.csv\", sep = \";\")\n",
    "district_data <- read.csv(\"../data/district.csv\",\n",
    "  sep = \";\", na.strings = c(\"NaN\", \"?\"))\n",
    "loan_data <- read.csv(\"../data/loan_dev.csv\", sep = \";\")\n",
    "trans_data <- read.csv(\"../data/trans_dev.csv\", sep = \";\")\n",
    "\n",
    "# Change empty values to NA\n",
    "account_data <-\n",
    "  replace(account_data, (account_data == \"\" | account_data == \" \"), NA)\n",
    "card_data <- replace(card_data, (card_data == \"\" | card_data == \" \"), NA)\n",
    "client_data <-\n",
    "  replace(client_data, (client_data == \"\" | client_data == \" \"), NA)\n",
    "disp_data <-\n",
    "  replace(disp_data, (disp_data == \"\" | disp_data == \" \"), NA)\n",
    "district_data <-\n",
    "  replace(district_data, (district_data == \"\" | district_data == \" \"), NA)\n",
    "loan_data <- replace(loan_data, (loan_data == \"\" | loan_data == \" \"), NA)\n",
    "trans_data <- replace(trans_data, (trans_data == \"\" | trans_data == \" \"), NA)"
   ]
  },
  {
   "cell_type": "markdown",
   "id": "ae113b1b",
   "metadata": {},
   "source": [
    "## Account Data\n",
    "\n",
    "On the account dataset, we decided to parse the date from the YYMMDD format to YYYY-MM-DD, and then use it to calculate a new attribute called \"age_days\", which stores the age of the account in days. This will be useful to be able to compare statistics from accounts with different ages or other derived attributes."
   ]
  },
  {
   "cell_type": "code",
   "execution_count": 3,
   "id": "4cd7bd12",
   "metadata": {},
   "outputs": [],
   "source": [
    "account_data <- transform(account_data, acc_creation_date = as.Date(\n",
    "  paste(\n",
    "    paste(\"19\", date %/% 10000, sep = \"\"),\n",
    "    (date %/% 100) %% 100,\n",
    "    date %% 100,\n",
    "    sep = \"-\"\n",
    "  ),\n",
    "  format = \"%Y-%m-%d\"\n",
    "))\n",
    "\n",
    "account_data$age_days <- trunc(as.numeric(\n",
    "  difftime(Sys.Date(), account_data$acc_creation_date, units = \"days\")\n",
    "))"
   ]
  },
  {
   "cell_type": "code",
   "execution_count": 4,
   "id": "9b6f9569",
   "metadata": {
    "scrolled": false
   },
   "outputs": [
    {
     "data": {
      "text/html": [
       "<table class=\"dataframe\">\n",
       "<caption>A data.frame: 6 × 6</caption>\n",
       "<thead>\n",
       "\t<tr><th></th><th scope=col>account_id</th><th scope=col>district_id</th><th scope=col>frequency</th><th scope=col>date</th><th scope=col>acc_creation_date</th><th scope=col>age_days</th></tr>\n",
       "\t<tr><th></th><th scope=col>&lt;int&gt;</th><th scope=col>&lt;int&gt;</th><th scope=col>&lt;chr&gt;</th><th scope=col>&lt;int&gt;</th><th scope=col>&lt;date&gt;</th><th scope=col>&lt;dbl&gt;</th></tr>\n",
       "</thead>\n",
       "<tbody>\n",
       "\t<tr><th scope=row>1</th><td> 576</td><td>55</td><td>monthly issuance</td><td>930101</td><td>1993-01-01</td><td>10921</td></tr>\n",
       "\t<tr><th scope=row>2</th><td>3818</td><td>74</td><td>monthly issuance</td><td>930101</td><td>1993-01-01</td><td>10921</td></tr>\n",
       "\t<tr><th scope=row>3</th><td> 704</td><td>55</td><td>monthly issuance</td><td>930101</td><td>1993-01-01</td><td>10921</td></tr>\n",
       "\t<tr><th scope=row>4</th><td>2378</td><td>16</td><td>monthly issuance</td><td>930101</td><td>1993-01-01</td><td>10921</td></tr>\n",
       "\t<tr><th scope=row>5</th><td>2632</td><td>24</td><td>monthly issuance</td><td>930102</td><td>1993-01-02</td><td>10920</td></tr>\n",
       "\t<tr><th scope=row>6</th><td>1972</td><td>77</td><td>monthly issuance</td><td>930102</td><td>1993-01-02</td><td>10920</td></tr>\n",
       "</tbody>\n",
       "</table>\n"
      ],
      "text/latex": [
       "A data.frame: 6 × 6\n",
       "\\begin{tabular}{r|llllll}\n",
       "  & account\\_id & district\\_id & frequency & date & acc\\_creation\\_date & age\\_days\\\\\n",
       "  & <int> & <int> & <chr> & <int> & <date> & <dbl>\\\\\n",
       "\\hline\n",
       "\t1 &  576 & 55 & monthly issuance & 930101 & 1993-01-01 & 10921\\\\\n",
       "\t2 & 3818 & 74 & monthly issuance & 930101 & 1993-01-01 & 10921\\\\\n",
       "\t3 &  704 & 55 & monthly issuance & 930101 & 1993-01-01 & 10921\\\\\n",
       "\t4 & 2378 & 16 & monthly issuance & 930101 & 1993-01-01 & 10921\\\\\n",
       "\t5 & 2632 & 24 & monthly issuance & 930102 & 1993-01-02 & 10920\\\\\n",
       "\t6 & 1972 & 77 & monthly issuance & 930102 & 1993-01-02 & 10920\\\\\n",
       "\\end{tabular}\n"
      ],
      "text/markdown": [
       "\n",
       "A data.frame: 6 × 6\n",
       "\n",
       "| <!--/--> | account_id &lt;int&gt; | district_id &lt;int&gt; | frequency &lt;chr&gt; | date &lt;int&gt; | acc_creation_date &lt;date&gt; | age_days &lt;dbl&gt; |\n",
       "|---|---|---|---|---|---|---|\n",
       "| 1 |  576 | 55 | monthly issuance | 930101 | 1993-01-01 | 10921 |\n",
       "| 2 | 3818 | 74 | monthly issuance | 930101 | 1993-01-01 | 10921 |\n",
       "| 3 |  704 | 55 | monthly issuance | 930101 | 1993-01-01 | 10921 |\n",
       "| 4 | 2378 | 16 | monthly issuance | 930101 | 1993-01-01 | 10921 |\n",
       "| 5 | 2632 | 24 | monthly issuance | 930102 | 1993-01-02 | 10920 |\n",
       "| 6 | 1972 | 77 | monthly issuance | 930102 | 1993-01-02 | 10920 |\n",
       "\n"
      ],
      "text/plain": [
       "  account_id district_id frequency        date   acc_creation_date age_days\n",
       "1  576       55          monthly issuance 930101 1993-01-01        10921   \n",
       "2 3818       74          monthly issuance 930101 1993-01-01        10921   \n",
       "3  704       55          monthly issuance 930101 1993-01-01        10921   \n",
       "4 2378       16          monthly issuance 930101 1993-01-01        10921   \n",
       "5 2632       24          monthly issuance 930102 1993-01-02        10920   \n",
       "6 1972       77          monthly issuance 930102 1993-01-02        10920   "
      ]
     },
     "metadata": {},
     "output_type": "display_data"
    }
   ],
   "source": [
    "head(account_data)"
   ]
  },
  {
   "cell_type": "markdown",
   "id": "e9a62b99",
   "metadata": {},
   "source": [
    "## Card data\n",
    "\n",
    "For the card dataset, we only changed the data format and got rid of the day and month."
   ]
  },
  {
   "cell_type": "code",
   "execution_count": 5,
   "id": "3fee31c7",
   "metadata": {},
   "outputs": [],
   "source": [
    "card_data <- transform(card_data, issued = format(as.Date(\n",
    "  paste(\n",
    "    paste(\"19\", issued %/% 10000, sep = \"\"),\n",
    "    (issued %/% 100) %% 100,\n",
    "    issued %% 100,\n",
    "    sep = \"-\"\n",
    "  ),\n",
    "  format = \"%Y-%m-%d\"\n",
    "), \"%Y\"))"
   ]
  },
  {
   "cell_type": "code",
   "execution_count": 6,
   "id": "eb940778",
   "metadata": {},
   "outputs": [
    {
     "data": {
      "text/html": [
       "<table class=\"dataframe\">\n",
       "<caption>A data.frame: 6 × 4</caption>\n",
       "<thead>\n",
       "\t<tr><th></th><th scope=col>card_id</th><th scope=col>disp_id</th><th scope=col>type</th><th scope=col>issued</th></tr>\n",
       "\t<tr><th></th><th scope=col>&lt;int&gt;</th><th scope=col>&lt;int&gt;</th><th scope=col>&lt;chr&gt;</th><th scope=col>&lt;chr&gt;</th></tr>\n",
       "</thead>\n",
       "<tbody>\n",
       "\t<tr><th scope=row>1</th><td>1005</td><td>9285</td><td>classic</td><td>1993</td></tr>\n",
       "\t<tr><th scope=row>2</th><td> 104</td><td> 588</td><td>classic</td><td>1994</td></tr>\n",
       "\t<tr><th scope=row>3</th><td> 747</td><td>4915</td><td>classic</td><td>1994</td></tr>\n",
       "\t<tr><th scope=row>4</th><td>  70</td><td> 439</td><td>classic</td><td>1994</td></tr>\n",
       "\t<tr><th scope=row>5</th><td> 577</td><td>3687</td><td>classic</td><td>1994</td></tr>\n",
       "\t<tr><th scope=row>6</th><td> 377</td><td>2429</td><td>classic</td><td>1994</td></tr>\n",
       "</tbody>\n",
       "</table>\n"
      ],
      "text/latex": [
       "A data.frame: 6 × 4\n",
       "\\begin{tabular}{r|llll}\n",
       "  & card\\_id & disp\\_id & type & issued\\\\\n",
       "  & <int> & <int> & <chr> & <chr>\\\\\n",
       "\\hline\n",
       "\t1 & 1005 & 9285 & classic & 1993\\\\\n",
       "\t2 &  104 &  588 & classic & 1994\\\\\n",
       "\t3 &  747 & 4915 & classic & 1994\\\\\n",
       "\t4 &   70 &  439 & classic & 1994\\\\\n",
       "\t5 &  577 & 3687 & classic & 1994\\\\\n",
       "\t6 &  377 & 2429 & classic & 1994\\\\\n",
       "\\end{tabular}\n"
      ],
      "text/markdown": [
       "\n",
       "A data.frame: 6 × 4\n",
       "\n",
       "| <!--/--> | card_id &lt;int&gt; | disp_id &lt;int&gt; | type &lt;chr&gt; | issued &lt;chr&gt; |\n",
       "|---|---|---|---|---|\n",
       "| 1 | 1005 | 9285 | classic | 1993 |\n",
       "| 2 |  104 |  588 | classic | 1994 |\n",
       "| 3 |  747 | 4915 | classic | 1994 |\n",
       "| 4 |   70 |  439 | classic | 1994 |\n",
       "| 5 |  577 | 3687 | classic | 1994 |\n",
       "| 6 |  377 | 2429 | classic | 1994 |\n",
       "\n"
      ],
      "text/plain": [
       "  card_id disp_id type    issued\n",
       "1 1005    9285    classic 1993  \n",
       "2  104     588    classic 1994  \n",
       "3  747    4915    classic 1994  \n",
       "4   70     439    classic 1994  \n",
       "5  577    3687    classic 1994  \n",
       "6  377    2429    classic 1994  "
      ]
     },
     "metadata": {},
     "output_type": "display_data"
    }
   ],
   "source": [
    "head(card_data)"
   ]
  },
  {
   "cell_type": "markdown",
   "id": "910cdd1b",
   "metadata": {},
   "source": [
    "## Client data\n",
    "\n",
    "For the client dataset, we transformed the \"birthnumber\" into gender and birthdate, which we later used to calculate the client's age (as of the last transaction's date). We also dropped the client district, as we will be considering the account district only."
   ]
  },
  {
   "cell_type": "code",
   "execution_count": 7,
   "id": "4524ff85",
   "metadata": {},
   "outputs": [],
   "source": [
    "client_data <- transform(client_data,\n",
    "  gender = ifelse(((birth_number %/% 100) %% 100) <= 12, \"M\", \"F\")\n",
    ")\n",
    "\n",
    "client_data <- transform(client_data, birthday = as.Date(\n",
    "  paste(\n",
    "    paste(\"19\", birth_number %/% 10000, sep = \"\"),\n",
    "    ifelse(((birth_number %/% 100) %% 100) <= 12,\n",
    "      (birth_number %/% 100) %% 100,\n",
    "      ((birth_number %/% 100) %% 100) - 50\n",
    "    ),\n",
    "    birth_number %% 100,\n",
    "    sep = \"-\"\n",
    "  ),\n",
    "  format = \"%Y-%m-%d\"\n",
    "))\n",
    "\n",
    "client_data <- subset(client_data, select = -c(birth_number, district_id))"
   ]
  },
  {
   "cell_type": "markdown",
   "id": "73544b45",
   "metadata": {},
   "source": [
    "We can see that the bank's data has a balanced gender distribution."
   ]
  },
  {
   "cell_type": "markdown",
   "id": "33a61de7",
   "metadata": {},
   "source": [
    "## District data\n",
    "\n",
    "The district dataset was one of the ones that needed more work done. For this one, we renamed some columns for concistency, filled the empty values with the column average where possible, and transformed the data from 1995 and 1996 into an average of both and an attribute that tells whether or not those numbers grew from an year to the other. We then dropped some of the columns that were no longer needed."
   ]
  },
  {
   "cell_type": "code",
   "execution_count": 8,
   "id": "44e382c0",
   "metadata": {},
   "outputs": [],
   "source": [
    "# Rename code to district id to ease joins\n",
    "# Rename columns for consistency\n",
    "colnames(district_data)[colnames(district_data) == \"code\"] <- \"district_id\"\n",
    "colnames(district_data)[\n",
    "  colnames(district_data) == \"average.salary\"\n",
    "] <- \"average_salary\"\n",
    "colnames(district_data)[\n",
    "  colnames(district_data) == \"no..of.enterpreneurs.per.1000.inhabitants\"\n",
    "] <- \"entrepreneur_rate\"\n",
    "colnames(district_data)[\n",
    "  colnames(district_data) == \"no..of.inhabitants\"\n",
    "] <- \"population\"\n",
    "colnames(district_data)[\n",
    "  colnames(district_data) == \"ratio.of.urban.inhabitants\"\n",
    "] <- \"urban_ratio\"\n",
    "\n",
    "# Fix values that were \"?\" to be the column average\n",
    "district_data$unemploymant.rate..95[\n",
    "  is.na(district_data$unemploymant.rate..95)\n",
    "] <- mean(as.numeric(district_data$unemploymant.rate..95), na.rm = TRUE)\n",
    "district_data$unemploymant.rate..96[\n",
    "  is.na(district_data$unemploymant.rate..96)\n",
    "] <- mean(as.numeric(district_data$unemploymant.rate..96), na.rm = TRUE)\n",
    "\n",
    "district_data$no..of.commited.crimes..95[\n",
    "  is.na(district_data$no..of.commited.crimes..95)\n",
    "] <- mean(as.numeric(district_data$no..of.commited.crimes..95), na.rm = TRUE)\n",
    "district_data$no..of.commited.crimes..96[\n",
    "  is.na(district_data$no..of.commited.crimes..96)\n",
    "] <- mean(as.numeric(district_data$no..of.commited.crimes..96), na.rm = TRUE)\n",
    "\n",
    "# Calculate average between 95 and 96\n",
    "district_data <- transform(district_data, unemployment_rate_avg =\n",
    "  as.numeric(district_data$unemploymant.rate..95)\n",
    "  + as.numeric(district_data$unemploymant.rate..96) / 2\n",
    ")\n",
    "district_data <- transform(district_data, crimes_rate_per_thousand =\n",
    "  (as.numeric(district_data$unemploymant.rate..95)\n",
    "  + as.numeric(district_data$unemploymant.rate..96) / 2)\n",
    "  / as.numeric(district_data$population) \n",
    "  * 1000\n",
    ")\n",
    "\n",
    "# Calculate whether or not the unemployment/crimes has been growing\n",
    "district_data <- transform(district_data, unemployment_growing =\n",
    "  ifelse(\n",
    "    as.numeric(district_data$unemploymant.rate..96) >\n",
    "    as.numeric(district_data$unemploymant.rate..95),\n",
    "    1,\n",
    "    0\n",
    "  )\n",
    ")\n",
    "district_data <- transform(district_data, crimes_growing =\n",
    "  ifelse(\n",
    "    as.numeric(district_data$no..of.commited.crimes..96) >\n",
    "    as.numeric(district_data$no..of.commited.crimes..95),\n",
    "    1,\n",
    "    0\n",
    "  )\n",
    ")\n",
    "\n",
    "\n",
    "district_data <- subset(district_data, select = -c(unemploymant.rate..95,\n",
    "  unemploymant.rate..96, no..of.commited.crimes..95, no..of.commited.crimes..96,\n",
    "  no..of.municipalities.with.inhabitants...499,\n",
    "  no..of.municipalities.with.inhabitants.500.1999,\n",
    "  no..of.municipalities.with.inhabitants.2000.9999,\n",
    "  no..of.municipalities.with.inhabitants..10000,\n",
    "  region,\n",
    "  no..of.cities\n",
    "))"
   ]
  },
  {
   "cell_type": "code",
   "execution_count": 9,
   "id": "90eb6ac3",
   "metadata": {},
   "outputs": [
    {
     "data": {
      "text/html": [
       "<table class=\"dataframe\">\n",
       "<caption>A data.frame: 6 × 10</caption>\n",
       "<thead>\n",
       "\t<tr><th></th><th scope=col>district_id</th><th scope=col>name</th><th scope=col>population</th><th scope=col>urban_ratio</th><th scope=col>average_salary</th><th scope=col>entrepreneur_rate</th><th scope=col>unemployment_rate_avg</th><th scope=col>crimes_rate_per_thousand</th><th scope=col>unemployment_growing</th><th scope=col>crimes_growing</th></tr>\n",
       "\t<tr><th></th><th scope=col>&lt;int&gt;</th><th scope=col>&lt;chr&gt;</th><th scope=col>&lt;int&gt;</th><th scope=col>&lt;dbl&gt;</th><th scope=col>&lt;int&gt;</th><th scope=col>&lt;int&gt;</th><th scope=col>&lt;dbl&gt;</th><th scope=col>&lt;dbl&gt;</th><th scope=col>&lt;dbl&gt;</th><th scope=col>&lt;dbl&gt;</th></tr>\n",
       "</thead>\n",
       "<tbody>\n",
       "\t<tr><th scope=row>1</th><td>1</td><td>Hl.m. Praha</td><td>1204953</td><td>100.0</td><td>12541</td><td>167</td><td>0.505</td><td>0.0004191035</td><td>1</td><td>1</td></tr>\n",
       "\t<tr><th scope=row>2</th><td>2</td><td>Benesov    </td><td>  88884</td><td> 46.7</td><td> 8507</td><td>132</td><td>2.595</td><td>0.0291953557</td><td>1</td><td>1</td></tr>\n",
       "\t<tr><th scope=row>3</th><td>3</td><td>Beroun     </td><td>  75232</td><td> 41.7</td><td> 8980</td><td>111</td><td>3.055</td><td>0.0406077201</td><td>1</td><td>0</td></tr>\n",
       "\t<tr><th scope=row>4</th><td>4</td><td>Kladno     </td><td> 149893</td><td> 67.4</td><td> 9753</td><td>109</td><td>7.165</td><td>0.0478007645</td><td>1</td><td>1</td></tr>\n",
       "\t<tr><th scope=row>5</th><td>5</td><td>Kolin      </td><td>  95616</td><td> 51.4</td><td> 9307</td><td>118</td><td>6.065</td><td>0.0634308066</td><td>1</td><td>1</td></tr>\n",
       "\t<tr><th scope=row>6</th><td>6</td><td>Kutna Hora </td><td>  77963</td><td> 51.5</td><td> 8546</td><td>126</td><td>4.960</td><td>0.0636199223</td><td>1</td><td>1</td></tr>\n",
       "</tbody>\n",
       "</table>\n"
      ],
      "text/latex": [
       "A data.frame: 6 × 10\n",
       "\\begin{tabular}{r|llllllllll}\n",
       "  & district\\_id & name & population & urban\\_ratio & average\\_salary & entrepreneur\\_rate & unemployment\\_rate\\_avg & crimes\\_rate\\_per\\_thousand & unemployment\\_growing & crimes\\_growing\\\\\n",
       "  & <int> & <chr> & <int> & <dbl> & <int> & <int> & <dbl> & <dbl> & <dbl> & <dbl>\\\\\n",
       "\\hline\n",
       "\t1 & 1 & Hl.m. Praha & 1204953 & 100.0 & 12541 & 167 & 0.505 & 0.0004191035 & 1 & 1\\\\\n",
       "\t2 & 2 & Benesov     &   88884 &  46.7 &  8507 & 132 & 2.595 & 0.0291953557 & 1 & 1\\\\\n",
       "\t3 & 3 & Beroun      &   75232 &  41.7 &  8980 & 111 & 3.055 & 0.0406077201 & 1 & 0\\\\\n",
       "\t4 & 4 & Kladno      &  149893 &  67.4 &  9753 & 109 & 7.165 & 0.0478007645 & 1 & 1\\\\\n",
       "\t5 & 5 & Kolin       &   95616 &  51.4 &  9307 & 118 & 6.065 & 0.0634308066 & 1 & 1\\\\\n",
       "\t6 & 6 & Kutna Hora  &   77963 &  51.5 &  8546 & 126 & 4.960 & 0.0636199223 & 1 & 1\\\\\n",
       "\\end{tabular}\n"
      ],
      "text/markdown": [
       "\n",
       "A data.frame: 6 × 10\n",
       "\n",
       "| <!--/--> | district_id &lt;int&gt; | name &lt;chr&gt; | population &lt;int&gt; | urban_ratio &lt;dbl&gt; | average_salary &lt;int&gt; | entrepreneur_rate &lt;int&gt; | unemployment_rate_avg &lt;dbl&gt; | crimes_rate_per_thousand &lt;dbl&gt; | unemployment_growing &lt;dbl&gt; | crimes_growing &lt;dbl&gt; |\n",
       "|---|---|---|---|---|---|---|---|---|---|---|\n",
       "| 1 | 1 | Hl.m. Praha | 1204953 | 100.0 | 12541 | 167 | 0.505 | 0.0004191035 | 1 | 1 |\n",
       "| 2 | 2 | Benesov     |   88884 |  46.7 |  8507 | 132 | 2.595 | 0.0291953557 | 1 | 1 |\n",
       "| 3 | 3 | Beroun      |   75232 |  41.7 |  8980 | 111 | 3.055 | 0.0406077201 | 1 | 0 |\n",
       "| 4 | 4 | Kladno      |  149893 |  67.4 |  9753 | 109 | 7.165 | 0.0478007645 | 1 | 1 |\n",
       "| 5 | 5 | Kolin       |   95616 |  51.4 |  9307 | 118 | 6.065 | 0.0634308066 | 1 | 1 |\n",
       "| 6 | 6 | Kutna Hora  |   77963 |  51.5 |  8546 | 126 | 4.960 | 0.0636199223 | 1 | 1 |\n",
       "\n"
      ],
      "text/plain": [
       "  district_id name        population urban_ratio average_salary\n",
       "1 1           Hl.m. Praha 1204953    100.0       12541         \n",
       "2 2           Benesov       88884     46.7        8507         \n",
       "3 3           Beroun        75232     41.7        8980         \n",
       "4 4           Kladno       149893     67.4        9753         \n",
       "5 5           Kolin         95616     51.4        9307         \n",
       "6 6           Kutna Hora    77963     51.5        8546         \n",
       "  entrepreneur_rate unemployment_rate_avg crimes_rate_per_thousand\n",
       "1 167               0.505                 0.0004191035            \n",
       "2 132               2.595                 0.0291953557            \n",
       "3 111               3.055                 0.0406077201            \n",
       "4 109               7.165                 0.0478007645            \n",
       "5 118               6.065                 0.0634308066            \n",
       "6 126               4.960                 0.0636199223            \n",
       "  unemployment_growing crimes_growing\n",
       "1 1                    1             \n",
       "2 1                    1             \n",
       "3 1                    0             \n",
       "4 1                    1             \n",
       "5 1                    1             \n",
       "6 1                    1             "
      ]
     },
     "metadata": {},
     "output_type": "display_data"
    }
   ],
   "source": [
    "head(district_data)"
   ]
  },
  {
   "cell_type": "markdown",
   "id": "21604dbc",
   "metadata": {},
   "source": [
    "Like this, each district has a simpler representation, that is easier to use for comparisons between districts, as it uses statistics per thousand people instead of absolute counts."
   ]
  },
  {
   "cell_type": "markdown",
   "id": "0c5955c5",
   "metadata": {},
   "source": [
    "From the previous graph, we gather that Most has the highest unemployment, at about 12%, and that there is no clear correlation between higher unemployment and higher crime rate"
   ]
  },
  {
   "cell_type": "markdown",
   "id": "0947ff45",
   "metadata": {},
   "source": [
    "## Loan data\n",
    "\n",
    "For the loan data, we only needed to parse the date to YYYY-MM-DD\n",
    "Since this table contains the target variable, we can alreay try to find some correlations."
   ]
  },
  {
   "cell_type": "code",
   "execution_count": 10,
   "id": "896960cd",
   "metadata": {},
   "outputs": [],
   "source": [
    "# Make date more readable\n",
    "loan_data <- transform(loan_data, date = as.Date(\n",
    "  paste(\n",
    "    paste(\"19\", date %/% 10000, sep = \"\"),\n",
    "    (date %/% 100) %% 100,\n",
    "    date %% 100,\n",
    "    sep = \"-\"\n",
    "  ),\n",
    "  format = \"%Y-%m-%d\"\n",
    "))"
   ]
  },
  {
   "cell_type": "code",
   "execution_count": 11,
   "id": "0d8280dc",
   "metadata": {},
   "outputs": [
    {
     "data": {
      "text/html": [
       "<table class=\"dataframe\">\n",
       "<caption>A data.frame: 6 × 7</caption>\n",
       "<thead>\n",
       "\t<tr><th></th><th scope=col>loan_id</th><th scope=col>account_id</th><th scope=col>date</th><th scope=col>amount</th><th scope=col>duration</th><th scope=col>payments</th><th scope=col>status</th></tr>\n",
       "\t<tr><th></th><th scope=col>&lt;int&gt;</th><th scope=col>&lt;int&gt;</th><th scope=col>&lt;date&gt;</th><th scope=col>&lt;int&gt;</th><th scope=col>&lt;int&gt;</th><th scope=col>&lt;int&gt;</th><th scope=col>&lt;int&gt;</th></tr>\n",
       "</thead>\n",
       "<tbody>\n",
       "\t<tr><th scope=row>1</th><td>5314</td><td> 1787</td><td>1993-07-05</td><td> 96396</td><td>12</td><td>8033</td><td>-1</td></tr>\n",
       "\t<tr><th scope=row>2</th><td>5316</td><td> 1801</td><td>1993-07-11</td><td>165960</td><td>36</td><td>4610</td><td> 1</td></tr>\n",
       "\t<tr><th scope=row>3</th><td>6863</td><td> 9188</td><td>1993-07-28</td><td>127080</td><td>60</td><td>2118</td><td> 1</td></tr>\n",
       "\t<tr><th scope=row>4</th><td>5325</td><td> 1843</td><td>1993-08-03</td><td>105804</td><td>36</td><td>2939</td><td> 1</td></tr>\n",
       "\t<tr><th scope=row>5</th><td>7240</td><td>11013</td><td>1993-09-06</td><td>274740</td><td>60</td><td>4579</td><td> 1</td></tr>\n",
       "\t<tr><th scope=row>6</th><td>6687</td><td> 8261</td><td>1993-09-13</td><td> 87840</td><td>24</td><td>3660</td><td> 1</td></tr>\n",
       "</tbody>\n",
       "</table>\n"
      ],
      "text/latex": [
       "A data.frame: 6 × 7\n",
       "\\begin{tabular}{r|lllllll}\n",
       "  & loan\\_id & account\\_id & date & amount & duration & payments & status\\\\\n",
       "  & <int> & <int> & <date> & <int> & <int> & <int> & <int>\\\\\n",
       "\\hline\n",
       "\t1 & 5314 &  1787 & 1993-07-05 &  96396 & 12 & 8033 & -1\\\\\n",
       "\t2 & 5316 &  1801 & 1993-07-11 & 165960 & 36 & 4610 &  1\\\\\n",
       "\t3 & 6863 &  9188 & 1993-07-28 & 127080 & 60 & 2118 &  1\\\\\n",
       "\t4 & 5325 &  1843 & 1993-08-03 & 105804 & 36 & 2939 &  1\\\\\n",
       "\t5 & 7240 & 11013 & 1993-09-06 & 274740 & 60 & 4579 &  1\\\\\n",
       "\t6 & 6687 &  8261 & 1993-09-13 &  87840 & 24 & 3660 &  1\\\\\n",
       "\\end{tabular}\n"
      ],
      "text/markdown": [
       "\n",
       "A data.frame: 6 × 7\n",
       "\n",
       "| <!--/--> | loan_id &lt;int&gt; | account_id &lt;int&gt; | date &lt;date&gt; | amount &lt;int&gt; | duration &lt;int&gt; | payments &lt;int&gt; | status &lt;int&gt; |\n",
       "|---|---|---|---|---|---|---|---|\n",
       "| 1 | 5314 |  1787 | 1993-07-05 |  96396 | 12 | 8033 | -1 |\n",
       "| 2 | 5316 |  1801 | 1993-07-11 | 165960 | 36 | 4610 |  1 |\n",
       "| 3 | 6863 |  9188 | 1993-07-28 | 127080 | 60 | 2118 |  1 |\n",
       "| 4 | 5325 |  1843 | 1993-08-03 | 105804 | 36 | 2939 |  1 |\n",
       "| 5 | 7240 | 11013 | 1993-09-06 | 274740 | 60 | 4579 |  1 |\n",
       "| 6 | 6687 |  8261 | 1993-09-13 |  87840 | 24 | 3660 |  1 |\n",
       "\n"
      ],
      "text/plain": [
       "  loan_id account_id date       amount duration payments status\n",
       "1 5314     1787      1993-07-05  96396 12       8033     -1    \n",
       "2 5316     1801      1993-07-11 165960 36       4610      1    \n",
       "3 6863     9188      1993-07-28 127080 60       2118      1    \n",
       "4 5325     1843      1993-08-03 105804 36       2939      1    \n",
       "5 7240    11013      1993-09-06 274740 60       4579      1    \n",
       "6 6687     8261      1993-09-13  87840 24       3660      1    "
      ]
     },
     "metadata": {},
     "output_type": "display_data"
    }
   ],
   "source": [
    "head(loan_data)"
   ]
  },
  {
   "cell_type": "markdown",
   "id": "85bf8563",
   "metadata": {},
   "source": [
    "We verified that the number of successfull loans is much higher than the number of unssuccessful loans, which we noted and decided to later use SMOTE techniques in order to better balance the dataset."
   ]
  },
  {
   "cell_type": "markdown",
   "id": "9ac0f579",
   "metadata": {},
   "source": [
    "With this analysis, we can see that in the higher amount bins, the success rate seems to be lower, which means that it more likely for a bigger loan to fail."
   ]
  },
  {
   "cell_type": "markdown",
   "id": "f4124319",
   "metadata": {},
   "source": [
    "As we can see, there doesn't seem to be a correlation between the duration or the amount paid per month and the success of a loan."
   ]
  },
  {
   "cell_type": "markdown",
   "id": "0802e4a8",
   "metadata": {},
   "source": [
    "# Transaction data"
   ]
  },
  {
   "cell_type": "code",
   "execution_count": 12,
   "id": "68db5a05",
   "metadata": {},
   "outputs": [
    {
     "data": {
      "text/html": [
       "<table class=\"dataframe\">\n",
       "<caption>A data.frame: 6 × 10</caption>\n",
       "<thead>\n",
       "\t<tr><th></th><th scope=col>trans_id</th><th scope=col>account_id</th><th scope=col>date</th><th scope=col>type</th><th scope=col>operation</th><th scope=col>amount</th><th scope=col>balance</th><th scope=col>k_symbol</th><th scope=col>bank</th><th scope=col>account</th></tr>\n",
       "\t<tr><th></th><th scope=col>&lt;int&gt;</th><th scope=col>&lt;int&gt;</th><th scope=col>&lt;int&gt;</th><th scope=col>&lt;chr&gt;</th><th scope=col>&lt;chr&gt;</th><th scope=col>&lt;dbl&gt;</th><th scope=col>&lt;dbl&gt;</th><th scope=col>&lt;chr&gt;</th><th scope=col>&lt;chr&gt;</th><th scope=col>&lt;int&gt;</th></tr>\n",
       "</thead>\n",
       "<tbody>\n",
       "\t<tr><th scope=row>1</th><td>1548749</td><td> 5270</td><td>930113</td><td>credit</td><td>credit in cash              </td><td>  800</td><td>  800</td><td>NA</td><td>NA</td><td>      NA</td></tr>\n",
       "\t<tr><th scope=row>2</th><td>1548750</td><td> 5270</td><td>930114</td><td>credit</td><td>collection from another bank</td><td>44749</td><td>45549</td><td>NA</td><td>IJ</td><td>80269753</td></tr>\n",
       "\t<tr><th scope=row>3</th><td>3393738</td><td>11265</td><td>930114</td><td>credit</td><td>credit in cash              </td><td> 1000</td><td> 1000</td><td>NA</td><td>NA</td><td>      NA</td></tr>\n",
       "\t<tr><th scope=row>4</th><td>3122924</td><td>10364</td><td>930117</td><td>credit</td><td>credit in cash              </td><td> 1100</td><td> 1100</td><td>NA</td><td>NA</td><td>      NA</td></tr>\n",
       "\t<tr><th scope=row>5</th><td>1121963</td><td> 3834</td><td>930119</td><td>credit</td><td>credit in cash              </td><td>  700</td><td>  700</td><td>NA</td><td>NA</td><td>      NA</td></tr>\n",
       "\t<tr><th scope=row>6</th><td>2809952</td><td> 9307</td><td>930124</td><td>credit</td><td>credit in cash              </td><td>  900</td><td>  900</td><td>NA</td><td>NA</td><td>      NA</td></tr>\n",
       "</tbody>\n",
       "</table>\n"
      ],
      "text/latex": [
       "A data.frame: 6 × 10\n",
       "\\begin{tabular}{r|llllllllll}\n",
       "  & trans\\_id & account\\_id & date & type & operation & amount & balance & k\\_symbol & bank & account\\\\\n",
       "  & <int> & <int> & <int> & <chr> & <chr> & <dbl> & <dbl> & <chr> & <chr> & <int>\\\\\n",
       "\\hline\n",
       "\t1 & 1548749 &  5270 & 930113 & credit & credit in cash               &   800 &   800 & NA & NA &       NA\\\\\n",
       "\t2 & 1548750 &  5270 & 930114 & credit & collection from another bank & 44749 & 45549 & NA & IJ & 80269753\\\\\n",
       "\t3 & 3393738 & 11265 & 930114 & credit & credit in cash               &  1000 &  1000 & NA & NA &       NA\\\\\n",
       "\t4 & 3122924 & 10364 & 930117 & credit & credit in cash               &  1100 &  1100 & NA & NA &       NA\\\\\n",
       "\t5 & 1121963 &  3834 & 930119 & credit & credit in cash               &   700 &   700 & NA & NA &       NA\\\\\n",
       "\t6 & 2809952 &  9307 & 930124 & credit & credit in cash               &   900 &   900 & NA & NA &       NA\\\\\n",
       "\\end{tabular}\n"
      ],
      "text/markdown": [
       "\n",
       "A data.frame: 6 × 10\n",
       "\n",
       "| <!--/--> | trans_id &lt;int&gt; | account_id &lt;int&gt; | date &lt;int&gt; | type &lt;chr&gt; | operation &lt;chr&gt; | amount &lt;dbl&gt; | balance &lt;dbl&gt; | k_symbol &lt;chr&gt; | bank &lt;chr&gt; | account &lt;int&gt; |\n",
       "|---|---|---|---|---|---|---|---|---|---|---|\n",
       "| 1 | 1548749 |  5270 | 930113 | credit | credit in cash               |   800 |   800 | NA | NA |       NA |\n",
       "| 2 | 1548750 |  5270 | 930114 | credit | collection from another bank | 44749 | 45549 | NA | IJ | 80269753 |\n",
       "| 3 | 3393738 | 11265 | 930114 | credit | credit in cash               |  1000 |  1000 | NA | NA |       NA |\n",
       "| 4 | 3122924 | 10364 | 930117 | credit | credit in cash               |  1100 |  1100 | NA | NA |       NA |\n",
       "| 5 | 1121963 |  3834 | 930119 | credit | credit in cash               |   700 |   700 | NA | NA |       NA |\n",
       "| 6 | 2809952 |  9307 | 930124 | credit | credit in cash               |   900 |   900 | NA | NA |       NA |\n",
       "\n"
      ],
      "text/plain": [
       "  trans_id account_id date   type   operation                    amount balance\n",
       "1 1548749   5270      930113 credit credit in cash                 800    800  \n",
       "2 1548750   5270      930114 credit collection from another bank 44749  45549  \n",
       "3 3393738  11265      930114 credit credit in cash                1000   1000  \n",
       "4 3122924  10364      930117 credit credit in cash                1100   1100  \n",
       "5 1121963   3834      930119 credit credit in cash                 700    700  \n",
       "6 2809952   9307      930124 credit credit in cash                 900    900  \n",
       "  k_symbol bank account \n",
       "1 NA       NA         NA\n",
       "2 NA       IJ   80269753\n",
       "3 NA       NA         NA\n",
       "4 NA       NA         NA\n",
       "5 NA       NA         NA\n",
       "6 NA       NA         NA"
      ]
     },
     "metadata": {},
     "output_type": "display_data"
    }
   ],
   "source": [
    "head(trans_data)"
   ]
  },
  {
   "cell_type": "markdown",
   "id": "9b8d61dc",
   "metadata": {},
   "source": [
    "As we can see in the table above, this table has a lot of NA values, which we will have to deal with.\n",
    "For now we start with some simple transformations, such as renaming some columns, cleaning the \"account\" attribute (which could otherwise cause problems with the competition dataset), parsing the date and dropping the \"type\" column, as that information can be conveied by adding a signal to the amount and getting information from the k_symbol and type columns."
   ]
  },
  {
   "cell_type": "code",
   "execution_count": 13,
   "id": "ad07c132",
   "metadata": {},
   "outputs": [],
   "source": [
    "# Rename k_symbol to category\n",
    "colnames(trans_data)[colnames(trans_data) == \"k_symbol\"] <- \"category\"\n",
    "\n",
    "# Account id of 0 does not exist, so we replace it by NA (competition)\n",
    "trans_data$account <- replace(trans_data$account, (trans_data$account == 0), NA)\n",
    "\n",
    "# Parse the date\n",
    "trans_data <- transform(trans_data, date = as.Date(\n",
    "  paste(\n",
    "    paste(\"19\", date %/% 10000, sep = \"\"),\n",
    "    (date %/% 100) %% 100,\n",
    "    date %% 100,\n",
    "    sep = \"-\"\n",
    "  ),\n",
    "  format = \"%Y-%m-%d\"\n",
    "))\n",
    "\n",
    "# Make amount reflect if money entered or left the account\n",
    "trans_data <- transform(trans_data,\n",
    "  amount = ifelse(type == \"credit\", amount, -1 * amount)\n",
    ")"
   ]
  },
  {
   "cell_type": "code",
   "execution_count": 14,
   "id": "07404632",
   "metadata": {},
   "outputs": [
    {
     "data": {
      "text/html": [
       "<table class=\"dataframe\">\n",
       "<caption>A data.frame: 6 × 10</caption>\n",
       "<thead>\n",
       "\t<tr><th></th><th scope=col>trans_id</th><th scope=col>account_id</th><th scope=col>date</th><th scope=col>type</th><th scope=col>operation</th><th scope=col>amount</th><th scope=col>balance</th><th scope=col>category</th><th scope=col>bank</th><th scope=col>account</th></tr>\n",
       "\t<tr><th></th><th scope=col>&lt;int&gt;</th><th scope=col>&lt;int&gt;</th><th scope=col>&lt;date&gt;</th><th scope=col>&lt;chr&gt;</th><th scope=col>&lt;chr&gt;</th><th scope=col>&lt;dbl&gt;</th><th scope=col>&lt;dbl&gt;</th><th scope=col>&lt;chr&gt;</th><th scope=col>&lt;chr&gt;</th><th scope=col>&lt;int&gt;</th></tr>\n",
       "</thead>\n",
       "<tbody>\n",
       "\t<tr><th scope=row>1</th><td>1548749</td><td> 5270</td><td>1993-01-13</td><td>credit</td><td>credit in cash              </td><td>  800</td><td>  800</td><td>NA</td><td>NA</td><td>      NA</td></tr>\n",
       "\t<tr><th scope=row>2</th><td>1548750</td><td> 5270</td><td>1993-01-14</td><td>credit</td><td>collection from another bank</td><td>44749</td><td>45549</td><td>NA</td><td>IJ</td><td>80269753</td></tr>\n",
       "\t<tr><th scope=row>3</th><td>3393738</td><td>11265</td><td>1993-01-14</td><td>credit</td><td>credit in cash              </td><td> 1000</td><td> 1000</td><td>NA</td><td>NA</td><td>      NA</td></tr>\n",
       "\t<tr><th scope=row>4</th><td>3122924</td><td>10364</td><td>1993-01-17</td><td>credit</td><td>credit in cash              </td><td> 1100</td><td> 1100</td><td>NA</td><td>NA</td><td>      NA</td></tr>\n",
       "\t<tr><th scope=row>5</th><td>1121963</td><td> 3834</td><td>1993-01-19</td><td>credit</td><td>credit in cash              </td><td>  700</td><td>  700</td><td>NA</td><td>NA</td><td>      NA</td></tr>\n",
       "\t<tr><th scope=row>6</th><td>2809952</td><td> 9307</td><td>1993-01-24</td><td>credit</td><td>credit in cash              </td><td>  900</td><td>  900</td><td>NA</td><td>NA</td><td>      NA</td></tr>\n",
       "</tbody>\n",
       "</table>\n"
      ],
      "text/latex": [
       "A data.frame: 6 × 10\n",
       "\\begin{tabular}{r|llllllllll}\n",
       "  & trans\\_id & account\\_id & date & type & operation & amount & balance & category & bank & account\\\\\n",
       "  & <int> & <int> & <date> & <chr> & <chr> & <dbl> & <dbl> & <chr> & <chr> & <int>\\\\\n",
       "\\hline\n",
       "\t1 & 1548749 &  5270 & 1993-01-13 & credit & credit in cash               &   800 &   800 & NA & NA &       NA\\\\\n",
       "\t2 & 1548750 &  5270 & 1993-01-14 & credit & collection from another bank & 44749 & 45549 & NA & IJ & 80269753\\\\\n",
       "\t3 & 3393738 & 11265 & 1993-01-14 & credit & credit in cash               &  1000 &  1000 & NA & NA &       NA\\\\\n",
       "\t4 & 3122924 & 10364 & 1993-01-17 & credit & credit in cash               &  1100 &  1100 & NA & NA &       NA\\\\\n",
       "\t5 & 1121963 &  3834 & 1993-01-19 & credit & credit in cash               &   700 &   700 & NA & NA &       NA\\\\\n",
       "\t6 & 2809952 &  9307 & 1993-01-24 & credit & credit in cash               &   900 &   900 & NA & NA &       NA\\\\\n",
       "\\end{tabular}\n"
      ],
      "text/markdown": [
       "\n",
       "A data.frame: 6 × 10\n",
       "\n",
       "| <!--/--> | trans_id &lt;int&gt; | account_id &lt;int&gt; | date &lt;date&gt; | type &lt;chr&gt; | operation &lt;chr&gt; | amount &lt;dbl&gt; | balance &lt;dbl&gt; | category &lt;chr&gt; | bank &lt;chr&gt; | account &lt;int&gt; |\n",
       "|---|---|---|---|---|---|---|---|---|---|---|\n",
       "| 1 | 1548749 |  5270 | 1993-01-13 | credit | credit in cash               |   800 |   800 | NA | NA |       NA |\n",
       "| 2 | 1548750 |  5270 | 1993-01-14 | credit | collection from another bank | 44749 | 45549 | NA | IJ | 80269753 |\n",
       "| 3 | 3393738 | 11265 | 1993-01-14 | credit | credit in cash               |  1000 |  1000 | NA | NA |       NA |\n",
       "| 4 | 3122924 | 10364 | 1993-01-17 | credit | credit in cash               |  1100 |  1100 | NA | NA |       NA |\n",
       "| 5 | 1121963 |  3834 | 1993-01-19 | credit | credit in cash               |   700 |   700 | NA | NA |       NA |\n",
       "| 6 | 2809952 |  9307 | 1993-01-24 | credit | credit in cash               |   900 |   900 | NA | NA |       NA |\n",
       "\n"
      ],
      "text/plain": [
       "  trans_id account_id date       type   operation                    amount\n",
       "1 1548749   5270      1993-01-13 credit credit in cash                 800 \n",
       "2 1548750   5270      1993-01-14 credit collection from another bank 44749 \n",
       "3 3393738  11265      1993-01-14 credit credit in cash                1000 \n",
       "4 3122924  10364      1993-01-17 credit credit in cash                1100 \n",
       "5 1121963   3834      1993-01-19 credit credit in cash                 700 \n",
       "6 2809952   9307      1993-01-24 credit credit in cash                 900 \n",
       "  balance category bank account \n",
       "1   800   NA       NA         NA\n",
       "2 45549   NA       IJ   80269753\n",
       "3  1000   NA       NA         NA\n",
       "4  1100   NA       NA         NA\n",
       "5   700   NA       NA         NA\n",
       "6   900   NA       NA         NA"
      ]
     },
     "metadata": {},
     "output_type": "display_data"
    }
   ],
   "source": [
    "head(trans_data)"
   ]
  },
  {
   "cell_type": "markdown",
   "id": "f3bb15da",
   "metadata": {},
   "source": [
    "Now, we have to deal with the NA values."
   ]
  },
  {
   "cell_type": "code",
   "execution_count": 15,
   "id": "e5789289",
   "metadata": {},
   "outputs": [
    {
     "data": {
      "text/html": [
       "<style>\n",
       ".dl-inline {width: auto; margin:0; padding: 0}\n",
       ".dl-inline>dt, .dl-inline>dd {float: none; width: auto; display: inline-block}\n",
       ".dl-inline>dt::after {content: \":\\0020\"; padding-right: .5ex}\n",
       ".dl-inline>dt:not(:first-of-type) {padding-left: .5ex}\n",
       "</style><dl class=dl-inline><dt>trans_id</dt><dd>0</dd><dt>account_id</dt><dd>0</dd><dt>date</dt><dd>0</dd><dt>type</dt><dd>0</dd><dt>operation</dt><dd>70761</dd><dt>amount</dt><dd>0</dd><dt>balance</dt><dd>0</dd><dt>category</dt><dd>204309</dd><dt>bank</dt><dd>299443</dd><dt>account</dt><dd>299443</dd></dl>\n"
      ],
      "text/latex": [
       "\\begin{description*}\n",
       "\\item[trans\\textbackslash{}\\_id] 0\n",
       "\\item[account\\textbackslash{}\\_id] 0\n",
       "\\item[date] 0\n",
       "\\item[type] 0\n",
       "\\item[operation] 70761\n",
       "\\item[amount] 0\n",
       "\\item[balance] 0\n",
       "\\item[category] 204309\n",
       "\\item[bank] 299443\n",
       "\\item[account] 299443\n",
       "\\end{description*}\n"
      ],
      "text/markdown": [
       "trans_id\n",
       ":   0account_id\n",
       ":   0date\n",
       ":   0type\n",
       ":   0operation\n",
       ":   70761amount\n",
       ":   0balance\n",
       ":   0category\n",
       ":   204309bank\n",
       ":   299443account\n",
       ":   299443\n",
       "\n"
      ],
      "text/plain": [
       "  trans_id account_id       date       type  operation     amount    balance \n",
       "         0          0          0          0      70761          0          0 \n",
       "  category       bank    account \n",
       "    204309     299443     299443 "
      ]
     },
     "metadata": {},
     "output_type": "display_data"
    }
   ],
   "source": [
    "colSums(is.na(trans_data)) # count number of NA values for each column"
   ]
  },
  {
   "cell_type": "markdown",
   "id": "7760435a",
   "metadata": {},
   "source": [
    "The most problematic columns are \"operation\", \"category\", \"bank\" and \"account\". We can now try to understand under which circunstances these are NA and what we can do to fix them."
   ]
  },
  {
   "cell_type": "code",
   "execution_count": 16,
   "id": "c5c2f139",
   "metadata": {},
   "outputs": [
    {
     "data": {
      "text/html": [
       "<table class=\"dataframe\">\n",
       "<caption>A data.frame: 10 × 10</caption>\n",
       "<thead>\n",
       "\t<tr><th></th><th scope=col>trans_id</th><th scope=col>account_id</th><th scope=col>date</th><th scope=col>type</th><th scope=col>operation</th><th scope=col>amount</th><th scope=col>balance</th><th scope=col>category</th><th scope=col>bank</th><th scope=col>account</th></tr>\n",
       "\t<tr><th></th><th scope=col>&lt;int&gt;</th><th scope=col>&lt;int&gt;</th><th scope=col>&lt;date&gt;</th><th scope=col>&lt;chr&gt;</th><th scope=col>&lt;chr&gt;</th><th scope=col>&lt;dbl&gt;</th><th scope=col>&lt;dbl&gt;</th><th scope=col>&lt;chr&gt;</th><th scope=col>&lt;chr&gt;</th><th scope=col>&lt;int&gt;</th></tr>\n",
       "</thead>\n",
       "<tbody>\n",
       "\t<tr><th scope=row>11</th><td>3453599</td><td> 6473</td><td>1993-01-31</td><td>credit</td><td>NA</td><td> 17.0</td><td>21078.0</td><td>interest credited</td><td>NA</td><td>NA</td></tr>\n",
       "\t<tr><th scope=row>13</th><td>3669814</td><td> 5270</td><td>1993-01-31</td><td>credit</td><td>NA</td><td>110.2</td><td>45659.2</td><td>interest credited</td><td>NA</td><td>NA</td></tr>\n",
       "\t<tr><th scope=row>14</th><td>3479816</td><td> 9307</td><td>1993-01-31</td><td>credit</td><td>NA</td><td>  0.8</td><td> 6182.8</td><td>interest credited</td><td>NA</td><td>NA</td></tr>\n",
       "\t<tr><th scope=row>47</th><td>3673340</td><td> 5891</td><td>1993-02-28</td><td>credit</td><td>NA</td><td> 21.6</td><td>29015.6</td><td>interest credited</td><td>NA</td><td>NA</td></tr>\n",
       "\t<tr><th scope=row>48</th><td>3453600</td><td> 6473</td><td>1993-02-28</td><td>credit</td><td>NA</td><td>102.0</td><td>36270.0</td><td>interest credited</td><td>NA</td><td>NA</td></tr>\n",
       "\t<tr><th scope=row>49</th><td>3509732</td><td> 9265</td><td>1993-02-28</td><td>credit</td><td>NA</td><td> 21.3</td><td>28707.9</td><td>interest credited</td><td>NA</td><td>NA</td></tr>\n",
       "\t<tr><th scope=row>50</th><td>3520588</td><td>10364</td><td>1993-02-28</td><td>credit</td><td>NA</td><td> 38.3</td><td>19831.3</td><td>interest credited</td><td>NA</td><td>NA</td></tr>\n",
       "\t<tr><th scope=row>51</th><td>3657066</td><td> 3834</td><td>1993-02-28</td><td>credit</td><td>NA</td><td> 34.7</td><td>21209.7</td><td>interest credited</td><td>NA</td><td>NA</td></tr>\n",
       "\t<tr><th scope=row>52</th><td>3589600</td><td> 1801</td><td>1993-02-28</td><td>credit</td><td>NA</td><td>  2.9</td><td>  702.9</td><td>interest credited</td><td>NA</td><td>NA</td></tr>\n",
       "\t<tr><th scope=row>53</th><td>3556862</td><td>  813</td><td>1993-02-28</td><td>credit</td><td>NA</td><td> 35.5</td><td>13289.5</td><td>interest credited</td><td>NA</td><td>NA</td></tr>\n",
       "</tbody>\n",
       "</table>\n"
      ],
      "text/latex": [
       "A data.frame: 10 × 10\n",
       "\\begin{tabular}{r|llllllllll}\n",
       "  & trans\\_id & account\\_id & date & type & operation & amount & balance & category & bank & account\\\\\n",
       "  & <int> & <int> & <date> & <chr> & <chr> & <dbl> & <dbl> & <chr> & <chr> & <int>\\\\\n",
       "\\hline\n",
       "\t11 & 3453599 &  6473 & 1993-01-31 & credit & NA &  17.0 & 21078.0 & interest credited & NA & NA\\\\\n",
       "\t13 & 3669814 &  5270 & 1993-01-31 & credit & NA & 110.2 & 45659.2 & interest credited & NA & NA\\\\\n",
       "\t14 & 3479816 &  9307 & 1993-01-31 & credit & NA &   0.8 &  6182.8 & interest credited & NA & NA\\\\\n",
       "\t47 & 3673340 &  5891 & 1993-02-28 & credit & NA &  21.6 & 29015.6 & interest credited & NA & NA\\\\\n",
       "\t48 & 3453600 &  6473 & 1993-02-28 & credit & NA & 102.0 & 36270.0 & interest credited & NA & NA\\\\\n",
       "\t49 & 3509732 &  9265 & 1993-02-28 & credit & NA &  21.3 & 28707.9 & interest credited & NA & NA\\\\\n",
       "\t50 & 3520588 & 10364 & 1993-02-28 & credit & NA &  38.3 & 19831.3 & interest credited & NA & NA\\\\\n",
       "\t51 & 3657066 &  3834 & 1993-02-28 & credit & NA &  34.7 & 21209.7 & interest credited & NA & NA\\\\\n",
       "\t52 & 3589600 &  1801 & 1993-02-28 & credit & NA &   2.9 &   702.9 & interest credited & NA & NA\\\\\n",
       "\t53 & 3556862 &   813 & 1993-02-28 & credit & NA &  35.5 & 13289.5 & interest credited & NA & NA\\\\\n",
       "\\end{tabular}\n"
      ],
      "text/markdown": [
       "\n",
       "A data.frame: 10 × 10\n",
       "\n",
       "| <!--/--> | trans_id &lt;int&gt; | account_id &lt;int&gt; | date &lt;date&gt; | type &lt;chr&gt; | operation &lt;chr&gt; | amount &lt;dbl&gt; | balance &lt;dbl&gt; | category &lt;chr&gt; | bank &lt;chr&gt; | account &lt;int&gt; |\n",
       "|---|---|---|---|---|---|---|---|---|---|---|\n",
       "| 11 | 3453599 |  6473 | 1993-01-31 | credit | NA |  17.0 | 21078.0 | interest credited | NA | NA |\n",
       "| 13 | 3669814 |  5270 | 1993-01-31 | credit | NA | 110.2 | 45659.2 | interest credited | NA | NA |\n",
       "| 14 | 3479816 |  9307 | 1993-01-31 | credit | NA |   0.8 |  6182.8 | interest credited | NA | NA |\n",
       "| 47 | 3673340 |  5891 | 1993-02-28 | credit | NA |  21.6 | 29015.6 | interest credited | NA | NA |\n",
       "| 48 | 3453600 |  6473 | 1993-02-28 | credit | NA | 102.0 | 36270.0 | interest credited | NA | NA |\n",
       "| 49 | 3509732 |  9265 | 1993-02-28 | credit | NA |  21.3 | 28707.9 | interest credited | NA | NA |\n",
       "| 50 | 3520588 | 10364 | 1993-02-28 | credit | NA |  38.3 | 19831.3 | interest credited | NA | NA |\n",
       "| 51 | 3657066 |  3834 | 1993-02-28 | credit | NA |  34.7 | 21209.7 | interest credited | NA | NA |\n",
       "| 52 | 3589600 |  1801 | 1993-02-28 | credit | NA |   2.9 |   702.9 | interest credited | NA | NA |\n",
       "| 53 | 3556862 |   813 | 1993-02-28 | credit | NA |  35.5 | 13289.5 | interest credited | NA | NA |\n",
       "\n"
      ],
      "text/plain": [
       "   trans_id account_id date       type   operation amount balance\n",
       "11 3453599   6473      1993-01-31 credit NA         17.0  21078.0\n",
       "13 3669814   5270      1993-01-31 credit NA        110.2  45659.2\n",
       "14 3479816   9307      1993-01-31 credit NA          0.8   6182.8\n",
       "47 3673340   5891      1993-02-28 credit NA         21.6  29015.6\n",
       "48 3453600   6473      1993-02-28 credit NA        102.0  36270.0\n",
       "49 3509732   9265      1993-02-28 credit NA         21.3  28707.9\n",
       "50 3520588  10364      1993-02-28 credit NA         38.3  19831.3\n",
       "51 3657066   3834      1993-02-28 credit NA         34.7  21209.7\n",
       "52 3589600   1801      1993-02-28 credit NA          2.9    702.9\n",
       "53 3556862    813      1993-02-28 credit NA         35.5  13289.5\n",
       "   category          bank account\n",
       "11 interest credited NA   NA     \n",
       "13 interest credited NA   NA     \n",
       "14 interest credited NA   NA     \n",
       "47 interest credited NA   NA     \n",
       "48 interest credited NA   NA     \n",
       "49 interest credited NA   NA     \n",
       "50 interest credited NA   NA     \n",
       "51 interest credited NA   NA     \n",
       "52 interest credited NA   NA     \n",
       "53 interest credited NA   NA     "
      ]
     },
     "metadata": {},
     "output_type": "display_data"
    }
   ],
   "source": [
    "head(trans_data[is.na(trans_data$operation),], 10)"
   ]
  },
  {
   "cell_type": "markdown",
   "id": "96678e30",
   "metadata": {},
   "source": [
    "Looking at this table, all the values seem to have something in common: the category is \"interest credited\". Let's test this hypotesis by checking what are the possible values for the category when the operation is NA."
   ]
  },
  {
   "cell_type": "code",
   "execution_count": 17,
   "id": "dc35e9ba",
   "metadata": {},
   "outputs": [
    {
     "data": {
      "text/html": [
       "'interest credited'"
      ],
      "text/latex": [
       "'interest credited'"
      ],
      "text/markdown": [
       "'interest credited'"
      ],
      "text/plain": [
       "[1] \"interest credited\""
      ]
     },
     "metadata": {},
     "output_type": "display_data"
    }
   ],
   "source": [
    "unique(trans_data[is.na(trans_data$operation),]$category)"
   ]
  },
  {
   "cell_type": "markdown",
   "id": "0ea4796b",
   "metadata": {},
   "source": [
    "So, now that we confirmed that our hypotesis was right, we can create a new value for operation and call it \"interest credited\". "
   ]
  },
  {
   "cell_type": "code",
   "execution_count": 18,
   "id": "fa5ce5f2",
   "metadata": {},
   "outputs": [],
   "source": [
    "trans_data <- transform(trans_data,\n",
    "  operation = ifelse(\n",
    "    is.na(trans_data$operation) | trans_data$operation == \"\" |\n",
    "      trans_data$operation == \" \",\n",
    "    \"interest credited\",\n",
    "    operation\n",
    "  )\n",
    ")"
   ]
  },
  {
   "cell_type": "code",
   "execution_count": 19,
   "id": "5eebe1ca",
   "metadata": {},
   "outputs": [
    {
     "data": {
      "text/html": [
       "0"
      ],
      "text/latex": [
       "0"
      ],
      "text/markdown": [
       "0"
      ],
      "text/plain": [
       "[1] 0"
      ]
     },
     "metadata": {},
     "output_type": "display_data"
    }
   ],
   "source": [
    "sum(is.na(trans_data$operation))"
   ]
  },
  {
   "cell_type": "markdown",
   "id": "a396ff9d",
   "metadata": {},
   "source": [
    "As a result, we no longer have NA values for the operation attribute."
   ]
  },
  {
   "cell_type": "markdown",
   "id": "1d53399b",
   "metadata": {},
   "source": [
    "Now we try to do the same analysis for the category."
   ]
  },
  {
   "cell_type": "code",
   "execution_count": 20,
   "id": "94b44e30",
   "metadata": {},
   "outputs": [
    {
     "data": {
      "text/html": [
       "<table class=\"dataframe\">\n",
       "<caption>A data.frame: 6 × 10</caption>\n",
       "<thead>\n",
       "\t<tr><th></th><th scope=col>trans_id</th><th scope=col>account_id</th><th scope=col>date</th><th scope=col>type</th><th scope=col>operation</th><th scope=col>amount</th><th scope=col>balance</th><th scope=col>category</th><th scope=col>bank</th><th scope=col>account</th></tr>\n",
       "\t<tr><th></th><th scope=col>&lt;int&gt;</th><th scope=col>&lt;int&gt;</th><th scope=col>&lt;date&gt;</th><th scope=col>&lt;chr&gt;</th><th scope=col>&lt;chr&gt;</th><th scope=col>&lt;dbl&gt;</th><th scope=col>&lt;dbl&gt;</th><th scope=col>&lt;chr&gt;</th><th scope=col>&lt;chr&gt;</th><th scope=col>&lt;int&gt;</th></tr>\n",
       "</thead>\n",
       "<tbody>\n",
       "\t<tr><th scope=row>1</th><td>1548749</td><td> 5270</td><td>1993-01-13</td><td>credit</td><td>credit in cash              </td><td>  800</td><td>  800</td><td>NA</td><td>NA</td><td>      NA</td></tr>\n",
       "\t<tr><th scope=row>2</th><td>1548750</td><td> 5270</td><td>1993-01-14</td><td>credit</td><td>collection from another bank</td><td>44749</td><td>45549</td><td>NA</td><td>IJ</td><td>80269753</td></tr>\n",
       "\t<tr><th scope=row>3</th><td>3393738</td><td>11265</td><td>1993-01-14</td><td>credit</td><td>credit in cash              </td><td> 1000</td><td> 1000</td><td>NA</td><td>NA</td><td>      NA</td></tr>\n",
       "\t<tr><th scope=row>4</th><td>3122924</td><td>10364</td><td>1993-01-17</td><td>credit</td><td>credit in cash              </td><td> 1100</td><td> 1100</td><td>NA</td><td>NA</td><td>      NA</td></tr>\n",
       "\t<tr><th scope=row>5</th><td>1121963</td><td> 3834</td><td>1993-01-19</td><td>credit</td><td>credit in cash              </td><td>  700</td><td>  700</td><td>NA</td><td>NA</td><td>      NA</td></tr>\n",
       "\t<tr><th scope=row>6</th><td>2809952</td><td> 9307</td><td>1993-01-24</td><td>credit</td><td>credit in cash              </td><td>  900</td><td>  900</td><td>NA</td><td>NA</td><td>      NA</td></tr>\n",
       "</tbody>\n",
       "</table>\n"
      ],
      "text/latex": [
       "A data.frame: 6 × 10\n",
       "\\begin{tabular}{r|llllllllll}\n",
       "  & trans\\_id & account\\_id & date & type & operation & amount & balance & category & bank & account\\\\\n",
       "  & <int> & <int> & <date> & <chr> & <chr> & <dbl> & <dbl> & <chr> & <chr> & <int>\\\\\n",
       "\\hline\n",
       "\t1 & 1548749 &  5270 & 1993-01-13 & credit & credit in cash               &   800 &   800 & NA & NA &       NA\\\\\n",
       "\t2 & 1548750 &  5270 & 1993-01-14 & credit & collection from another bank & 44749 & 45549 & NA & IJ & 80269753\\\\\n",
       "\t3 & 3393738 & 11265 & 1993-01-14 & credit & credit in cash               &  1000 &  1000 & NA & NA &       NA\\\\\n",
       "\t4 & 3122924 & 10364 & 1993-01-17 & credit & credit in cash               &  1100 &  1100 & NA & NA &       NA\\\\\n",
       "\t5 & 1121963 &  3834 & 1993-01-19 & credit & credit in cash               &   700 &   700 & NA & NA &       NA\\\\\n",
       "\t6 & 2809952 &  9307 & 1993-01-24 & credit & credit in cash               &   900 &   900 & NA & NA &       NA\\\\\n",
       "\\end{tabular}\n"
      ],
      "text/markdown": [
       "\n",
       "A data.frame: 6 × 10\n",
       "\n",
       "| <!--/--> | trans_id &lt;int&gt; | account_id &lt;int&gt; | date &lt;date&gt; | type &lt;chr&gt; | operation &lt;chr&gt; | amount &lt;dbl&gt; | balance &lt;dbl&gt; | category &lt;chr&gt; | bank &lt;chr&gt; | account &lt;int&gt; |\n",
       "|---|---|---|---|---|---|---|---|---|---|---|\n",
       "| 1 | 1548749 |  5270 | 1993-01-13 | credit | credit in cash               |   800 |   800 | NA | NA |       NA |\n",
       "| 2 | 1548750 |  5270 | 1993-01-14 | credit | collection from another bank | 44749 | 45549 | NA | IJ | 80269753 |\n",
       "| 3 | 3393738 | 11265 | 1993-01-14 | credit | credit in cash               |  1000 |  1000 | NA | NA |       NA |\n",
       "| 4 | 3122924 | 10364 | 1993-01-17 | credit | credit in cash               |  1100 |  1100 | NA | NA |       NA |\n",
       "| 5 | 1121963 |  3834 | 1993-01-19 | credit | credit in cash               |   700 |   700 | NA | NA |       NA |\n",
       "| 6 | 2809952 |  9307 | 1993-01-24 | credit | credit in cash               |   900 |   900 | NA | NA |       NA |\n",
       "\n"
      ],
      "text/plain": [
       "  trans_id account_id date       type   operation                    amount\n",
       "1 1548749   5270      1993-01-13 credit credit in cash                 800 \n",
       "2 1548750   5270      1993-01-14 credit collection from another bank 44749 \n",
       "3 3393738  11265      1993-01-14 credit credit in cash                1000 \n",
       "4 3122924  10364      1993-01-17 credit credit in cash                1100 \n",
       "5 1121963   3834      1993-01-19 credit credit in cash                 700 \n",
       "6 2809952   9307      1993-01-24 credit credit in cash                 900 \n",
       "  balance category bank account \n",
       "1   800   NA       NA         NA\n",
       "2 45549   NA       IJ   80269753\n",
       "3  1000   NA       NA         NA\n",
       "4  1100   NA       NA         NA\n",
       "5   700   NA       NA         NA\n",
       "6   900   NA       NA         NA"
      ]
     },
     "metadata": {},
     "output_type": "display_data"
    }
   ],
   "source": [
    "head(trans_data[is.na(trans_data$category),])"
   ]
  },
  {
   "cell_type": "code",
   "execution_count": 21,
   "id": "e5274362",
   "metadata": {},
   "outputs": [
    {
     "data": {
      "text/html": [
       "<style>\n",
       ".list-inline {list-style: none; margin:0; padding: 0}\n",
       ".list-inline>li {display: inline-block}\n",
       ".list-inline>li:not(:last-child)::after {content: \"\\00b7\"; padding: 0 .5ex}\n",
       "</style>\n",
       "<ol class=list-inline><li>'credit in cash'</li><li>'collection from another bank'</li><li>'withdrawal in cash'</li><li>'remittance to another bank'</li><li>'credit card withdrawal'</li></ol>\n"
      ],
      "text/latex": [
       "\\begin{enumerate*}\n",
       "\\item 'credit in cash'\n",
       "\\item 'collection from another bank'\n",
       "\\item 'withdrawal in cash'\n",
       "\\item 'remittance to another bank'\n",
       "\\item 'credit card withdrawal'\n",
       "\\end{enumerate*}\n"
      ],
      "text/markdown": [
       "1. 'credit in cash'\n",
       "2. 'collection from another bank'\n",
       "3. 'withdrawal in cash'\n",
       "4. 'remittance to another bank'\n",
       "5. 'credit card withdrawal'\n",
       "\n",
       "\n"
      ],
      "text/plain": [
       "[1] \"credit in cash\"               \"collection from another bank\"\n",
       "[3] \"withdrawal in cash\"           \"remittance to another bank\"  \n",
       "[5] \"credit card withdrawal\"      "
      ]
     },
     "metadata": {},
     "output_type": "display_data"
    }
   ],
   "source": [
    "unique(trans_data[is.na(trans_data$category), ]$operation)"
   ]
  },
  {
   "cell_type": "markdown",
   "id": "d14f11ee",
   "metadata": {},
   "source": [
    "This time we were not so lucky, which means we can't do the same thing as before. As such, we decided to mark those as \"other\"."
   ]
  },
  {
   "cell_type": "code",
   "execution_count": 22,
   "id": "bace868b",
   "metadata": {},
   "outputs": [],
   "source": [
    "trans_data$category[is.na(trans_data$category)] <- \"other\""
   ]
  },
  {
   "cell_type": "markdown",
   "id": "674f0629",
   "metadata": {},
   "source": [
    "We then drop the columns that we won't need"
   ]
  },
  {
   "cell_type": "code",
   "execution_count": 23,
   "id": "118e4040",
   "metadata": {},
   "outputs": [],
   "source": [
    "trans_data <- subset(trans_data, select = -c(type))"
   ]
  },
  {
   "cell_type": "markdown",
   "id": "e5b1612a",
   "metadata": {},
   "source": [
    "Now that we did some basic processing of every table, the \"bank\" and \"account\" will be dropped as we drop every column with more than 70% of null values."
   ]
  },
  {
   "cell_type": "code",
   "execution_count": 24,
   "id": "d38033fa",
   "metadata": {},
   "outputs": [],
   "source": [
    "## Remove columns with more than 70% NA\n",
    "account_data <- account_data %>% select(where(~ mean(is.na(.)) < 0.7))\n",
    "card_data <- card_data %>% select(where(~ mean(is.na(.)) < 0.7))\n",
    "client_data <- client_data %>% select(where(~ mean(is.na(.)) < 0.7))\n",
    "district_data <- district_data %>% select(where(~ mean(is.na(.)) < 0.7))\n",
    "disp_data <- disp_data %>% select(where(~ mean(is.na(.)) < 0.7))\n",
    "loan_data <- loan_data %>% select(where(~ mean(is.na(.)) < 0.7))\n",
    "trans_data <- trans_data %>% select(where(~ mean(is.na(.)) < 0.7))"
   ]
  },
  {
   "cell_type": "code",
   "execution_count": 25,
   "id": "3ede7d03",
   "metadata": {},
   "outputs": [
    {
     "data": {
      "text/html": [
       "<style>\n",
       ".dl-inline {width: auto; margin:0; padding: 0}\n",
       ".dl-inline>dt, .dl-inline>dd {float: none; width: auto; display: inline-block}\n",
       ".dl-inline>dt::after {content: \":\\0020\"; padding-right: .5ex}\n",
       ".dl-inline>dt:not(:first-of-type) {padding-left: .5ex}\n",
       "</style><dl class=dl-inline><dt>account_id</dt><dd>0</dd><dt>district_id</dt><dd>0</dd><dt>frequency</dt><dd>0</dd><dt>date</dt><dd>0</dd><dt>acc_creation_date</dt><dd>0</dd><dt>age_days</dt><dd>0</dd></dl>\n"
      ],
      "text/latex": [
       "\\begin{description*}\n",
       "\\item[account\\textbackslash{}\\_id] 0\n",
       "\\item[district\\textbackslash{}\\_id] 0\n",
       "\\item[frequency] 0\n",
       "\\item[date] 0\n",
       "\\item[acc\\textbackslash{}\\_creation\\textbackslash{}\\_date] 0\n",
       "\\item[age\\textbackslash{}\\_days] 0\n",
       "\\end{description*}\n"
      ],
      "text/markdown": [
       "account_id\n",
       ":   0district_id\n",
       ":   0frequency\n",
       ":   0date\n",
       ":   0acc_creation_date\n",
       ":   0age_days\n",
       ":   0\n",
       "\n"
      ],
      "text/plain": [
       "       account_id       district_id         frequency              date \n",
       "                0                 0                 0                 0 \n",
       "acc_creation_date          age_days \n",
       "                0                 0 "
      ]
     },
     "metadata": {},
     "output_type": "display_data"
    },
    {
     "data": {
      "text/html": [
       "<style>\n",
       ".dl-inline {width: auto; margin:0; padding: 0}\n",
       ".dl-inline>dt, .dl-inline>dd {float: none; width: auto; display: inline-block}\n",
       ".dl-inline>dt::after {content: \":\\0020\"; padding-right: .5ex}\n",
       ".dl-inline>dt:not(:first-of-type) {padding-left: .5ex}\n",
       "</style><dl class=dl-inline><dt>card_id</dt><dd>0</dd><dt>disp_id</dt><dd>0</dd><dt>type</dt><dd>0</dd><dt>issued</dt><dd>0</dd></dl>\n"
      ],
      "text/latex": [
       "\\begin{description*}\n",
       "\\item[card\\textbackslash{}\\_id] 0\n",
       "\\item[disp\\textbackslash{}\\_id] 0\n",
       "\\item[type] 0\n",
       "\\item[issued] 0\n",
       "\\end{description*}\n"
      ],
      "text/markdown": [
       "card_id\n",
       ":   0disp_id\n",
       ":   0type\n",
       ":   0issued\n",
       ":   0\n",
       "\n"
      ],
      "text/plain": [
       "card_id disp_id    type  issued \n",
       "      0       0       0       0 "
      ]
     },
     "metadata": {},
     "output_type": "display_data"
    },
    {
     "data": {
      "text/html": [
       "<style>\n",
       ".dl-inline {width: auto; margin:0; padding: 0}\n",
       ".dl-inline>dt, .dl-inline>dd {float: none; width: auto; display: inline-block}\n",
       ".dl-inline>dt::after {content: \":\\0020\"; padding-right: .5ex}\n",
       ".dl-inline>dt:not(:first-of-type) {padding-left: .5ex}\n",
       "</style><dl class=dl-inline><dt>district_id</dt><dd>0</dd><dt>name</dt><dd>0</dd><dt>population</dt><dd>0</dd><dt>urban_ratio</dt><dd>0</dd><dt>average_salary</dt><dd>0</dd><dt>entrepreneur_rate</dt><dd>0</dd><dt>unemployment_rate_avg</dt><dd>0</dd><dt>crimes_rate_per_thousand</dt><dd>0</dd><dt>unemployment_growing</dt><dd>0</dd><dt>crimes_growing</dt><dd>0</dd></dl>\n"
      ],
      "text/latex": [
       "\\begin{description*}\n",
       "\\item[district\\textbackslash{}\\_id] 0\n",
       "\\item[name] 0\n",
       "\\item[population] 0\n",
       "\\item[urban\\textbackslash{}\\_ratio] 0\n",
       "\\item[average\\textbackslash{}\\_salary] 0\n",
       "\\item[entrepreneur\\textbackslash{}\\_rate] 0\n",
       "\\item[unemployment\\textbackslash{}\\_rate\\textbackslash{}\\_avg] 0\n",
       "\\item[crimes\\textbackslash{}\\_rate\\textbackslash{}\\_per\\textbackslash{}\\_thousand] 0\n",
       "\\item[unemployment\\textbackslash{}\\_growing] 0\n",
       "\\item[crimes\\textbackslash{}\\_growing] 0\n",
       "\\end{description*}\n"
      ],
      "text/markdown": [
       "district_id\n",
       ":   0name\n",
       ":   0population\n",
       ":   0urban_ratio\n",
       ":   0average_salary\n",
       ":   0entrepreneur_rate\n",
       ":   0unemployment_rate_avg\n",
       ":   0crimes_rate_per_thousand\n",
       ":   0unemployment_growing\n",
       ":   0crimes_growing\n",
       ":   0\n",
       "\n"
      ],
      "text/plain": [
       "             district_id                     name               population \n",
       "                       0                        0                        0 \n",
       "             urban_ratio           average_salary        entrepreneur_rate \n",
       "                       0                        0                        0 \n",
       "   unemployment_rate_avg crimes_rate_per_thousand     unemployment_growing \n",
       "                       0                        0                        0 \n",
       "          crimes_growing \n",
       "                       0 "
      ]
     },
     "metadata": {},
     "output_type": "display_data"
    },
    {
     "data": {
      "text/html": [
       "<style>\n",
       ".dl-inline {width: auto; margin:0; padding: 0}\n",
       ".dl-inline>dt, .dl-inline>dd {float: none; width: auto; display: inline-block}\n",
       ".dl-inline>dt::after {content: \":\\0020\"; padding-right: .5ex}\n",
       ".dl-inline>dt:not(:first-of-type) {padding-left: .5ex}\n",
       "</style><dl class=dl-inline><dt>disp_id</dt><dd>0</dd><dt>client_id</dt><dd>0</dd><dt>account_id</dt><dd>0</dd><dt>type</dt><dd>0</dd></dl>\n"
      ],
      "text/latex": [
       "\\begin{description*}\n",
       "\\item[disp\\textbackslash{}\\_id] 0\n",
       "\\item[client\\textbackslash{}\\_id] 0\n",
       "\\item[account\\textbackslash{}\\_id] 0\n",
       "\\item[type] 0\n",
       "\\end{description*}\n"
      ],
      "text/markdown": [
       "disp_id\n",
       ":   0client_id\n",
       ":   0account_id\n",
       ":   0type\n",
       ":   0\n",
       "\n"
      ],
      "text/plain": [
       "   disp_id  client_id account_id       type \n",
       "         0          0          0          0 "
      ]
     },
     "metadata": {},
     "output_type": "display_data"
    },
    {
     "data": {
      "text/html": [
       "<style>\n",
       ".dl-inline {width: auto; margin:0; padding: 0}\n",
       ".dl-inline>dt, .dl-inline>dd {float: none; width: auto; display: inline-block}\n",
       ".dl-inline>dt::after {content: \":\\0020\"; padding-right: .5ex}\n",
       ".dl-inline>dt:not(:first-of-type) {padding-left: .5ex}\n",
       "</style><dl class=dl-inline><dt>loan_id</dt><dd>0</dd><dt>account_id</dt><dd>0</dd><dt>date</dt><dd>0</dd><dt>amount</dt><dd>0</dd><dt>duration</dt><dd>0</dd><dt>payments</dt><dd>0</dd><dt>status</dt><dd>0</dd></dl>\n"
      ],
      "text/latex": [
       "\\begin{description*}\n",
       "\\item[loan\\textbackslash{}\\_id] 0\n",
       "\\item[account\\textbackslash{}\\_id] 0\n",
       "\\item[date] 0\n",
       "\\item[amount] 0\n",
       "\\item[duration] 0\n",
       "\\item[payments] 0\n",
       "\\item[status] 0\n",
       "\\end{description*}\n"
      ],
      "text/markdown": [
       "loan_id\n",
       ":   0account_id\n",
       ":   0date\n",
       ":   0amount\n",
       ":   0duration\n",
       ":   0payments\n",
       ":   0status\n",
       ":   0\n",
       "\n"
      ],
      "text/plain": [
       "   loan_id account_id       date     amount   duration   payments     status \n",
       "         0          0          0          0          0          0          0 "
      ]
     },
     "metadata": {},
     "output_type": "display_data"
    },
    {
     "data": {
      "text/html": [
       "<style>\n",
       ".dl-inline {width: auto; margin:0; padding: 0}\n",
       ".dl-inline>dt, .dl-inline>dd {float: none; width: auto; display: inline-block}\n",
       ".dl-inline>dt::after {content: \":\\0020\"; padding-right: .5ex}\n",
       ".dl-inline>dt:not(:first-of-type) {padding-left: .5ex}\n",
       "</style><dl class=dl-inline><dt>trans_id</dt><dd>0</dd><dt>account_id</dt><dd>0</dd><dt>date</dt><dd>0</dd><dt>operation</dt><dd>0</dd><dt>amount</dt><dd>0</dd><dt>balance</dt><dd>0</dd><dt>category</dt><dd>0</dd></dl>\n"
      ],
      "text/latex": [
       "\\begin{description*}\n",
       "\\item[trans\\textbackslash{}\\_id] 0\n",
       "\\item[account\\textbackslash{}\\_id] 0\n",
       "\\item[date] 0\n",
       "\\item[operation] 0\n",
       "\\item[amount] 0\n",
       "\\item[balance] 0\n",
       "\\item[category] 0\n",
       "\\end{description*}\n"
      ],
      "text/markdown": [
       "trans_id\n",
       ":   0account_id\n",
       ":   0date\n",
       ":   0operation\n",
       ":   0amount\n",
       ":   0balance\n",
       ":   0category\n",
       ":   0\n",
       "\n"
      ],
      "text/plain": [
       "  trans_id account_id       date  operation     amount    balance   category \n",
       "         0          0          0          0          0          0          0 "
      ]
     },
     "metadata": {},
     "output_type": "display_data"
    }
   ],
   "source": [
    "colSums(is.na(account_data))\n",
    "colSums(is.na(card_data))\n",
    "colSums(is.na(district_data))\n",
    "colSums(is.na(disp_data))\n",
    "colSums(is.na(loan_data))\n",
    "colSums(is.na(trans_data))"
   ]
  },
  {
   "cell_type": "markdown",
   "id": "3b9c12a1",
   "metadata": {},
   "source": [
    "Now that no column has NA values, we can understand it's data better."
   ]
  },
  {
   "cell_type": "code",
   "execution_count": null,
   "id": "5ba65bd6",
   "metadata": {},
   "outputs": [],
   "source": []
  },
  {
   "cell_type": "markdown",
   "id": "e2930dcf",
   "metadata": {},
   "source": [
    "## Aggregate the transactions data\n",
    "\n",
    "The transactions dataframe is the biggest one, and in order to relate it to the loan table, where our target variable is, we need to aggregate it by account_id."
   ]
  },
  {
   "cell_type": "code",
   "execution_count": 26,
   "id": "7f6e6089",
   "metadata": {},
   "outputs": [],
   "source": [
    "# Aggregate transactions data\n",
    "aggregated_trans <- trans_data %>%\n",
    "  # Group by account\n",
    "  group_by(account_id) %>%\n",
    "  arrange(date, .by_group = TRUE) %>%\n",
    "  # Add number of transactions per account\n",
    "  mutate(trans_count = n()) %>%\n",
    "  # Count credits/withdrawals\n",
    "  mutate(credit_count = sum(amount >= 0)) %>%\n",
    "  mutate(credit_ratio = mean(amount >= 0)) %>%\n",
    "  mutate(withdrawal_count = sum(amount < 0)) %>%\n",
    "  mutate(withdrawal_ratio = mean(amount < 0)) %>%\n",
    "  # Amount stats\n",
    "  mutate(smallest_transaction = amount[which.min(abs(amount))][1]) %>%\n",
    "  mutate(biggest_transaction = amount[which.max(abs(amount))][1]) %>%\n",
    "  mutate(transactions_net = sum(amount)) %>%\n",
    "  # Balance stats\n",
    "  mutate(balance_min = min(balance)) %>%\n",
    "  mutate(balance_max = max(balance)) %>%\n",
    "  mutate(current_balance = last(balance)) %>%\n",
    "  mutate(times_negative_balance = sum(balance < 0)) %>%\n",
    "  # Operation ratios\n",
    "  mutate(credit_cash_ratio =\n",
    "    mean(as.character(operation) == \"credit in cash\")) %>%\n",
    "  mutate(collection_bank_ratio =\n",
    "    mean(as.character(operation) == \"collection from another bank\")) %>%\n",
    "  mutate(interest_ratio =\n",
    "    mean(as.character(operation) == \"interest credited\")) %>%\n",
    "  mutate(withdrawal_cash_ratio =\n",
    "    mean(as.character(operation) == \"withdrawal in cash\")) %>%\n",
    "  mutate(remittance_bank_ratio =\n",
    "    mean(as.character(operation) == \"remittance to another bank\")) %>%\n",
    "  mutate(withdrawal_card_ratio =\n",
    "    mean(as.character(operation) == \"credit card withdrawal\")) %>%\n",
    "  mutate(sanctions =\n",
    "    sum(as.character(category) == \"sanction interest if negative balance\")) %>%\n",
    "\n",
    "  distinct()\n",
    "\n",
    "\n",
    "trans_agg <- subset(aggregated_trans, select =\n",
    "  -c(trans_id, operation, amount, balance, date, category)\n",
    ")\n"
   ]
  },
  {
   "cell_type": "code",
   "execution_count": 27,
   "id": "d5a54718",
   "metadata": {},
   "outputs": [
    {
     "data": {
      "text/html": [
       "<table class=\"dataframe\">\n",
       "<caption>A grouped_df: 6 × 26</caption>\n",
       "<thead>\n",
       "\t<tr><th scope=col>trans_id</th><th scope=col>account_id</th><th scope=col>date</th><th scope=col>operation</th><th scope=col>amount</th><th scope=col>balance</th><th scope=col>category</th><th scope=col>trans_count</th><th scope=col>credit_count</th><th scope=col>credit_ratio</th><th scope=col>⋯</th><th scope=col>balance_max</th><th scope=col>current_balance</th><th scope=col>times_negative_balance</th><th scope=col>credit_cash_ratio</th><th scope=col>collection_bank_ratio</th><th scope=col>interest_ratio</th><th scope=col>withdrawal_cash_ratio</th><th scope=col>remittance_bank_ratio</th><th scope=col>withdrawal_card_ratio</th><th scope=col>sanctions</th></tr>\n",
       "\t<tr><th scope=col>&lt;int&gt;</th><th scope=col>&lt;int&gt;</th><th scope=col>&lt;date&gt;</th><th scope=col>&lt;chr&gt;</th><th scope=col>&lt;dbl&gt;</th><th scope=col>&lt;dbl&gt;</th><th scope=col>&lt;chr&gt;</th><th scope=col>&lt;int&gt;</th><th scope=col>&lt;int&gt;</th><th scope=col>&lt;dbl&gt;</th><th scope=col>⋯</th><th scope=col>&lt;dbl&gt;</th><th scope=col>&lt;dbl&gt;</th><th scope=col>&lt;int&gt;</th><th scope=col>&lt;dbl&gt;</th><th scope=col>&lt;dbl&gt;</th><th scope=col>&lt;dbl&gt;</th><th scope=col>&lt;dbl&gt;</th><th scope=col>&lt;dbl&gt;</th><th scope=col>&lt;dbl&gt;</th><th scope=col>&lt;int&gt;</th></tr>\n",
       "</thead>\n",
       "<tbody>\n",
       "\t<tr><td>      1</td><td>1</td><td>1995-03-24</td><td>credit in cash              </td><td> 1000.0</td><td> 1000.0</td><td>other            </td><td>113</td><td>50</td><td>0.4424779</td><td>⋯</td><td>30414.8</td><td>12674.5</td><td>0</td><td>0.07079646</td><td>0.1858407</td><td>0.1858407</td><td>0.4159292</td><td>0.1415929</td><td>0</td><td>0</td></tr>\n",
       "\t<tr><td>      5</td><td>1</td><td>1995-04-13</td><td>collection from another bank</td><td> 3679.0</td><td> 4679.0</td><td>other            </td><td>113</td><td>50</td><td>0.4424779</td><td>⋯</td><td>30414.8</td><td>12674.5</td><td>0</td><td>0.07079646</td><td>0.1858407</td><td>0.1858407</td><td>0.4159292</td><td>0.1415929</td><td>0</td><td>0</td></tr>\n",
       "\t<tr><td>    199</td><td>1</td><td>1995-04-23</td><td>credit in cash              </td><td>12600.0</td><td>17279.0</td><td>other            </td><td>113</td><td>50</td><td>0.4424779</td><td>⋯</td><td>30414.8</td><td>12674.5</td><td>0</td><td>0.07079646</td><td>0.1858407</td><td>0.1858407</td><td>0.4159292</td><td>0.1415929</td><td>0</td><td>0</td></tr>\n",
       "\t<tr><td>3530438</td><td>1</td><td>1995-04-30</td><td>interest credited           </td><td>   19.2</td><td>17298.2</td><td>interest credited</td><td>113</td><td>50</td><td>0.4424779</td><td>⋯</td><td>30414.8</td><td>12674.5</td><td>0</td><td>0.07079646</td><td>0.1858407</td><td>0.1858407</td><td>0.4159292</td><td>0.1415929</td><td>0</td><td>0</td></tr>\n",
       "\t<tr><td>      6</td><td>1</td><td>1995-05-13</td><td>collection from another bank</td><td> 3679.0</td><td>20977.2</td><td>other            </td><td>113</td><td>50</td><td>0.4424779</td><td>⋯</td><td>30414.8</td><td>12674.5</td><td>0</td><td>0.07079646</td><td>0.1858407</td><td>0.1858407</td><td>0.4159292</td><td>0.1415929</td><td>0</td><td>0</td></tr>\n",
       "\t<tr><td>    200</td><td>1</td><td>1995-05-23</td><td>credit in cash              </td><td> 2100.0</td><td>23077.2</td><td>other            </td><td>113</td><td>50</td><td>0.4424779</td><td>⋯</td><td>30414.8</td><td>12674.5</td><td>0</td><td>0.07079646</td><td>0.1858407</td><td>0.1858407</td><td>0.4159292</td><td>0.1415929</td><td>0</td><td>0</td></tr>\n",
       "</tbody>\n",
       "</table>\n"
      ],
      "text/latex": [
       "A grouped\\_df: 6 × 26\n",
       "\\begin{tabular}{lllllllllllllllllllll}\n",
       " trans\\_id & account\\_id & date & operation & amount & balance & category & trans\\_count & credit\\_count & credit\\_ratio & ⋯ & balance\\_max & current\\_balance & times\\_negative\\_balance & credit\\_cash\\_ratio & collection\\_bank\\_ratio & interest\\_ratio & withdrawal\\_cash\\_ratio & remittance\\_bank\\_ratio & withdrawal\\_card\\_ratio & sanctions\\\\\n",
       " <int> & <int> & <date> & <chr> & <dbl> & <dbl> & <chr> & <int> & <int> & <dbl> & ⋯ & <dbl> & <dbl> & <int> & <dbl> & <dbl> & <dbl> & <dbl> & <dbl> & <dbl> & <int>\\\\\n",
       "\\hline\n",
       "\t       1 & 1 & 1995-03-24 & credit in cash               &  1000.0 &  1000.0 & other             & 113 & 50 & 0.4424779 & ⋯ & 30414.8 & 12674.5 & 0 & 0.07079646 & 0.1858407 & 0.1858407 & 0.4159292 & 0.1415929 & 0 & 0\\\\\n",
       "\t       5 & 1 & 1995-04-13 & collection from another bank &  3679.0 &  4679.0 & other             & 113 & 50 & 0.4424779 & ⋯ & 30414.8 & 12674.5 & 0 & 0.07079646 & 0.1858407 & 0.1858407 & 0.4159292 & 0.1415929 & 0 & 0\\\\\n",
       "\t     199 & 1 & 1995-04-23 & credit in cash               & 12600.0 & 17279.0 & other             & 113 & 50 & 0.4424779 & ⋯ & 30414.8 & 12674.5 & 0 & 0.07079646 & 0.1858407 & 0.1858407 & 0.4159292 & 0.1415929 & 0 & 0\\\\\n",
       "\t 3530438 & 1 & 1995-04-30 & interest credited            &    19.2 & 17298.2 & interest credited & 113 & 50 & 0.4424779 & ⋯ & 30414.8 & 12674.5 & 0 & 0.07079646 & 0.1858407 & 0.1858407 & 0.4159292 & 0.1415929 & 0 & 0\\\\\n",
       "\t       6 & 1 & 1995-05-13 & collection from another bank &  3679.0 & 20977.2 & other             & 113 & 50 & 0.4424779 & ⋯ & 30414.8 & 12674.5 & 0 & 0.07079646 & 0.1858407 & 0.1858407 & 0.4159292 & 0.1415929 & 0 & 0\\\\\n",
       "\t     200 & 1 & 1995-05-23 & credit in cash               &  2100.0 & 23077.2 & other             & 113 & 50 & 0.4424779 & ⋯ & 30414.8 & 12674.5 & 0 & 0.07079646 & 0.1858407 & 0.1858407 & 0.4159292 & 0.1415929 & 0 & 0\\\\\n",
       "\\end{tabular}\n"
      ],
      "text/markdown": [
       "\n",
       "A grouped_df: 6 × 26\n",
       "\n",
       "| trans_id &lt;int&gt; | account_id &lt;int&gt; | date &lt;date&gt; | operation &lt;chr&gt; | amount &lt;dbl&gt; | balance &lt;dbl&gt; | category &lt;chr&gt; | trans_count &lt;int&gt; | credit_count &lt;int&gt; | credit_ratio &lt;dbl&gt; | ⋯ ⋯ | balance_max &lt;dbl&gt; | current_balance &lt;dbl&gt; | times_negative_balance &lt;int&gt; | credit_cash_ratio &lt;dbl&gt; | collection_bank_ratio &lt;dbl&gt; | interest_ratio &lt;dbl&gt; | withdrawal_cash_ratio &lt;dbl&gt; | remittance_bank_ratio &lt;dbl&gt; | withdrawal_card_ratio &lt;dbl&gt; | sanctions &lt;int&gt; |\n",
       "|---|---|---|---|---|---|---|---|---|---|---|---|---|---|---|---|---|---|---|---|---|\n",
       "|       1 | 1 | 1995-03-24 | credit in cash               |  1000.0 |  1000.0 | other             | 113 | 50 | 0.4424779 | ⋯ | 30414.8 | 12674.5 | 0 | 0.07079646 | 0.1858407 | 0.1858407 | 0.4159292 | 0.1415929 | 0 | 0 |\n",
       "|       5 | 1 | 1995-04-13 | collection from another bank |  3679.0 |  4679.0 | other             | 113 | 50 | 0.4424779 | ⋯ | 30414.8 | 12674.5 | 0 | 0.07079646 | 0.1858407 | 0.1858407 | 0.4159292 | 0.1415929 | 0 | 0 |\n",
       "|     199 | 1 | 1995-04-23 | credit in cash               | 12600.0 | 17279.0 | other             | 113 | 50 | 0.4424779 | ⋯ | 30414.8 | 12674.5 | 0 | 0.07079646 | 0.1858407 | 0.1858407 | 0.4159292 | 0.1415929 | 0 | 0 |\n",
       "| 3530438 | 1 | 1995-04-30 | interest credited            |    19.2 | 17298.2 | interest credited | 113 | 50 | 0.4424779 | ⋯ | 30414.8 | 12674.5 | 0 | 0.07079646 | 0.1858407 | 0.1858407 | 0.4159292 | 0.1415929 | 0 | 0 |\n",
       "|       6 | 1 | 1995-05-13 | collection from another bank |  3679.0 | 20977.2 | other             | 113 | 50 | 0.4424779 | ⋯ | 30414.8 | 12674.5 | 0 | 0.07079646 | 0.1858407 | 0.1858407 | 0.4159292 | 0.1415929 | 0 | 0 |\n",
       "|     200 | 1 | 1995-05-23 | credit in cash               |  2100.0 | 23077.2 | other             | 113 | 50 | 0.4424779 | ⋯ | 30414.8 | 12674.5 | 0 | 0.07079646 | 0.1858407 | 0.1858407 | 0.4159292 | 0.1415929 | 0 | 0 |\n",
       "\n"
      ],
      "text/plain": [
       "  trans_id account_id date       operation                    amount  balance\n",
       "1       1  1          1995-03-24 credit in cash                1000.0  1000.0\n",
       "2       5  1          1995-04-13 collection from another bank  3679.0  4679.0\n",
       "3     199  1          1995-04-23 credit in cash               12600.0 17279.0\n",
       "4 3530438  1          1995-04-30 interest credited               19.2 17298.2\n",
       "5       6  1          1995-05-13 collection from another bank  3679.0 20977.2\n",
       "6     200  1          1995-05-23 credit in cash                2100.0 23077.2\n",
       "  category          trans_count credit_count credit_ratio ⋯ balance_max\n",
       "1 other             113         50           0.4424779    ⋯ 30414.8    \n",
       "2 other             113         50           0.4424779    ⋯ 30414.8    \n",
       "3 other             113         50           0.4424779    ⋯ 30414.8    \n",
       "4 interest credited 113         50           0.4424779    ⋯ 30414.8    \n",
       "5 other             113         50           0.4424779    ⋯ 30414.8    \n",
       "6 other             113         50           0.4424779    ⋯ 30414.8    \n",
       "  current_balance times_negative_balance credit_cash_ratio\n",
       "1 12674.5         0                      0.07079646       \n",
       "2 12674.5         0                      0.07079646       \n",
       "3 12674.5         0                      0.07079646       \n",
       "4 12674.5         0                      0.07079646       \n",
       "5 12674.5         0                      0.07079646       \n",
       "6 12674.5         0                      0.07079646       \n",
       "  collection_bank_ratio interest_ratio withdrawal_cash_ratio\n",
       "1 0.1858407             0.1858407      0.4159292            \n",
       "2 0.1858407             0.1858407      0.4159292            \n",
       "3 0.1858407             0.1858407      0.4159292            \n",
       "4 0.1858407             0.1858407      0.4159292            \n",
       "5 0.1858407             0.1858407      0.4159292            \n",
       "6 0.1858407             0.1858407      0.4159292            \n",
       "  remittance_bank_ratio withdrawal_card_ratio sanctions\n",
       "1 0.1415929             0                     0        \n",
       "2 0.1415929             0                     0        \n",
       "3 0.1415929             0                     0        \n",
       "4 0.1415929             0                     0        \n",
       "5 0.1415929             0                     0        \n",
       "6 0.1415929             0                     0        "
      ]
     },
     "metadata": {},
     "output_type": "display_data"
    }
   ],
   "source": [
    "head(aggregated_trans)"
   ]
  },
  {
   "cell_type": "markdown",
   "id": "b352cba8",
   "metadata": {},
   "source": [
    "With this, we created some new variables:\n",
    "\n",
    "- **trans_count**: number of transactions for the account;\n",
    "- **credit_count**: number of positive transactions for the account;\n",
    "- **credit_ratio**: ratio of positive transactions for the account;\n",
    "- **withdrawal_count**: number of negative transactions for the account;\n",
    "- **withdrawal_ratio**: ratio of negative transactions for the account;\n",
    "- **smallest_transaction**: smallest transaction for the account;\n",
    "- **biggest_transaction**: biggest transaction for the account;\n",
    "- **transactions_net**: difference of all money that entered and left the account;\n",
    "- **balance_min**: lowest balance the account has had;\n",
    "- **balance_max**: highest balance the account has had;\n",
    "- **current_balance**: current balance;\n",
    "- **times_negative_balance**: number of times the account's balance has been negative;\n",
    "- **credit_cash_ratio**: ratio of \"credit in cash\" operations;\n",
    "- **collection_bank_ratio**: ratio of \"collection from another bank\" operations;\n",
    "- **interest_ratio**: ratio of \"interest credited\" operations;\n",
    "- **withdrawal_cash_ratio**: ratio of \"withdrawal in cash\" operations;\n",
    "- **remittance_bank_ratio**: ratio of \"remittance to another bank\" operations;\n",
    "- **withdrawal_card_ratio**: ratio of \"credit card withdrawal\" operations;\n",
    "- **sanctions**: number of \"sanction interest if negative balance\" operations;\n",
    "\n",
    "And dropped the variables that were now redundant: trans_id, operation, amount, balance, date and category."
   ]
  },
  {
   "cell_type": "markdown",
   "id": "25181a33",
   "metadata": {},
   "source": [
    "## Merging the data\n",
    "\n",
    "Now that the data is ready, we will join every table and derive new attributes."
   ]
  },
  {
   "cell_type": "code",
   "execution_count": 28,
   "id": "f32e3480",
   "metadata": {},
   "outputs": [],
   "source": [
    "last_transaction <- max(trans_data$date) # need to calculate age\n",
    "\n",
    "data <- loan_data %>%\n",
    "  rename(loan_date = date) %>%\n",
    "  left_join(account_data, by = \"account_id\") %>%\n",
    "  left_join(trans_agg, by = \"account_id\") %>%\n",
    "  mutate(transactions_net = transactions_net / age_days) %>%\n",
    "  mutate(sanctions_rate = sanctions / age_days) %>%\n",
    "  rename(daily_transactions_net = transactions_net) %>%\n",
    "  left_join(disp_data, by = \"account_id\") %>%\n",
    "  filter(type == \"OWNER\") %>%\n",
    "  select(-age_days, -type, -sanctions) %>%\n",
    "  left_join(card_data, \"disp_id\") %>%\n",
    "  mutate(has_card = ifelse(!is.na(card_id), 1, 0)) %>%\n",
    "  mutate(is_gold = ifelse((!is.na(type) & type == \"gold\"), 1, 0)) %>%\n",
    "  select(-card_id, -type, -issued) %>%\n",
    "  left_join(client_data, by = \"client_id\") %>%\n",
    "  mutate(client_age = trunc(as.numeric(\n",
    "  difftime(as.Date(last_transaction), birthday, units = \"weeks\")\n",
    ") / 52.25)) %>%\n",
    "  left_join(district_data, by = \"district_id\") %>%\n",
    "  select(-c(name)) %>%\n",
    "  mutate(can_afford_loan = ifelse(average_salary > payments, 1, 0)) %>%\n",
    "  mutate(can_pay_until = current_balance / payments) %>%\n",
    "  mutate(acc_age_when_loan = trunc(as.numeric(\n",
    "    difftime(loan_date, acc_creation_date, units = \"days\")))\n",
    "  ) %>%\n",
    "  select(-c(acc_creation_date, account_id, district_id, date,\n",
    "    disp_id, client_id\n",
    "  )) %>%\n",
    "\n",
    "  distinct()"
   ]
  },
  {
   "cell_type": "code",
   "execution_count": 29,
   "id": "df33eed1",
   "metadata": {},
   "outputs": [
    {
     "data": {
      "text/html": [
       "<table class=\"dataframe\">\n",
       "<caption>A data.frame: 6 × 42</caption>\n",
       "<thead>\n",
       "\t<tr><th></th><th scope=col>loan_id</th><th scope=col>loan_date</th><th scope=col>amount</th><th scope=col>duration</th><th scope=col>payments</th><th scope=col>status</th><th scope=col>frequency</th><th scope=col>trans_count</th><th scope=col>credit_count</th><th scope=col>credit_ratio</th><th scope=col>⋯</th><th scope=col>urban_ratio</th><th scope=col>average_salary</th><th scope=col>entrepreneur_rate</th><th scope=col>unemployment_rate_avg</th><th scope=col>crimes_rate_per_thousand</th><th scope=col>unemployment_growing</th><th scope=col>crimes_growing</th><th scope=col>can_afford_loan</th><th scope=col>can_pay_until</th><th scope=col>acc_age_when_loan</th></tr>\n",
       "\t<tr><th></th><th scope=col>&lt;int&gt;</th><th scope=col>&lt;date&gt;</th><th scope=col>&lt;int&gt;</th><th scope=col>&lt;int&gt;</th><th scope=col>&lt;int&gt;</th><th scope=col>&lt;int&gt;</th><th scope=col>&lt;chr&gt;</th><th scope=col>&lt;int&gt;</th><th scope=col>&lt;int&gt;</th><th scope=col>&lt;dbl&gt;</th><th scope=col>⋯</th><th scope=col>&lt;dbl&gt;</th><th scope=col>&lt;int&gt;</th><th scope=col>&lt;int&gt;</th><th scope=col>&lt;dbl&gt;</th><th scope=col>&lt;dbl&gt;</th><th scope=col>&lt;dbl&gt;</th><th scope=col>&lt;dbl&gt;</th><th scope=col>&lt;dbl&gt;</th><th scope=col>&lt;dbl&gt;</th><th scope=col>&lt;dbl&gt;</th></tr>\n",
       "</thead>\n",
       "<tbody>\n",
       "\t<tr><th scope=row>1</th><td>5314</td><td>1993-07-05</td><td> 96396</td><td>12</td><td>8033</td><td>-1</td><td>weekly issuance </td><td> 4</td><td> 4</td><td>1.0000000</td><td>⋯</td><td> 81.8</td><td> 9650</td><td>100</td><td>5.215</td><td>0.0550035860</td><td>1</td><td>0</td><td>1</td><td> 2.502179</td><td>105</td></tr>\n",
       "\t<tr><th scope=row>2</th><td>5316</td><td>1993-07-11</td><td>165960</td><td>36</td><td>4610</td><td> 1</td><td>monthly issuance</td><td>37</td><td>17</td><td>0.4594595</td><td>⋯</td><td> 73.5</td><td> 8369</td><td>117</td><td>2.945</td><td>0.0261292355</td><td>1</td><td>0</td><td>1</td><td>11.325141</td><td>148</td></tr>\n",
       "\t<tr><th scope=row>3</th><td>6863</td><td>1993-07-28</td><td>127080</td><td>60</td><td>2118</td><td> 1</td><td>monthly issuance</td><td>24</td><td>15</td><td>0.6250000</td><td>⋯</td><td> 53.5</td><td> 8390</td><td>132</td><td>3.725</td><td>0.0478072821</td><td>1</td><td>1</td><td>1</td><td> 9.571671</td><td>170</td></tr>\n",
       "\t<tr><th scope=row>4</th><td>5325</td><td>1993-08-03</td><td>105804</td><td>36</td><td>2939</td><td> 1</td><td>monthly issuance</td><td>25</td><td>13</td><td>0.5200000</td><td>⋯</td><td> 58.0</td><td> 8754</td><td>137</td><td>5.985</td><td>0.0554834523</td><td>1</td><td>1</td><td>1</td><td>11.668152</td><td>185</td></tr>\n",
       "\t<tr><th scope=row>5</th><td>7240</td><td>1993-09-06</td><td>274740</td><td>60</td><td>4579</td><td> 1</td><td>weekly issuance </td><td>27</td><td>13</td><td>0.4814815</td><td>⋯</td><td>100.0</td><td>12541</td><td>167</td><td>0.505</td><td>0.0004191035</td><td>1</td><td>1</td><td>1</td><td> 8.985128</td><td>204</td></tr>\n",
       "\t<tr><th scope=row>6</th><td>6687</td><td>1993-09-13</td><td> 87840</td><td>24</td><td>3660</td><td> 1</td><td>monthly issuance</td><td>17</td><td>14</td><td>0.8235294</td><td>⋯</td><td> 41.3</td><td> 8598</td><td>123</td><td>4.400</td><td>0.0816008605</td><td>1</td><td>1</td><td>1</td><td>11.980273</td><td>124</td></tr>\n",
       "</tbody>\n",
       "</table>\n"
      ],
      "text/latex": [
       "A data.frame: 6 × 42\n",
       "\\begin{tabular}{r|lllllllllllllllllllll}\n",
       "  & loan\\_id & loan\\_date & amount & duration & payments & status & frequency & trans\\_count & credit\\_count & credit\\_ratio & ⋯ & urban\\_ratio & average\\_salary & entrepreneur\\_rate & unemployment\\_rate\\_avg & crimes\\_rate\\_per\\_thousand & unemployment\\_growing & crimes\\_growing & can\\_afford\\_loan & can\\_pay\\_until & acc\\_age\\_when\\_loan\\\\\n",
       "  & <int> & <date> & <int> & <int> & <int> & <int> & <chr> & <int> & <int> & <dbl> & ⋯ & <dbl> & <int> & <int> & <dbl> & <dbl> & <dbl> & <dbl> & <dbl> & <dbl> & <dbl>\\\\\n",
       "\\hline\n",
       "\t1 & 5314 & 1993-07-05 &  96396 & 12 & 8033 & -1 & weekly issuance  &  4 &  4 & 1.0000000 & ⋯ &  81.8 &  9650 & 100 & 5.215 & 0.0550035860 & 1 & 0 & 1 &  2.502179 & 105\\\\\n",
       "\t2 & 5316 & 1993-07-11 & 165960 & 36 & 4610 &  1 & monthly issuance & 37 & 17 & 0.4594595 & ⋯ &  73.5 &  8369 & 117 & 2.945 & 0.0261292355 & 1 & 0 & 1 & 11.325141 & 148\\\\\n",
       "\t3 & 6863 & 1993-07-28 & 127080 & 60 & 2118 &  1 & monthly issuance & 24 & 15 & 0.6250000 & ⋯ &  53.5 &  8390 & 132 & 3.725 & 0.0478072821 & 1 & 1 & 1 &  9.571671 & 170\\\\\n",
       "\t4 & 5325 & 1993-08-03 & 105804 & 36 & 2939 &  1 & monthly issuance & 25 & 13 & 0.5200000 & ⋯ &  58.0 &  8754 & 137 & 5.985 & 0.0554834523 & 1 & 1 & 1 & 11.668152 & 185\\\\\n",
       "\t5 & 7240 & 1993-09-06 & 274740 & 60 & 4579 &  1 & weekly issuance  & 27 & 13 & 0.4814815 & ⋯ & 100.0 & 12541 & 167 & 0.505 & 0.0004191035 & 1 & 1 & 1 &  8.985128 & 204\\\\\n",
       "\t6 & 6687 & 1993-09-13 &  87840 & 24 & 3660 &  1 & monthly issuance & 17 & 14 & 0.8235294 & ⋯ &  41.3 &  8598 & 123 & 4.400 & 0.0816008605 & 1 & 1 & 1 & 11.980273 & 124\\\\\n",
       "\\end{tabular}\n"
      ],
      "text/markdown": [
       "\n",
       "A data.frame: 6 × 42\n",
       "\n",
       "| <!--/--> | loan_id &lt;int&gt; | loan_date &lt;date&gt; | amount &lt;int&gt; | duration &lt;int&gt; | payments &lt;int&gt; | status &lt;int&gt; | frequency &lt;chr&gt; | trans_count &lt;int&gt; | credit_count &lt;int&gt; | credit_ratio &lt;dbl&gt; | ⋯ ⋯ | urban_ratio &lt;dbl&gt; | average_salary &lt;int&gt; | entrepreneur_rate &lt;int&gt; | unemployment_rate_avg &lt;dbl&gt; | crimes_rate_per_thousand &lt;dbl&gt; | unemployment_growing &lt;dbl&gt; | crimes_growing &lt;dbl&gt; | can_afford_loan &lt;dbl&gt; | can_pay_until &lt;dbl&gt; | acc_age_when_loan &lt;dbl&gt; |\n",
       "|---|---|---|---|---|---|---|---|---|---|---|---|---|---|---|---|---|---|---|---|---|---|\n",
       "| 1 | 5314 | 1993-07-05 |  96396 | 12 | 8033 | -1 | weekly issuance  |  4 |  4 | 1.0000000 | ⋯ |  81.8 |  9650 | 100 | 5.215 | 0.0550035860 | 1 | 0 | 1 |  2.502179 | 105 |\n",
       "| 2 | 5316 | 1993-07-11 | 165960 | 36 | 4610 |  1 | monthly issuance | 37 | 17 | 0.4594595 | ⋯ |  73.5 |  8369 | 117 | 2.945 | 0.0261292355 | 1 | 0 | 1 | 11.325141 | 148 |\n",
       "| 3 | 6863 | 1993-07-28 | 127080 | 60 | 2118 |  1 | monthly issuance | 24 | 15 | 0.6250000 | ⋯ |  53.5 |  8390 | 132 | 3.725 | 0.0478072821 | 1 | 1 | 1 |  9.571671 | 170 |\n",
       "| 4 | 5325 | 1993-08-03 | 105804 | 36 | 2939 |  1 | monthly issuance | 25 | 13 | 0.5200000 | ⋯ |  58.0 |  8754 | 137 | 5.985 | 0.0554834523 | 1 | 1 | 1 | 11.668152 | 185 |\n",
       "| 5 | 7240 | 1993-09-06 | 274740 | 60 | 4579 |  1 | weekly issuance  | 27 | 13 | 0.4814815 | ⋯ | 100.0 | 12541 | 167 | 0.505 | 0.0004191035 | 1 | 1 | 1 |  8.985128 | 204 |\n",
       "| 6 | 6687 | 1993-09-13 |  87840 | 24 | 3660 |  1 | monthly issuance | 17 | 14 | 0.8235294 | ⋯ |  41.3 |  8598 | 123 | 4.400 | 0.0816008605 | 1 | 1 | 1 | 11.980273 | 124 |\n",
       "\n"
      ],
      "text/plain": [
       "  loan_id loan_date  amount duration payments status frequency       \n",
       "1 5314    1993-07-05  96396 12       8033     -1     weekly issuance \n",
       "2 5316    1993-07-11 165960 36       4610      1     monthly issuance\n",
       "3 6863    1993-07-28 127080 60       2118      1     monthly issuance\n",
       "4 5325    1993-08-03 105804 36       2939      1     monthly issuance\n",
       "5 7240    1993-09-06 274740 60       4579      1     weekly issuance \n",
       "6 6687    1993-09-13  87840 24       3660      1     monthly issuance\n",
       "  trans_count credit_count credit_ratio ⋯ urban_ratio average_salary\n",
       "1  4           4           1.0000000    ⋯  81.8        9650         \n",
       "2 37          17           0.4594595    ⋯  73.5        8369         \n",
       "3 24          15           0.6250000    ⋯  53.5        8390         \n",
       "4 25          13           0.5200000    ⋯  58.0        8754         \n",
       "5 27          13           0.4814815    ⋯ 100.0       12541         \n",
       "6 17          14           0.8235294    ⋯  41.3        8598         \n",
       "  entrepreneur_rate unemployment_rate_avg crimes_rate_per_thousand\n",
       "1 100               5.215                 0.0550035860            \n",
       "2 117               2.945                 0.0261292355            \n",
       "3 132               3.725                 0.0478072821            \n",
       "4 137               5.985                 0.0554834523            \n",
       "5 167               0.505                 0.0004191035            \n",
       "6 123               4.400                 0.0816008605            \n",
       "  unemployment_growing crimes_growing can_afford_loan can_pay_until\n",
       "1 1                    0              1                2.502179    \n",
       "2 1                    0              1               11.325141    \n",
       "3 1                    1              1                9.571671    \n",
       "4 1                    1              1               11.668152    \n",
       "5 1                    1              1                8.985128    \n",
       "6 1                    1              1               11.980273    \n",
       "  acc_age_when_loan\n",
       "1 105              \n",
       "2 148              \n",
       "3 170              \n",
       "4 185              \n",
       "5 204              \n",
       "6 124              "
      ]
     },
     "metadata": {},
     "output_type": "display_data"
    }
   ],
   "source": [
    "head(data)"
   ]
  },
  {
   "cell_type": "markdown",
   "id": "9f1325de",
   "metadata": {},
   "source": [
    "This has also allowed us to derive new attributes and improve old ones, such as:\n",
    "\n",
    "- **transactions_net**: is now the net amount of money transacted per day;\n",
    "- **sanctions_rate**: number of sanctions per day;\n",
    "- **has_card**: whether or not there is a credit card associated with the account;\n",
    "- **is_gold**: whether or not the account has a gold credit card;\n",
    "- **client_age**: the age of the client as of the last transaction's date;\n",
    "- **can_afford_loan**: whether or not the client's district has an average salary that can cover the loan's monthly payments;\n",
    "- **can_pay_until**: how many months can the client's balance cover the loans payments for;\n",
    "- **acc_age_when_loan**: how old the account was when the loan was made;\n",
    "\n",
    "We also dropped some columns such as: age_days, type, sanctions, card_id, issued, acc_creation_date, account_id, district_id, date, disp_id, client_id."
   ]
  },
  {
   "cell_type": "markdown",
   "id": "f2da2980",
   "metadata": {},
   "source": [
    "Finally, we can use a correlation matrix on the resulting dataframe to investigate which attributed could be correlated."
   ]
  },
  {
   "cell_type": "code",
   "execution_count": 30,
   "id": "78d03a59",
   "metadata": {},
   "outputs": [
    {
     "data": {
      "image/png": "[encoded data removed]",
      "text/plain": [
       "Plot with title “”"
      ]
     },
     "metadata": {
      "image/png": {
       "height": 420,
       "width": 420
      }
     },
     "output_type": "display_data"
    }
   ],
   "source": [
    "data_cor <- data %>%\n",
    "    select_if(is.numeric) %>%\n",
    "    cor(.)\n",
    "corrplot(data_cor, method = 'square', type = 'lower', diag = FALSE)"
   ]
  },
  {
   "cell_type": "markdown",
   "id": "e18ca4d9",
   "metadata": {},
   "source": [
    "From the analysis of the matrix, we can conclude that the status is more directly correlated with attributes such as: times_negative_balance, sanctions_rate, smallest_transaction and credit_ratio - which seem to be more correlated to unsuccessful loans - and withdrawal ratio, balance_min, remittance_bank ratio - which seem to be more correlated to successful loans."
   ]
  },
  {
   "cell_type": "markdown",
   "id": "f8bf08a9",
   "metadata": {},
   "source": [
    "We can then save the result to a csv file that will be used to train/test the model."
   ]
  },
  {
   "cell_type": "code",
   "execution_count": 31,
   "id": "e1cab5e7",
   "metadata": {},
   "outputs": [],
   "source": [
    "write.csv(data,'../data/dataframe.csv', row.names = FALSE)"
   ]
  }
 ],
 "metadata": {
  "kernelspec": {
   "display_name": "R",
   "language": "R",
   "name": "ir"
  },
  "language_info": {
   "codemirror_mode": "r",
   "file_extension": ".r",
   "mimetype": "text/x-r-source",
   "name": "R",
   "pygments_lexer": "r",
   "version": "4.2.2"
  }
 },
 "nbformat": 4,
 "nbformat_minor": 5
}
