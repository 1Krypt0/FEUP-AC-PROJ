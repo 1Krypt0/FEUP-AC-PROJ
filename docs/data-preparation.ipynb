{
 "cells": [
  {
   "cell_type": "markdown",
   "id": "83cffc4c",
   "metadata": {},
   "source": [
    "# Data preparation\n",
    "\n",
    "In order to prepare the data to run the models and make predictions, we need to clean it and manipulate the attributes in order to improve it.\n",
    "\n",
    "To do so, we have developed some functions that will read the datasets, clean them, and then join them making for the final train and test datasets."
   ]
  },
  {
   "cell_type": "code",
   "execution_count": 131,
   "id": "52b04eed",
   "metadata": {
    "scrolled": false
   },
   "outputs": [],
   "source": [
    "if (!require(\"dplyr\")) install.packages(\"dplyr\")"
   ]
  },
  {
   "cell_type": "markdown",
   "id": "592efaaa",
   "metadata": {},
   "source": [
    "## Account Data\n",
    "\n",
    "On the account dataset, we decided to parse the date from the YYMMDD format to YYYY-MM-DD, and then use it to calculate a new attribute called \"age_days\", which stores the age of the account in days. This will be useful to be able to compare statistics from accounts with different ages or other derived attributes."
   ]
  },
  {
   "cell_type": "code",
   "execution_count": 132,
   "id": "af0cb551",
   "metadata": {},
   "outputs": [],
   "source": [
    "prepare_account <- function() {\n",
    "  # Load dataset\n",
    "  account_data <- read.csv(\"../data/account.csv\", sep = \";\")\n",
    "  account_data <-\n",
    "    replace(account_data, (account_data == \"\" | account_data == \" \"), NA)\n",
    "\n",
    "  # Make date more readable\n",
    "  account_data <- transform(account_data, acc_creation_date = as.Date(\n",
    "    paste(\n",
    "      paste(\"19\", date %/% 10000, sep = \"\"),\n",
    "      (date %/% 100) %% 100,\n",
    "      date %% 100,\n",
    "      sep = \"-\"\n",
    "    ),\n",
    "    format = \"%Y-%m-%d\"\n",
    "  ))\n",
    "\n",
    "  # Change string variables to integers, works better for later steps\n",
    "  account_data[account_data$frequency == \"monthly issuance\", ]$frequency <- 1\n",
    "  account_data[account_data$frequency == \"weekly issuance\", ]$frequency <- 2\n",
    "  account_data[\n",
    "    account_data$frequency == \"issuance after transaction\",\n",
    "  ]$frequency <- 3\n",
    "\n",
    "  # Calculate age of account in days\n",
    "  account_data$age_days <- trunc(as.numeric(\n",
    "    difftime(Sys.Date(), account_data$acc_creation_date, units = \"days\")\n",
    "  ))\n",
    "\n",
    "  return(account_data)\n",
    "}"
   ]
  },
  {
   "cell_type": "code",
   "execution_count": 133,
   "id": "2b3b7861",
   "metadata": {
    "scrolled": false
   },
   "outputs": [
    {
     "data": {
      "text/html": [
       "<table class=\"dataframe\">\n",
       "<caption>A data.frame: 6 × 6</caption>\n",
       "<thead>\n",
       "\t<tr><th></th><th scope=col>account_id</th><th scope=col>district_id</th><th scope=col>frequency</th><th scope=col>date</th><th scope=col>acc_creation_date</th><th scope=col>age_days</th></tr>\n",
       "\t<tr><th></th><th scope=col>&lt;int&gt;</th><th scope=col>&lt;int&gt;</th><th scope=col>&lt;chr&gt;</th><th scope=col>&lt;int&gt;</th><th scope=col>&lt;date&gt;</th><th scope=col>&lt;dbl&gt;</th></tr>\n",
       "</thead>\n",
       "<tbody>\n",
       "\t<tr><th scope=row>1</th><td> 576</td><td>55</td><td>1</td><td>930101</td><td>1993-01-01</td><td>10921</td></tr>\n",
       "\t<tr><th scope=row>2</th><td>3818</td><td>74</td><td>1</td><td>930101</td><td>1993-01-01</td><td>10921</td></tr>\n",
       "\t<tr><th scope=row>3</th><td> 704</td><td>55</td><td>1</td><td>930101</td><td>1993-01-01</td><td>10921</td></tr>\n",
       "\t<tr><th scope=row>4</th><td>2378</td><td>16</td><td>1</td><td>930101</td><td>1993-01-01</td><td>10921</td></tr>\n",
       "\t<tr><th scope=row>5</th><td>2632</td><td>24</td><td>1</td><td>930102</td><td>1993-01-02</td><td>10920</td></tr>\n",
       "\t<tr><th scope=row>6</th><td>1972</td><td>77</td><td>1</td><td>930102</td><td>1993-01-02</td><td>10920</td></tr>\n",
       "</tbody>\n",
       "</table>\n"
      ],
      "text/latex": [
       "A data.frame: 6 × 6\n",
       "\\begin{tabular}{r|llllll}\n",
       "  & account\\_id & district\\_id & frequency & date & acc\\_creation\\_date & age\\_days\\\\\n",
       "  & <int> & <int> & <chr> & <int> & <date> & <dbl>\\\\\n",
       "\\hline\n",
       "\t1 &  576 & 55 & 1 & 930101 & 1993-01-01 & 10921\\\\\n",
       "\t2 & 3818 & 74 & 1 & 930101 & 1993-01-01 & 10921\\\\\n",
       "\t3 &  704 & 55 & 1 & 930101 & 1993-01-01 & 10921\\\\\n",
       "\t4 & 2378 & 16 & 1 & 930101 & 1993-01-01 & 10921\\\\\n",
       "\t5 & 2632 & 24 & 1 & 930102 & 1993-01-02 & 10920\\\\\n",
       "\t6 & 1972 & 77 & 1 & 930102 & 1993-01-02 & 10920\\\\\n",
       "\\end{tabular}\n"
      ],
      "text/markdown": [
       "\n",
       "A data.frame: 6 × 6\n",
       "\n",
       "| <!--/--> | account_id &lt;int&gt; | district_id &lt;int&gt; | frequency &lt;chr&gt; | date &lt;int&gt; | acc_creation_date &lt;date&gt; | age_days &lt;dbl&gt; |\n",
       "|---|---|---|---|---|---|---|\n",
       "| 1 |  576 | 55 | 1 | 930101 | 1993-01-01 | 10921 |\n",
       "| 2 | 3818 | 74 | 1 | 930101 | 1993-01-01 | 10921 |\n",
       "| 3 |  704 | 55 | 1 | 930101 | 1993-01-01 | 10921 |\n",
       "| 4 | 2378 | 16 | 1 | 930101 | 1993-01-01 | 10921 |\n",
       "| 5 | 2632 | 24 | 1 | 930102 | 1993-01-02 | 10920 |\n",
       "| 6 | 1972 | 77 | 1 | 930102 | 1993-01-02 | 10920 |\n",
       "\n"
      ],
      "text/plain": [
       "  account_id district_id frequency date   acc_creation_date age_days\n",
       "1  576       55          1         930101 1993-01-01        10921   \n",
       "2 3818       74          1         930101 1993-01-01        10921   \n",
       "3  704       55          1         930101 1993-01-01        10921   \n",
       "4 2378       16          1         930101 1993-01-01        10921   \n",
       "5 2632       24          1         930102 1993-01-02        10920   \n",
       "6 1972       77          1         930102 1993-01-02        10920   "
      ]
     },
     "metadata": {},
     "output_type": "display_data"
    }
   ],
   "source": [
    "account <- prepare_account()\n",
    "head(account)"
   ]
  },
  {
   "cell_type": "markdown",
   "id": "a43c08f9",
   "metadata": {},
   "source": [
    "## Card data\n",
    "\n",
    "For the card dataset, we only changed the data format and got rid of the day and month."
   ]
  },
  {
   "cell_type": "code",
   "execution_count": 134,
   "id": "857bb726",
   "metadata": {},
   "outputs": [],
   "source": [
    "prepare_card <- function(train = TRUE) {\n",
    "  card_data <- read.csv(if_else(train,\n",
    "    \"../data/card_dev.csv\", \"../data/card_comp.csv\"),\n",
    "  sep = \";\")\n",
    "  card_data <- replace(card_data, (card_data == \"\" | card_data == \" \"), NA)\n",
    "  # Make date more readable\n",
    "  card_data <- transform(card_data, issued = format(as.Date(\n",
    "    paste(\n",
    "      paste(\"19\", issued %/% 10000, sep = \"\"),\n",
    "      (issued %/% 100) %% 100,\n",
    "      issued %% 100,\n",
    "      sep = \"-\"\n",
    "    ),\n",
    "    format = \"%Y-%m-%d\"\n",
    "  ), \"%Y\"))\n",
    "  return(card_data)\n",
    "}"
   ]
  },
  {
   "cell_type": "code",
   "execution_count": 135,
   "id": "69e93414",
   "metadata": {},
   "outputs": [
    {
     "data": {
      "text/html": [
       "<table class=\"dataframe\">\n",
       "<caption>A data.frame: 6 × 4</caption>\n",
       "<thead>\n",
       "\t<tr><th></th><th scope=col>card_id</th><th scope=col>disp_id</th><th scope=col>type</th><th scope=col>issued</th></tr>\n",
       "\t<tr><th></th><th scope=col>&lt;int&gt;</th><th scope=col>&lt;int&gt;</th><th scope=col>&lt;chr&gt;</th><th scope=col>&lt;chr&gt;</th></tr>\n",
       "</thead>\n",
       "<tbody>\n",
       "\t<tr><th scope=row>1</th><td>1005</td><td>9285</td><td>classic</td><td>1993</td></tr>\n",
       "\t<tr><th scope=row>2</th><td> 104</td><td> 588</td><td>classic</td><td>1994</td></tr>\n",
       "\t<tr><th scope=row>3</th><td> 747</td><td>4915</td><td>classic</td><td>1994</td></tr>\n",
       "\t<tr><th scope=row>4</th><td>  70</td><td> 439</td><td>classic</td><td>1994</td></tr>\n",
       "\t<tr><th scope=row>5</th><td> 577</td><td>3687</td><td>classic</td><td>1994</td></tr>\n",
       "\t<tr><th scope=row>6</th><td> 377</td><td>2429</td><td>classic</td><td>1994</td></tr>\n",
       "</tbody>\n",
       "</table>\n"
      ],
      "text/latex": [
       "A data.frame: 6 × 4\n",
       "\\begin{tabular}{r|llll}\n",
       "  & card\\_id & disp\\_id & type & issued\\\\\n",
       "  & <int> & <int> & <chr> & <chr>\\\\\n",
       "\\hline\n",
       "\t1 & 1005 & 9285 & classic & 1993\\\\\n",
       "\t2 &  104 &  588 & classic & 1994\\\\\n",
       "\t3 &  747 & 4915 & classic & 1994\\\\\n",
       "\t4 &   70 &  439 & classic & 1994\\\\\n",
       "\t5 &  577 & 3687 & classic & 1994\\\\\n",
       "\t6 &  377 & 2429 & classic & 1994\\\\\n",
       "\\end{tabular}\n"
      ],
      "text/markdown": [
       "\n",
       "A data.frame: 6 × 4\n",
       "\n",
       "| <!--/--> | card_id &lt;int&gt; | disp_id &lt;int&gt; | type &lt;chr&gt; | issued &lt;chr&gt; |\n",
       "|---|---|---|---|---|\n",
       "| 1 | 1005 | 9285 | classic | 1993 |\n",
       "| 2 |  104 |  588 | classic | 1994 |\n",
       "| 3 |  747 | 4915 | classic | 1994 |\n",
       "| 4 |   70 |  439 | classic | 1994 |\n",
       "| 5 |  577 | 3687 | classic | 1994 |\n",
       "| 6 |  377 | 2429 | classic | 1994 |\n",
       "\n"
      ],
      "text/plain": [
       "  card_id disp_id type    issued\n",
       "1 1005    9285    classic 1993  \n",
       "2  104     588    classic 1994  \n",
       "3  747    4915    classic 1994  \n",
       "4   70     439    classic 1994  \n",
       "5  577    3687    classic 1994  \n",
       "6  377    2429    classic 1994  "
      ]
     },
     "metadata": {},
     "output_type": "display_data"
    }
   ],
   "source": [
    "card <- prepare_card()\n",
    "head(card)"
   ]
  },
  {
   "cell_type": "markdown",
   "id": "52fb7b5a",
   "metadata": {},
   "source": [
    "## Client data\n",
    "\n",
    "For the client dataset, we transformed the \"birthnumber\" into gender and birthdate, which we later used to calculate the client's age (as of the last transaction's date). We also dropped the client district, as we will be considering the account district only."
   ]
  },
  {
   "cell_type": "code",
   "execution_count": 136,
   "id": "5ae76de0",
   "metadata": {},
   "outputs": [],
   "source": [
    "prepare_client <- function() {\n",
    "  # Load dataset\n",
    "  client_data <- read.csv(\"../data/client.csv\", sep = \";\")\n",
    "  client_data <-\n",
    "  replace(client_data, (client_data == \"\" | client_data == \" \"), NA)\n",
    "\n",
    "  client_data <- transform(client_data,\n",
    "    gender = ifelse(((birth_number %/% 100) %% 100) <= 12, 0, 1)\n",
    "  )\n",
    "\n",
    "  client_data <- transform(client_data, birthday = as.Date(\n",
    "    paste(\n",
    "      paste(\"19\", birth_number %/% 10000, sep = \"\"),\n",
    "      ifelse(((birth_number %/% 100) %% 100) <= 12,\n",
    "        (birth_number %/% 100) %% 100,\n",
    "        ((birth_number %/% 100) %% 100) - 50\n",
    "      ),\n",
    "      birth_number %% 100,\n",
    "      sep = \"-\"\n",
    "    ),\n",
    "    format = \"%Y-%m-%d\"\n",
    "  ))\n",
    "\n",
    "  client_data <- subset(client_data, select = -c(birth_number, district_id))\n",
    "\n",
    "  return(client_data)\n",
    "}"
   ]
  },
  {
   "cell_type": "code",
   "execution_count": 137,
   "id": "3c409f34",
   "metadata": {},
   "outputs": [
    {
     "data": {
      "text/html": [
       "<table class=\"dataframe\">\n",
       "<caption>A data.frame: 6 × 3</caption>\n",
       "<thead>\n",
       "\t<tr><th></th><th scope=col>client_id</th><th scope=col>gender</th><th scope=col>birthday</th></tr>\n",
       "\t<tr><th></th><th scope=col>&lt;int&gt;</th><th scope=col>&lt;dbl&gt;</th><th scope=col>&lt;date&gt;</th></tr>\n",
       "</thead>\n",
       "<tbody>\n",
       "\t<tr><th scope=row>1</th><td>1</td><td>1</td><td>1970-12-13</td></tr>\n",
       "\t<tr><th scope=row>2</th><td>2</td><td>0</td><td>1945-02-04</td></tr>\n",
       "\t<tr><th scope=row>3</th><td>3</td><td>1</td><td>1940-10-09</td></tr>\n",
       "\t<tr><th scope=row>4</th><td>4</td><td>0</td><td>1956-12-01</td></tr>\n",
       "\t<tr><th scope=row>5</th><td>5</td><td>1</td><td>1960-07-03</td></tr>\n",
       "\t<tr><th scope=row>6</th><td>6</td><td>0</td><td>1919-09-22</td></tr>\n",
       "</tbody>\n",
       "</table>\n"
      ],
      "text/latex": [
       "A data.frame: 6 × 3\n",
       "\\begin{tabular}{r|lll}\n",
       "  & client\\_id & gender & birthday\\\\\n",
       "  & <int> & <dbl> & <date>\\\\\n",
       "\\hline\n",
       "\t1 & 1 & 1 & 1970-12-13\\\\\n",
       "\t2 & 2 & 0 & 1945-02-04\\\\\n",
       "\t3 & 3 & 1 & 1940-10-09\\\\\n",
       "\t4 & 4 & 0 & 1956-12-01\\\\\n",
       "\t5 & 5 & 1 & 1960-07-03\\\\\n",
       "\t6 & 6 & 0 & 1919-09-22\\\\\n",
       "\\end{tabular}\n"
      ],
      "text/markdown": [
       "\n",
       "A data.frame: 6 × 3\n",
       "\n",
       "| <!--/--> | client_id &lt;int&gt; | gender &lt;dbl&gt; | birthday &lt;date&gt; |\n",
       "|---|---|---|---|\n",
       "| 1 | 1 | 1 | 1970-12-13 |\n",
       "| 2 | 2 | 0 | 1945-02-04 |\n",
       "| 3 | 3 | 1 | 1940-10-09 |\n",
       "| 4 | 4 | 0 | 1956-12-01 |\n",
       "| 5 | 5 | 1 | 1960-07-03 |\n",
       "| 6 | 6 | 0 | 1919-09-22 |\n",
       "\n"
      ],
      "text/plain": [
       "  client_id gender birthday  \n",
       "1 1         1      1970-12-13\n",
       "2 2         0      1945-02-04\n",
       "3 3         1      1940-10-09\n",
       "4 4         0      1956-12-01\n",
       "5 5         1      1960-07-03\n",
       "6 6         0      1919-09-22"
      ]
     },
     "metadata": {},
     "output_type": "display_data"
    }
   ],
   "source": [
    "client <- prepare_client()\n",
    "head(client)"
   ]
  },
  {
   "cell_type": "markdown",
   "id": "00192804",
   "metadata": {},
   "source": [
    "## Disposition data\n",
    "\n",
    "This dataset is pretty clean from the start so we can just load it."
   ]
  },
  {
   "cell_type": "code",
   "execution_count": 138,
   "id": "f990cb7b",
   "metadata": {},
   "outputs": [],
   "source": [
    "prepare_disp <- function() {\n",
    "  # Load dataset\n",
    "  disp_data <- read.csv(\"../data/disp.csv\", sep = \";\")\n",
    "  disp_data <-\n",
    "    replace(disp_data, (disp_data == \"\" | disp_data == \" \"), NA)\n",
    "}"
   ]
  },
  {
   "cell_type": "code",
   "execution_count": 139,
   "id": "76fc41b8",
   "metadata": {},
   "outputs": [
    {
     "data": {
      "text/html": [
       "<table class=\"dataframe\">\n",
       "<caption>A data.frame: 6 × 4</caption>\n",
       "<thead>\n",
       "\t<tr><th></th><th scope=col>disp_id</th><th scope=col>client_id</th><th scope=col>account_id</th><th scope=col>type</th></tr>\n",
       "\t<tr><th></th><th scope=col>&lt;int&gt;</th><th scope=col>&lt;int&gt;</th><th scope=col>&lt;int&gt;</th><th scope=col>&lt;chr&gt;</th></tr>\n",
       "</thead>\n",
       "<tbody>\n",
       "\t<tr><th scope=row>1</th><td>1</td><td>1</td><td>1</td><td>OWNER    </td></tr>\n",
       "\t<tr><th scope=row>2</th><td>2</td><td>2</td><td>2</td><td>OWNER    </td></tr>\n",
       "\t<tr><th scope=row>3</th><td>3</td><td>3</td><td>2</td><td>DISPONENT</td></tr>\n",
       "\t<tr><th scope=row>4</th><td>4</td><td>4</td><td>3</td><td>OWNER    </td></tr>\n",
       "\t<tr><th scope=row>5</th><td>5</td><td>5</td><td>3</td><td>DISPONENT</td></tr>\n",
       "\t<tr><th scope=row>6</th><td>6</td><td>6</td><td>4</td><td>OWNER    </td></tr>\n",
       "</tbody>\n",
       "</table>\n"
      ],
      "text/latex": [
       "A data.frame: 6 × 4\n",
       "\\begin{tabular}{r|llll}\n",
       "  & disp\\_id & client\\_id & account\\_id & type\\\\\n",
       "  & <int> & <int> & <int> & <chr>\\\\\n",
       "\\hline\n",
       "\t1 & 1 & 1 & 1 & OWNER    \\\\\n",
       "\t2 & 2 & 2 & 2 & OWNER    \\\\\n",
       "\t3 & 3 & 3 & 2 & DISPONENT\\\\\n",
       "\t4 & 4 & 4 & 3 & OWNER    \\\\\n",
       "\t5 & 5 & 5 & 3 & DISPONENT\\\\\n",
       "\t6 & 6 & 6 & 4 & OWNER    \\\\\n",
       "\\end{tabular}\n"
      ],
      "text/markdown": [
       "\n",
       "A data.frame: 6 × 4\n",
       "\n",
       "| <!--/--> | disp_id &lt;int&gt; | client_id &lt;int&gt; | account_id &lt;int&gt; | type &lt;chr&gt; |\n",
       "|---|---|---|---|---|\n",
       "| 1 | 1 | 1 | 1 | OWNER     |\n",
       "| 2 | 2 | 2 | 2 | OWNER     |\n",
       "| 3 | 3 | 3 | 2 | DISPONENT |\n",
       "| 4 | 4 | 4 | 3 | OWNER     |\n",
       "| 5 | 5 | 5 | 3 | DISPONENT |\n",
       "| 6 | 6 | 6 | 4 | OWNER     |\n",
       "\n"
      ],
      "text/plain": [
       "  disp_id client_id account_id type     \n",
       "1 1       1         1          OWNER    \n",
       "2 2       2         2          OWNER    \n",
       "3 3       3         2          DISPONENT\n",
       "4 4       4         3          OWNER    \n",
       "5 5       5         3          DISPONENT\n",
       "6 6       6         4          OWNER    "
      ]
     },
     "metadata": {},
     "output_type": "display_data"
    }
   ],
   "source": [
    "disp <- prepare_disp()\n",
    "head(disp)"
   ]
  },
  {
   "cell_type": "markdown",
   "id": "f100d87e",
   "metadata": {},
   "source": [
    "## District data\n",
    "\n",
    "The district dataset was one of the ones that needed more work done. For this one, we renamed some columns for concistency, filled the empty values with the column average where possible, and transformed the data from 1995 and 1996 into an average of both and an attribute that tells whether or not those numbers grew from an year to the other. We then dropped some of the columns that were no longer needed."
   ]
  },
  {
   "cell_type": "code",
   "execution_count": 140,
   "id": "f10c323b",
   "metadata": {},
   "outputs": [],
   "source": [
    "prepare_district <- function() {\n",
    "  # Load dataset\n",
    "  district_data <- read.csv(\"../data/district.csv\",\n",
    "    sep = \";\", na.strings = c(\"NaN\", \"?\"))\n",
    "  district_data <-\n",
    "    replace(district_data, (district_data == \"\" | district_data == \" \"), NA)\n",
    "\n",
    "  # Rename code to district id to ease joins\n",
    "  # Rename columns for consistency\n",
    "  colnames(district_data)[colnames(district_data) == \"code\"] <- \"district_id\"\n",
    "  colnames(district_data)[\n",
    "    colnames(district_data) == \"average.salary\"\n",
    "  ] <- \"average_salary\"\n",
    "  colnames(district_data)[\n",
    "    colnames(district_data) == \"no..of.enterpreneurs.per.1000.inhabitants\"\n",
    "  ] <- \"entrepreneur_rate\"\n",
    "  colnames(district_data)[\n",
    "    colnames(district_data) == \"no..of.inhabitants\"\n",
    "  ] <- \"population\"\n",
    "  colnames(district_data)[\n",
    "    colnames(district_data) == \"ratio.of.urban.inhabitants\"\n",
    "  ] <- \"urban_ratio\"\n",
    "\n",
    "  # Fix values that were \"?\" to be the column average\n",
    "  district_data$unemploymant.rate..95[\n",
    "    is.na(district_data$unemploymant.rate..95)\n",
    "  ]  <- mean(as.numeric(district_data$unemploymant.rate..95), na.rm = TRUE)\n",
    "  district_data$unemploymant.rate..96[\n",
    "    is.na(district_data$unemploymant.rate..96)\n",
    "  ] <- mean(as.numeric(district_data$unemploymant.rate..96), na.rm = TRUE)\n",
    "\n",
    "  district_data$no..of.commited.crimes..95[\n",
    "    is.na(district_data$no..of.commited.crimes..95)\n",
    "  ] <- mean(as.numeric(district_data$no..of.commited.crimes..95), na.rm = TRUE)\n",
    "  district_data$no..of.commited.crimes..96[\n",
    "    is.na(district_data$no..of.commited.crimes..96)\n",
    "  ] <- mean(as.numeric(district_data$no..of.commited.crimes..96), na.rm = TRUE)\n",
    "\n",
    "  # Calculate average between 95 and 96\n",
    "  district_data <- transform(district_data, unemployment_rate_avg =\n",
    "    as.numeric(district_data$unemploymant.rate..95)\n",
    "    + as.numeric(district_data$unemploymant.rate..96) / 2\n",
    "  )\n",
    "  district_data <- transform(district_data, crimes_rate_per_thousand =\n",
    "    (as.numeric(district_data$unemploymant.rate..95)\n",
    "    + as.numeric(district_data$unemploymant.rate..96) / 2)\n",
    "    / as.numeric(district_data$population)\n",
    "    * 1000\n",
    "  )\n",
    "\n",
    "  # Calculate whether or not the unemployment/crimes has been growing\n",
    "  district_data <- transform(district_data, unemployment_growing =\n",
    "    ifelse(\n",
    "      as.numeric(district_data$unemploymant.rate..96) >\n",
    "      as.numeric(district_data$unemploymant.rate..95),\n",
    "      1,\n",
    "      0\n",
    "    )\n",
    "  )\n",
    "  district_data <- transform(district_data, crimes_growing =\n",
    "    ifelse(\n",
    "      as.numeric(district_data$no..of.commited.crimes..96) >\n",
    "      as.numeric(district_data$no..of.commited.crimes..95),\n",
    "      1,\n",
    "      0\n",
    "    )\n",
    "  )\n",
    "\n",
    "\n",
    "  district_data <- subset(district_data, select = -c(unemploymant.rate..95,\n",
    "    unemploymant.rate..96, no..of.commited.crimes..95, no..of.commited.crimes..96,\n",
    "    no..of.municipalities.with.inhabitants...499,\n",
    "    no..of.municipalities.with.inhabitants.500.1999,\n",
    "    no..of.municipalities.with.inhabitants.2000.9999,\n",
    "    no..of.municipalities.with.inhabitants..10000,\n",
    "    region,\n",
    "    no..of.cities\n",
    "  ))\n",
    "  return(district_data)\n",
    "}"
   ]
  },
  {
   "cell_type": "code",
   "execution_count": 141,
   "id": "1de8e991",
   "metadata": {},
   "outputs": [
    {
     "data": {
      "text/html": [
       "<table class=\"dataframe\">\n",
       "<caption>A data.frame: 6 × 10</caption>\n",
       "<thead>\n",
       "\t<tr><th></th><th scope=col>district_id</th><th scope=col>name</th><th scope=col>population</th><th scope=col>urban_ratio</th><th scope=col>average_salary</th><th scope=col>entrepreneur_rate</th><th scope=col>unemployment_rate_avg</th><th scope=col>crimes_rate_per_thousand</th><th scope=col>unemployment_growing</th><th scope=col>crimes_growing</th></tr>\n",
       "\t<tr><th></th><th scope=col>&lt;int&gt;</th><th scope=col>&lt;chr&gt;</th><th scope=col>&lt;int&gt;</th><th scope=col>&lt;dbl&gt;</th><th scope=col>&lt;int&gt;</th><th scope=col>&lt;int&gt;</th><th scope=col>&lt;dbl&gt;</th><th scope=col>&lt;dbl&gt;</th><th scope=col>&lt;dbl&gt;</th><th scope=col>&lt;dbl&gt;</th></tr>\n",
       "</thead>\n",
       "<tbody>\n",
       "\t<tr><th scope=row>1</th><td>1</td><td>Hl.m. Praha</td><td>1204953</td><td>100.0</td><td>12541</td><td>167</td><td>0.505</td><td>0.0004191035</td><td>1</td><td>1</td></tr>\n",
       "\t<tr><th scope=row>2</th><td>2</td><td>Benesov    </td><td>  88884</td><td> 46.7</td><td> 8507</td><td>132</td><td>2.595</td><td>0.0291953557</td><td>1</td><td>1</td></tr>\n",
       "\t<tr><th scope=row>3</th><td>3</td><td>Beroun     </td><td>  75232</td><td> 41.7</td><td> 8980</td><td>111</td><td>3.055</td><td>0.0406077201</td><td>1</td><td>0</td></tr>\n",
       "\t<tr><th scope=row>4</th><td>4</td><td>Kladno     </td><td> 149893</td><td> 67.4</td><td> 9753</td><td>109</td><td>7.165</td><td>0.0478007645</td><td>1</td><td>1</td></tr>\n",
       "\t<tr><th scope=row>5</th><td>5</td><td>Kolin      </td><td>  95616</td><td> 51.4</td><td> 9307</td><td>118</td><td>6.065</td><td>0.0634308066</td><td>1</td><td>1</td></tr>\n",
       "\t<tr><th scope=row>6</th><td>6</td><td>Kutna Hora </td><td>  77963</td><td> 51.5</td><td> 8546</td><td>126</td><td>4.960</td><td>0.0636199223</td><td>1</td><td>1</td></tr>\n",
       "</tbody>\n",
       "</table>\n"
      ],
      "text/latex": [
       "A data.frame: 6 × 10\n",
       "\\begin{tabular}{r|llllllllll}\n",
       "  & district\\_id & name & population & urban\\_ratio & average\\_salary & entrepreneur\\_rate & unemployment\\_rate\\_avg & crimes\\_rate\\_per\\_thousand & unemployment\\_growing & crimes\\_growing\\\\\n",
       "  & <int> & <chr> & <int> & <dbl> & <int> & <int> & <dbl> & <dbl> & <dbl> & <dbl>\\\\\n",
       "\\hline\n",
       "\t1 & 1 & Hl.m. Praha & 1204953 & 100.0 & 12541 & 167 & 0.505 & 0.0004191035 & 1 & 1\\\\\n",
       "\t2 & 2 & Benesov     &   88884 &  46.7 &  8507 & 132 & 2.595 & 0.0291953557 & 1 & 1\\\\\n",
       "\t3 & 3 & Beroun      &   75232 &  41.7 &  8980 & 111 & 3.055 & 0.0406077201 & 1 & 0\\\\\n",
       "\t4 & 4 & Kladno      &  149893 &  67.4 &  9753 & 109 & 7.165 & 0.0478007645 & 1 & 1\\\\\n",
       "\t5 & 5 & Kolin       &   95616 &  51.4 &  9307 & 118 & 6.065 & 0.0634308066 & 1 & 1\\\\\n",
       "\t6 & 6 & Kutna Hora  &   77963 &  51.5 &  8546 & 126 & 4.960 & 0.0636199223 & 1 & 1\\\\\n",
       "\\end{tabular}\n"
      ],
      "text/markdown": [
       "\n",
       "A data.frame: 6 × 10\n",
       "\n",
       "| <!--/--> | district_id &lt;int&gt; | name &lt;chr&gt; | population &lt;int&gt; | urban_ratio &lt;dbl&gt; | average_salary &lt;int&gt; | entrepreneur_rate &lt;int&gt; | unemployment_rate_avg &lt;dbl&gt; | crimes_rate_per_thousand &lt;dbl&gt; | unemployment_growing &lt;dbl&gt; | crimes_growing &lt;dbl&gt; |\n",
       "|---|---|---|---|---|---|---|---|---|---|---|\n",
       "| 1 | 1 | Hl.m. Praha | 1204953 | 100.0 | 12541 | 167 | 0.505 | 0.0004191035 | 1 | 1 |\n",
       "| 2 | 2 | Benesov     |   88884 |  46.7 |  8507 | 132 | 2.595 | 0.0291953557 | 1 | 1 |\n",
       "| 3 | 3 | Beroun      |   75232 |  41.7 |  8980 | 111 | 3.055 | 0.0406077201 | 1 | 0 |\n",
       "| 4 | 4 | Kladno      |  149893 |  67.4 |  9753 | 109 | 7.165 | 0.0478007645 | 1 | 1 |\n",
       "| 5 | 5 | Kolin       |   95616 |  51.4 |  9307 | 118 | 6.065 | 0.0634308066 | 1 | 1 |\n",
       "| 6 | 6 | Kutna Hora  |   77963 |  51.5 |  8546 | 126 | 4.960 | 0.0636199223 | 1 | 1 |\n",
       "\n"
      ],
      "text/plain": [
       "  district_id name        population urban_ratio average_salary\n",
       "1 1           Hl.m. Praha 1204953    100.0       12541         \n",
       "2 2           Benesov       88884     46.7        8507         \n",
       "3 3           Beroun        75232     41.7        8980         \n",
       "4 4           Kladno       149893     67.4        9753         \n",
       "5 5           Kolin         95616     51.4        9307         \n",
       "6 6           Kutna Hora    77963     51.5        8546         \n",
       "  entrepreneur_rate unemployment_rate_avg crimes_rate_per_thousand\n",
       "1 167               0.505                 0.0004191035            \n",
       "2 132               2.595                 0.0291953557            \n",
       "3 111               3.055                 0.0406077201            \n",
       "4 109               7.165                 0.0478007645            \n",
       "5 118               6.065                 0.0634308066            \n",
       "6 126               4.960                 0.0636199223            \n",
       "  unemployment_growing crimes_growing\n",
       "1 1                    1             \n",
       "2 1                    1             \n",
       "3 1                    0             \n",
       "4 1                    1             \n",
       "5 1                    1             \n",
       "6 1                    1             "
      ]
     },
     "metadata": {},
     "output_type": "display_data"
    }
   ],
   "source": [
    "district <- prepare_district()\n",
    "head(district)"
   ]
  },
  {
   "cell_type": "markdown",
   "id": "877e2a83",
   "metadata": {},
   "source": [
    "Like this, each district has a simpler representation, that is easier to use for comparisons between districts, as it uses statistics per thousand people instead of absolute counts."
   ]
  },
  {
   "cell_type": "markdown",
   "id": "45d16638",
   "metadata": {},
   "source": [
    "## Loan data\n",
    "\n",
    "For the loan data, we only needed to parse the date to YYYY-MM-DD\n",
    "Since this table contains the target variable, we can alreay try to find some correlations."
   ]
  },
  {
   "cell_type": "code",
   "execution_count": 142,
   "id": "7a61d9ec",
   "metadata": {},
   "outputs": [],
   "source": [
    "prepare_loan <- function(train = TRUE) {\n",
    "  loan_data <- read.csv(ifelse(train,\n",
    "    \"../data/loan_dev.csv\", \"../data/loan_comp.csv\"),\n",
    "    sep = \";\"\n",
    "  )\n",
    "  loan_data <- replace(loan_data, (loan_data == \"\" | loan_data == \" \"), NA)\n",
    "  loan_data <- transform(loan_data, date = as.Date(\n",
    "    paste(\n",
    "      paste(\"19\", date %/% 10000, sep = \"\"),\n",
    "      (date %/% 100) %% 100,\n",
    "      date %% 100,\n",
    "      sep = \"-\"\n",
    "    ),\n",
    "    format = \"%Y-%m-%d\"\n",
    "  ))\n",
    "  # payments * duration = amount, so don't need to keep them all\n",
    "  loan_data <- subset(loan_data, select = -c(duration))\n",
    "\n",
    "  return(loan_data)\n",
    "}"
   ]
  },
  {
   "cell_type": "code",
   "execution_count": 143,
   "id": "2cdc74bc",
   "metadata": {},
   "outputs": [
    {
     "data": {
      "text/html": [
       "<table class=\"dataframe\">\n",
       "<caption>A data.frame: 6 × 6</caption>\n",
       "<thead>\n",
       "\t<tr><th></th><th scope=col>loan_id</th><th scope=col>account_id</th><th scope=col>date</th><th scope=col>amount</th><th scope=col>payments</th><th scope=col>status</th></tr>\n",
       "\t<tr><th></th><th scope=col>&lt;int&gt;</th><th scope=col>&lt;int&gt;</th><th scope=col>&lt;date&gt;</th><th scope=col>&lt;int&gt;</th><th scope=col>&lt;int&gt;</th><th scope=col>&lt;int&gt;</th></tr>\n",
       "</thead>\n",
       "<tbody>\n",
       "\t<tr><th scope=row>1</th><td>5314</td><td> 1787</td><td>1993-07-05</td><td> 96396</td><td>8033</td><td>-1</td></tr>\n",
       "\t<tr><th scope=row>2</th><td>5316</td><td> 1801</td><td>1993-07-11</td><td>165960</td><td>4610</td><td> 1</td></tr>\n",
       "\t<tr><th scope=row>3</th><td>6863</td><td> 9188</td><td>1993-07-28</td><td>127080</td><td>2118</td><td> 1</td></tr>\n",
       "\t<tr><th scope=row>4</th><td>5325</td><td> 1843</td><td>1993-08-03</td><td>105804</td><td>2939</td><td> 1</td></tr>\n",
       "\t<tr><th scope=row>5</th><td>7240</td><td>11013</td><td>1993-09-06</td><td>274740</td><td>4579</td><td> 1</td></tr>\n",
       "\t<tr><th scope=row>6</th><td>6687</td><td> 8261</td><td>1993-09-13</td><td> 87840</td><td>3660</td><td> 1</td></tr>\n",
       "</tbody>\n",
       "</table>\n"
      ],
      "text/latex": [
       "A data.frame: 6 × 6\n",
       "\\begin{tabular}{r|llllll}\n",
       "  & loan\\_id & account\\_id & date & amount & payments & status\\\\\n",
       "  & <int> & <int> & <date> & <int> & <int> & <int>\\\\\n",
       "\\hline\n",
       "\t1 & 5314 &  1787 & 1993-07-05 &  96396 & 8033 & -1\\\\\n",
       "\t2 & 5316 &  1801 & 1993-07-11 & 165960 & 4610 &  1\\\\\n",
       "\t3 & 6863 &  9188 & 1993-07-28 & 127080 & 2118 &  1\\\\\n",
       "\t4 & 5325 &  1843 & 1993-08-03 & 105804 & 2939 &  1\\\\\n",
       "\t5 & 7240 & 11013 & 1993-09-06 & 274740 & 4579 &  1\\\\\n",
       "\t6 & 6687 &  8261 & 1993-09-13 &  87840 & 3660 &  1\\\\\n",
       "\\end{tabular}\n"
      ],
      "text/markdown": [
       "\n",
       "A data.frame: 6 × 6\n",
       "\n",
       "| <!--/--> | loan_id &lt;int&gt; | account_id &lt;int&gt; | date &lt;date&gt; | amount &lt;int&gt; | payments &lt;int&gt; | status &lt;int&gt; |\n",
       "|---|---|---|---|---|---|---|\n",
       "| 1 | 5314 |  1787 | 1993-07-05 |  96396 | 8033 | -1 |\n",
       "| 2 | 5316 |  1801 | 1993-07-11 | 165960 | 4610 |  1 |\n",
       "| 3 | 6863 |  9188 | 1993-07-28 | 127080 | 2118 |  1 |\n",
       "| 4 | 5325 |  1843 | 1993-08-03 | 105804 | 2939 |  1 |\n",
       "| 5 | 7240 | 11013 | 1993-09-06 | 274740 | 4579 |  1 |\n",
       "| 6 | 6687 |  8261 | 1993-09-13 |  87840 | 3660 |  1 |\n",
       "\n"
      ],
      "text/plain": [
       "  loan_id account_id date       amount payments status\n",
       "1 5314     1787      1993-07-05  96396 8033     -1    \n",
       "2 5316     1801      1993-07-11 165960 4610      1    \n",
       "3 6863     9188      1993-07-28 127080 2118      1    \n",
       "4 5325     1843      1993-08-03 105804 2939      1    \n",
       "5 7240    11013      1993-09-06 274740 4579      1    \n",
       "6 6687     8261      1993-09-13  87840 3660      1    "
      ]
     },
     "metadata": {},
     "output_type": "display_data"
    }
   ],
   "source": [
    "loan <- prepare_loan()\n",
    "head(loan)"
   ]
  },
  {
   "cell_type": "markdown",
   "id": "f882f63a",
   "metadata": {},
   "source": [
    "# Transaction data"
   ]
  },
  {
   "cell_type": "code",
   "execution_count": 144,
   "id": "ba12fb72",
   "metadata": {},
   "outputs": [],
   "source": [
    "prepare_trans <- function(train = TRUE) {\n",
    "  trans_data <- read.csv(ifelse(train,\n",
    "    \"../data/trans_dev.csv\", \"../data/trans_comp.csv\"),\n",
    "    sep = \";\"\n",
    "  )\n",
    "  trans_data <- replace(trans_data, (trans_data == \"\" | trans_data == \" \"), NA)\n",
    "  # Rename k_symbol column\n",
    "  colnames(trans_data)[colnames(trans_data) == \"k_symbol\"] <- \"category\"\n",
    "  trans_data$account <- replace(\n",
    "    trans_data$account,\n",
    "    (trans_data$account == 0), NA\n",
    "  )\n",
    "\n",
    "  # Make date more readable\n",
    "  trans_data <- transform(trans_data, date = as.Date(\n",
    "    paste(\n",
    "      paste(\"19\", date %/% 10000, sep = \"\"),\n",
    "      (date %/% 100) %% 100,\n",
    "      date %% 100,\n",
    "      sep = \"-\"\n",
    "    ),\n",
    "    format = \"%Y-%m-%d\"\n",
    "  ))\n",
    "\n",
    "  # Make amount reflect if money entered or left the account\n",
    "  trans_data <- transform(trans_data,\n",
    "    amount = ifelse(type == \"credit\", amount, -1 * amount)\n",
    "  )\n",
    "\n",
    "  # Every entry where the operation is null, the k_symbol is defined as\n",
    "  # \"interest credited\", so we can fill operation column with new type\n",
    "  # - interest credited\n",
    "  trans_data <- transform(trans_data,\n",
    "    operation = ifelse(\n",
    "      is.na(trans_data$operation) | trans_data$operation == \"\" |\n",
    "        trans_data$operation == \" \",\n",
    "      \"interest credited\",\n",
    "      operation\n",
    "    )\n",
    "  )\n",
    "  trans_data$category[is.na(trans_data$category)] <- \"other\"\n",
    "\n",
    "  # Drop type column: withdrawal in cash already in operation, withdrawal\n",
    "  # vs credit already in amount sign\n",
    "  trans_data <- subset(trans_data, select = -c(type))\n",
    "\n",
    "  return(trans_data)\n",
    "}"
   ]
  },
  {
   "cell_type": "code",
   "execution_count": 145,
   "id": "b4f6922b",
   "metadata": {},
   "outputs": [
    {
     "data": {
      "text/html": [
       "<table class=\"dataframe\">\n",
       "<caption>A data.frame: 6 × 9</caption>\n",
       "<thead>\n",
       "\t<tr><th></th><th scope=col>trans_id</th><th scope=col>account_id</th><th scope=col>date</th><th scope=col>operation</th><th scope=col>amount</th><th scope=col>balance</th><th scope=col>category</th><th scope=col>bank</th><th scope=col>account</th></tr>\n",
       "\t<tr><th></th><th scope=col>&lt;int&gt;</th><th scope=col>&lt;int&gt;</th><th scope=col>&lt;date&gt;</th><th scope=col>&lt;chr&gt;</th><th scope=col>&lt;dbl&gt;</th><th scope=col>&lt;dbl&gt;</th><th scope=col>&lt;chr&gt;</th><th scope=col>&lt;chr&gt;</th><th scope=col>&lt;int&gt;</th></tr>\n",
       "</thead>\n",
       "<tbody>\n",
       "\t<tr><th scope=row>1</th><td>1548749</td><td> 5270</td><td>1993-01-13</td><td>credit in cash              </td><td>  800</td><td>  800</td><td>other</td><td>NA</td><td>      NA</td></tr>\n",
       "\t<tr><th scope=row>2</th><td>1548750</td><td> 5270</td><td>1993-01-14</td><td>collection from another bank</td><td>44749</td><td>45549</td><td>other</td><td>IJ</td><td>80269753</td></tr>\n",
       "\t<tr><th scope=row>3</th><td>3393738</td><td>11265</td><td>1993-01-14</td><td>credit in cash              </td><td> 1000</td><td> 1000</td><td>other</td><td>NA</td><td>      NA</td></tr>\n",
       "\t<tr><th scope=row>4</th><td>3122924</td><td>10364</td><td>1993-01-17</td><td>credit in cash              </td><td> 1100</td><td> 1100</td><td>other</td><td>NA</td><td>      NA</td></tr>\n",
       "\t<tr><th scope=row>5</th><td>1121963</td><td> 3834</td><td>1993-01-19</td><td>credit in cash              </td><td>  700</td><td>  700</td><td>other</td><td>NA</td><td>      NA</td></tr>\n",
       "\t<tr><th scope=row>6</th><td>2809952</td><td> 9307</td><td>1993-01-24</td><td>credit in cash              </td><td>  900</td><td>  900</td><td>other</td><td>NA</td><td>      NA</td></tr>\n",
       "</tbody>\n",
       "</table>\n"
      ],
      "text/latex": [
       "A data.frame: 6 × 9\n",
       "\\begin{tabular}{r|lllllllll}\n",
       "  & trans\\_id & account\\_id & date & operation & amount & balance & category & bank & account\\\\\n",
       "  & <int> & <int> & <date> & <chr> & <dbl> & <dbl> & <chr> & <chr> & <int>\\\\\n",
       "\\hline\n",
       "\t1 & 1548749 &  5270 & 1993-01-13 & credit in cash               &   800 &   800 & other & NA &       NA\\\\\n",
       "\t2 & 1548750 &  5270 & 1993-01-14 & collection from another bank & 44749 & 45549 & other & IJ & 80269753\\\\\n",
       "\t3 & 3393738 & 11265 & 1993-01-14 & credit in cash               &  1000 &  1000 & other & NA &       NA\\\\\n",
       "\t4 & 3122924 & 10364 & 1993-01-17 & credit in cash               &  1100 &  1100 & other & NA &       NA\\\\\n",
       "\t5 & 1121963 &  3834 & 1993-01-19 & credit in cash               &   700 &   700 & other & NA &       NA\\\\\n",
       "\t6 & 2809952 &  9307 & 1993-01-24 & credit in cash               &   900 &   900 & other & NA &       NA\\\\\n",
       "\\end{tabular}\n"
      ],
      "text/markdown": [
       "\n",
       "A data.frame: 6 × 9\n",
       "\n",
       "| <!--/--> | trans_id &lt;int&gt; | account_id &lt;int&gt; | date &lt;date&gt; | operation &lt;chr&gt; | amount &lt;dbl&gt; | balance &lt;dbl&gt; | category &lt;chr&gt; | bank &lt;chr&gt; | account &lt;int&gt; |\n",
       "|---|---|---|---|---|---|---|---|---|---|\n",
       "| 1 | 1548749 |  5270 | 1993-01-13 | credit in cash               |   800 |   800 | other | NA |       NA |\n",
       "| 2 | 1548750 |  5270 | 1993-01-14 | collection from another bank | 44749 | 45549 | other | IJ | 80269753 |\n",
       "| 3 | 3393738 | 11265 | 1993-01-14 | credit in cash               |  1000 |  1000 | other | NA |       NA |\n",
       "| 4 | 3122924 | 10364 | 1993-01-17 | credit in cash               |  1100 |  1100 | other | NA |       NA |\n",
       "| 5 | 1121963 |  3834 | 1993-01-19 | credit in cash               |   700 |   700 | other | NA |       NA |\n",
       "| 6 | 2809952 |  9307 | 1993-01-24 | credit in cash               |   900 |   900 | other | NA |       NA |\n",
       "\n"
      ],
      "text/plain": [
       "  trans_id account_id date       operation                    amount balance\n",
       "1 1548749   5270      1993-01-13 credit in cash                 800    800  \n",
       "2 1548750   5270      1993-01-14 collection from another bank 44749  45549  \n",
       "3 3393738  11265      1993-01-14 credit in cash                1000   1000  \n",
       "4 3122924  10364      1993-01-17 credit in cash                1100   1100  \n",
       "5 1121963   3834      1993-01-19 credit in cash                 700    700  \n",
       "6 2809952   9307      1993-01-24 credit in cash                 900    900  \n",
       "  category bank account \n",
       "1 other    NA         NA\n",
       "2 other    IJ   80269753\n",
       "3 other    NA         NA\n",
       "4 other    NA         NA\n",
       "5 other    NA         NA\n",
       "6 other    NA         NA"
      ]
     },
     "metadata": {},
     "output_type": "display_data"
    }
   ],
   "source": [
    "trans <- prepare_trans()\n",
    "head(trans)"
   ]
  },
  {
   "cell_type": "markdown",
   "id": "b28ede66",
   "metadata": {},
   "source": [
    "Now, we have to deal with the NA values. The only table that still has this problem after the initial cleaning is the transactions table. Since the percentage of null values in these cases is so high, there is nothing we can do to fill the values in an unbiased way. For that we have this helper function that removes every column where there are more than 70% null values."
   ]
  },
  {
   "cell_type": "code",
   "execution_count": 146,
   "id": "15b99993",
   "metadata": {},
   "outputs": [],
   "source": [
    "remove_empty_cols <- function(data) {\n",
    "  result <- data %>% select(where(~ mean(is.na(.)) < 0.7))\n",
    "  return(result)\n",
    "}"
   ]
  },
  {
   "cell_type": "code",
   "execution_count": 147,
   "id": "7ba2b191",
   "metadata": {},
   "outputs": [],
   "source": [
    "trans <- remove_empty_cols(trans)"
   ]
  },
  {
   "cell_type": "code",
   "execution_count": 148,
   "id": "b8c47e75",
   "metadata": {},
   "outputs": [
    {
     "data": {
      "text/html": [
       "<style>\n",
       ".dl-inline {width: auto; margin:0; padding: 0}\n",
       ".dl-inline>dt, .dl-inline>dd {float: none; width: auto; display: inline-block}\n",
       ".dl-inline>dt::after {content: \":\\0020\"; padding-right: .5ex}\n",
       ".dl-inline>dt:not(:first-of-type) {padding-left: .5ex}\n",
       "</style><dl class=dl-inline><dt>trans_id</dt><dd>0</dd><dt>account_id</dt><dd>0</dd><dt>date</dt><dd>0</dd><dt>operation</dt><dd>0</dd><dt>amount</dt><dd>0</dd><dt>balance</dt><dd>0</dd><dt>category</dt><dd>0</dd></dl>\n"
      ],
      "text/latex": [
       "\\begin{description*}\n",
       "\\item[trans\\textbackslash{}\\_id] 0\n",
       "\\item[account\\textbackslash{}\\_id] 0\n",
       "\\item[date] 0\n",
       "\\item[operation] 0\n",
       "\\item[amount] 0\n",
       "\\item[balance] 0\n",
       "\\item[category] 0\n",
       "\\end{description*}\n"
      ],
      "text/markdown": [
       "trans_id\n",
       ":   0account_id\n",
       ":   0date\n",
       ":   0operation\n",
       ":   0amount\n",
       ":   0balance\n",
       ":   0category\n",
       ":   0\n",
       "\n"
      ],
      "text/plain": [
       "  trans_id account_id       date  operation     amount    balance   category \n",
       "         0          0          0          0          0          0          0 "
      ]
     },
     "metadata": {},
     "output_type": "display_data"
    }
   ],
   "source": [
    "colSums(is.na(trans))"
   ]
  },
  {
   "cell_type": "markdown",
   "id": "328a8a02",
   "metadata": {},
   "source": [
    "## Aggregate the transactions data\n",
    "\n",
    "The transactions dataframe is the biggest one, and in order to relate it to the loan table, where our target variable is, we need to aggregate it by account_id."
   ]
  },
  {
   "cell_type": "code",
   "execution_count": 149,
   "id": "c96219ad",
   "metadata": {},
   "outputs": [],
   "source": [
    "aggregate_trans_data <- function(trans_data) {\n",
    "  # Aggregate transactions data\n",
    "  aggregated_trans <- trans_data %>%\n",
    "    # Group by account\n",
    "    group_by(account_id) %>%\n",
    "    arrange(date, .by_group = TRUE) %>%\n",
    "    # Add number of transactions per account\n",
    "    mutate(trans_count = n()) %>%\n",
    "    # Count credits/withdrawals\n",
    "    mutate(credit_count = sum(amount >= 0)) %>%\n",
    "    mutate(credit_ratio = mean(amount >= 0)) %>%\n",
    "    mutate(withdrawal_count = sum(amount < 0)) %>%\n",
    "    mutate(withdrawal_ratio = mean(amount < 0)) %>%\n",
    "    # Amount stats\n",
    "    mutate(smallest_transaction = amount[which.min(abs(amount))][1]) %>%\n",
    "    mutate(biggest_transaction = amount[which.max(abs(amount))][1]) %>%\n",
    "    mutate(transactions_net = sum(amount)) %>%\n",
    "    # Balance stats\n",
    "    mutate(balance_min = min(balance)) %>%\n",
    "    mutate(balance_max = max(balance)) %>%\n",
    "    mutate(current_balance = last(balance)) %>%\n",
    "    mutate(times_negative_balance = sum(balance < 0)) %>%\n",
    "    # Operation ratios\n",
    "    mutate(credit_cash_ratio =\n",
    "      mean(as.character(operation) == \"credit in cash\")) %>%\n",
    "    mutate(collection_bank_ratio =\n",
    "      mean(as.character(operation) == \"collection from another bank\")) %>%\n",
    "    mutate(interest_ratio =\n",
    "      mean(as.character(operation) == \"interest credited\")) %>%\n",
    "    mutate(withdrawal_cash_ratio =\n",
    "      mean(as.character(operation) == \"withdrawal in cash\")) %>%\n",
    "    mutate(remittance_bank_ratio =\n",
    "      mean(as.character(operation) == \"remittance to another bank\")) %>%\n",
    "    mutate(withdrawal_card_ratio =\n",
    "      mean(as.character(operation) == \"credit card withdrawal\")) %>%\n",
    "    mutate(sanctions =\n",
    "      sum(as.character(category) == \"sanction interest if negative balance\")) %>%\n",
    "    rename(trans_date = date) %>%\n",
    "\n",
    "    distinct()\n",
    "\n",
    "  trans_agg <- subset(aggregated_trans, select =\n",
    "    -c(trans_id, operation, amount, balance, category)\n",
    "  )\n",
    "\n",
    "  return(trans_agg)\n",
    "}"
   ]
  },
  {
   "cell_type": "code",
   "execution_count": 150,
   "id": "ce88228f",
   "metadata": {},
   "outputs": [
    {
     "data": {
      "text/html": [
       "<table class=\"dataframe\">\n",
       "<caption>A grouped_df: 6 × 21</caption>\n",
       "<thead>\n",
       "\t<tr><th scope=col>account_id</th><th scope=col>trans_date</th><th scope=col>trans_count</th><th scope=col>credit_count</th><th scope=col>credit_ratio</th><th scope=col>withdrawal_count</th><th scope=col>withdrawal_ratio</th><th scope=col>smallest_transaction</th><th scope=col>biggest_transaction</th><th scope=col>transactions_net</th><th scope=col>⋯</th><th scope=col>balance_max</th><th scope=col>current_balance</th><th scope=col>times_negative_balance</th><th scope=col>credit_cash_ratio</th><th scope=col>collection_bank_ratio</th><th scope=col>interest_ratio</th><th scope=col>withdrawal_cash_ratio</th><th scope=col>remittance_bank_ratio</th><th scope=col>withdrawal_card_ratio</th><th scope=col>sanctions</th></tr>\n",
       "\t<tr><th scope=col>&lt;int&gt;</th><th scope=col>&lt;date&gt;</th><th scope=col>&lt;int&gt;</th><th scope=col>&lt;int&gt;</th><th scope=col>&lt;dbl&gt;</th><th scope=col>&lt;int&gt;</th><th scope=col>&lt;dbl&gt;</th><th scope=col>&lt;dbl&gt;</th><th scope=col>&lt;dbl&gt;</th><th scope=col>&lt;dbl&gt;</th><th scope=col>⋯</th><th scope=col>&lt;dbl&gt;</th><th scope=col>&lt;dbl&gt;</th><th scope=col>&lt;int&gt;</th><th scope=col>&lt;dbl&gt;</th><th scope=col>&lt;dbl&gt;</th><th scope=col>&lt;dbl&gt;</th><th scope=col>&lt;dbl&gt;</th><th scope=col>&lt;dbl&gt;</th><th scope=col>&lt;dbl&gt;</th><th scope=col>&lt;int&gt;</th></tr>\n",
       "</thead>\n",
       "<tbody>\n",
       "\t<tr><td>1</td><td>1995-03-24</td><td>113</td><td>50</td><td>0.4424779</td><td>63</td><td>0.5575221</td><td>-14.6</td><td>12600</td><td>12659.9</td><td>⋯</td><td>30414.8</td><td>12674.5</td><td>0</td><td>0.07079646</td><td>0.1858407</td><td>0.1858407</td><td>0.4159292</td><td>0.1415929</td><td>0</td><td>0</td></tr>\n",
       "\t<tr><td>1</td><td>1995-04-13</td><td>113</td><td>50</td><td>0.4424779</td><td>63</td><td>0.5575221</td><td>-14.6</td><td>12600</td><td>12659.9</td><td>⋯</td><td>30414.8</td><td>12674.5</td><td>0</td><td>0.07079646</td><td>0.1858407</td><td>0.1858407</td><td>0.4159292</td><td>0.1415929</td><td>0</td><td>0</td></tr>\n",
       "\t<tr><td>1</td><td>1995-04-23</td><td>113</td><td>50</td><td>0.4424779</td><td>63</td><td>0.5575221</td><td>-14.6</td><td>12600</td><td>12659.9</td><td>⋯</td><td>30414.8</td><td>12674.5</td><td>0</td><td>0.07079646</td><td>0.1858407</td><td>0.1858407</td><td>0.4159292</td><td>0.1415929</td><td>0</td><td>0</td></tr>\n",
       "\t<tr><td>1</td><td>1995-04-30</td><td>113</td><td>50</td><td>0.4424779</td><td>63</td><td>0.5575221</td><td>-14.6</td><td>12600</td><td>12659.9</td><td>⋯</td><td>30414.8</td><td>12674.5</td><td>0</td><td>0.07079646</td><td>0.1858407</td><td>0.1858407</td><td>0.4159292</td><td>0.1415929</td><td>0</td><td>0</td></tr>\n",
       "\t<tr><td>1</td><td>1995-05-13</td><td>113</td><td>50</td><td>0.4424779</td><td>63</td><td>0.5575221</td><td>-14.6</td><td>12600</td><td>12659.9</td><td>⋯</td><td>30414.8</td><td>12674.5</td><td>0</td><td>0.07079646</td><td>0.1858407</td><td>0.1858407</td><td>0.4159292</td><td>0.1415929</td><td>0</td><td>0</td></tr>\n",
       "\t<tr><td>1</td><td>1995-05-23</td><td>113</td><td>50</td><td>0.4424779</td><td>63</td><td>0.5575221</td><td>-14.6</td><td>12600</td><td>12659.9</td><td>⋯</td><td>30414.8</td><td>12674.5</td><td>0</td><td>0.07079646</td><td>0.1858407</td><td>0.1858407</td><td>0.4159292</td><td>0.1415929</td><td>0</td><td>0</td></tr>\n",
       "</tbody>\n",
       "</table>\n"
      ],
      "text/latex": [
       "A grouped\\_df: 6 × 21\n",
       "\\begin{tabular}{lllllllllllllllllllll}\n",
       " account\\_id & trans\\_date & trans\\_count & credit\\_count & credit\\_ratio & withdrawal\\_count & withdrawal\\_ratio & smallest\\_transaction & biggest\\_transaction & transactions\\_net & ⋯ & balance\\_max & current\\_balance & times\\_negative\\_balance & credit\\_cash\\_ratio & collection\\_bank\\_ratio & interest\\_ratio & withdrawal\\_cash\\_ratio & remittance\\_bank\\_ratio & withdrawal\\_card\\_ratio & sanctions\\\\\n",
       " <int> & <date> & <int> & <int> & <dbl> & <int> & <dbl> & <dbl> & <dbl> & <dbl> & ⋯ & <dbl> & <dbl> & <int> & <dbl> & <dbl> & <dbl> & <dbl> & <dbl> & <dbl> & <int>\\\\\n",
       "\\hline\n",
       "\t 1 & 1995-03-24 & 113 & 50 & 0.4424779 & 63 & 0.5575221 & -14.6 & 12600 & 12659.9 & ⋯ & 30414.8 & 12674.5 & 0 & 0.07079646 & 0.1858407 & 0.1858407 & 0.4159292 & 0.1415929 & 0 & 0\\\\\n",
       "\t 1 & 1995-04-13 & 113 & 50 & 0.4424779 & 63 & 0.5575221 & -14.6 & 12600 & 12659.9 & ⋯ & 30414.8 & 12674.5 & 0 & 0.07079646 & 0.1858407 & 0.1858407 & 0.4159292 & 0.1415929 & 0 & 0\\\\\n",
       "\t 1 & 1995-04-23 & 113 & 50 & 0.4424779 & 63 & 0.5575221 & -14.6 & 12600 & 12659.9 & ⋯ & 30414.8 & 12674.5 & 0 & 0.07079646 & 0.1858407 & 0.1858407 & 0.4159292 & 0.1415929 & 0 & 0\\\\\n",
       "\t 1 & 1995-04-30 & 113 & 50 & 0.4424779 & 63 & 0.5575221 & -14.6 & 12600 & 12659.9 & ⋯ & 30414.8 & 12674.5 & 0 & 0.07079646 & 0.1858407 & 0.1858407 & 0.4159292 & 0.1415929 & 0 & 0\\\\\n",
       "\t 1 & 1995-05-13 & 113 & 50 & 0.4424779 & 63 & 0.5575221 & -14.6 & 12600 & 12659.9 & ⋯ & 30414.8 & 12674.5 & 0 & 0.07079646 & 0.1858407 & 0.1858407 & 0.4159292 & 0.1415929 & 0 & 0\\\\\n",
       "\t 1 & 1995-05-23 & 113 & 50 & 0.4424779 & 63 & 0.5575221 & -14.6 & 12600 & 12659.9 & ⋯ & 30414.8 & 12674.5 & 0 & 0.07079646 & 0.1858407 & 0.1858407 & 0.4159292 & 0.1415929 & 0 & 0\\\\\n",
       "\\end{tabular}\n"
      ],
      "text/markdown": [
       "\n",
       "A grouped_df: 6 × 21\n",
       "\n",
       "| account_id &lt;int&gt; | trans_date &lt;date&gt; | trans_count &lt;int&gt; | credit_count &lt;int&gt; | credit_ratio &lt;dbl&gt; | withdrawal_count &lt;int&gt; | withdrawal_ratio &lt;dbl&gt; | smallest_transaction &lt;dbl&gt; | biggest_transaction &lt;dbl&gt; | transactions_net &lt;dbl&gt; | ⋯ ⋯ | balance_max &lt;dbl&gt; | current_balance &lt;dbl&gt; | times_negative_balance &lt;int&gt; | credit_cash_ratio &lt;dbl&gt; | collection_bank_ratio &lt;dbl&gt; | interest_ratio &lt;dbl&gt; | withdrawal_cash_ratio &lt;dbl&gt; | remittance_bank_ratio &lt;dbl&gt; | withdrawal_card_ratio &lt;dbl&gt; | sanctions &lt;int&gt; |\n",
       "|---|---|---|---|---|---|---|---|---|---|---|---|---|---|---|---|---|---|---|---|---|\n",
       "| 1 | 1995-03-24 | 113 | 50 | 0.4424779 | 63 | 0.5575221 | -14.6 | 12600 | 12659.9 | ⋯ | 30414.8 | 12674.5 | 0 | 0.07079646 | 0.1858407 | 0.1858407 | 0.4159292 | 0.1415929 | 0 | 0 |\n",
       "| 1 | 1995-04-13 | 113 | 50 | 0.4424779 | 63 | 0.5575221 | -14.6 | 12600 | 12659.9 | ⋯ | 30414.8 | 12674.5 | 0 | 0.07079646 | 0.1858407 | 0.1858407 | 0.4159292 | 0.1415929 | 0 | 0 |\n",
       "| 1 | 1995-04-23 | 113 | 50 | 0.4424779 | 63 | 0.5575221 | -14.6 | 12600 | 12659.9 | ⋯ | 30414.8 | 12674.5 | 0 | 0.07079646 | 0.1858407 | 0.1858407 | 0.4159292 | 0.1415929 | 0 | 0 |\n",
       "| 1 | 1995-04-30 | 113 | 50 | 0.4424779 | 63 | 0.5575221 | -14.6 | 12600 | 12659.9 | ⋯ | 30414.8 | 12674.5 | 0 | 0.07079646 | 0.1858407 | 0.1858407 | 0.4159292 | 0.1415929 | 0 | 0 |\n",
       "| 1 | 1995-05-13 | 113 | 50 | 0.4424779 | 63 | 0.5575221 | -14.6 | 12600 | 12659.9 | ⋯ | 30414.8 | 12674.5 | 0 | 0.07079646 | 0.1858407 | 0.1858407 | 0.4159292 | 0.1415929 | 0 | 0 |\n",
       "| 1 | 1995-05-23 | 113 | 50 | 0.4424779 | 63 | 0.5575221 | -14.6 | 12600 | 12659.9 | ⋯ | 30414.8 | 12674.5 | 0 | 0.07079646 | 0.1858407 | 0.1858407 | 0.4159292 | 0.1415929 | 0 | 0 |\n",
       "\n"
      ],
      "text/plain": [
       "  account_id trans_date trans_count credit_count credit_ratio withdrawal_count\n",
       "1 1          1995-03-24 113         50           0.4424779    63              \n",
       "2 1          1995-04-13 113         50           0.4424779    63              \n",
       "3 1          1995-04-23 113         50           0.4424779    63              \n",
       "4 1          1995-04-30 113         50           0.4424779    63              \n",
       "5 1          1995-05-13 113         50           0.4424779    63              \n",
       "6 1          1995-05-23 113         50           0.4424779    63              \n",
       "  withdrawal_ratio smallest_transaction biggest_transaction transactions_net ⋯\n",
       "1 0.5575221        -14.6                12600               12659.9          ⋯\n",
       "2 0.5575221        -14.6                12600               12659.9          ⋯\n",
       "3 0.5575221        -14.6                12600               12659.9          ⋯\n",
       "4 0.5575221        -14.6                12600               12659.9          ⋯\n",
       "5 0.5575221        -14.6                12600               12659.9          ⋯\n",
       "6 0.5575221        -14.6                12600               12659.9          ⋯\n",
       "  balance_max current_balance times_negative_balance credit_cash_ratio\n",
       "1 30414.8     12674.5         0                      0.07079646       \n",
       "2 30414.8     12674.5         0                      0.07079646       \n",
       "3 30414.8     12674.5         0                      0.07079646       \n",
       "4 30414.8     12674.5         0                      0.07079646       \n",
       "5 30414.8     12674.5         0                      0.07079646       \n",
       "6 30414.8     12674.5         0                      0.07079646       \n",
       "  collection_bank_ratio interest_ratio withdrawal_cash_ratio\n",
       "1 0.1858407             0.1858407      0.4159292            \n",
       "2 0.1858407             0.1858407      0.4159292            \n",
       "3 0.1858407             0.1858407      0.4159292            \n",
       "4 0.1858407             0.1858407      0.4159292            \n",
       "5 0.1858407             0.1858407      0.4159292            \n",
       "6 0.1858407             0.1858407      0.4159292            \n",
       "  remittance_bank_ratio withdrawal_card_ratio sanctions\n",
       "1 0.1415929             0                     0        \n",
       "2 0.1415929             0                     0        \n",
       "3 0.1415929             0                     0        \n",
       "4 0.1415929             0                     0        \n",
       "5 0.1415929             0                     0        \n",
       "6 0.1415929             0                     0        "
      ]
     },
     "metadata": {},
     "output_type": "display_data"
    }
   ],
   "source": [
    "trans <- aggregate_trans_data(trans)\n",
    "head(trans)"
   ]
  },
  {
   "cell_type": "markdown",
   "id": "89a175f6",
   "metadata": {},
   "source": [
    "With this, we created some new variables:\n",
    "\n",
    "- **trans_count**: number of transactions for the account;\n",
    "- **credit_count**: number of positive transactions for the account;\n",
    "- **credit_ratio**: ratio of positive transactions for the account;\n",
    "- **withdrawal_count**: number of negative transactions for the account;\n",
    "- **withdrawal_ratio**: ratio of negative transactions for the account;\n",
    "- **smallest_transaction**: smallest transaction for the account;\n",
    "- **biggest_transaction**: biggest transaction for the account;\n",
    "- **transactions_net**: difference of all money that entered and left the account;\n",
    "- **balance_min**: lowest balance the account has had;\n",
    "- **balance_max**: highest balance the account has had;\n",
    "- **current_balance**: current balance;\n",
    "- **times_negative_balance**: number of times the account's balance has been negative;\n",
    "- **credit_cash_ratio**: ratio of \"credit in cash\" operations;\n",
    "- **collection_bank_ratio**: ratio of \"collection from another bank\" operations;\n",
    "- **interest_ratio**: ratio of \"interest credited\" operations;\n",
    "- **withdrawal_cash_ratio**: ratio of \"withdrawal in cash\" operations;\n",
    "- **remittance_bank_ratio**: ratio of \"remittance to another bank\" operations;\n",
    "- **withdrawal_card_ratio**: ratio of \"credit card withdrawal\" operations;\n",
    "- **sanctions**: number of \"sanction interest if negative balance\" operations;\n",
    "\n",
    "And dropped the variables that were now redundant: trans_id, operation, amount, balance, date and category."
   ]
  },
  {
   "cell_type": "markdown",
   "id": "8814e275",
   "metadata": {},
   "source": [
    "## Merging the data\n",
    "\n",
    "Now that the data is ready, we will join every table and derive new attributes."
   ]
  },
  {
   "cell_type": "code",
   "execution_count": 151,
   "id": "54c5aad9",
   "metadata": {},
   "outputs": [],
   "source": [
    "join_tables <- function(account_data, card_data, client_data,\n",
    "                        disp_data, district_data, loan_data,\n",
    "                        trans_data) {\n",
    "\n",
    "  last_transaction <- max(trans_data$trans_date)\n",
    "  trans_data <- trans_data %>%\n",
    "    select(-trans_date)\n",
    "\n",
    "  # Join tables and create more derived attributes\n",
    "  data <- loan_data %>%\n",
    "    rename(loan_date = date) %>%\n",
    "    left_join(account_data, by = \"account_id\") %>%\n",
    "    left_join(trans_data, by = \"account_id\") %>%\n",
    "    mutate(transactions_net = transactions_net / age_days) %>%\n",
    "    mutate(sanctions_rate = sanctions / age_days) %>%\n",
    "    rename(daily_transactions_net = transactions_net) %>%\n",
    "    left_join(disp_data, by = \"account_id\") %>%\n",
    "    filter(type == \"OWNER\") %>%\n",
    "    select(-age_days, -type, -sanctions) %>%\n",
    "    left_join(card_data, \"disp_id\") %>%\n",
    "    mutate(has_card = ifelse(!is.na(card_id), 1, 0)) %>%\n",
    "    mutate(is_gold = ifelse((!is.na(type) & type == \"gold\"), 1, 0)) %>%\n",
    "    select(-card_id, -type, -issued) %>%\n",
    "    left_join(client_data, by = \"client_id\") %>%\n",
    "    mutate(client_age = trunc(as.numeric(\n",
    "      difftime(as.Date(last_transaction), birthday, units = \"weeks\")\n",
    "    ) / 52.25)) %>%\n",
    "    left_join(district_data, by = \"district_id\") %>%\n",
    "    select(-c(name)) %>%\n",
    "    mutate(can_afford_loan = ifelse(average_salary > payments, 1, 0)) %>%\n",
    "    mutate(can_pay_until = current_balance / payments) %>%\n",
    "    mutate(acc_age_when_loan = trunc(as.numeric(\n",
    "      difftime(loan_date, acc_creation_date, units = \"days\")))\n",
    "    ) %>%\n",
    "    select(-c(acc_creation_date, account_id, district_id, date,\n",
    "      disp_id, client_id, birthday\n",
    "    )) %>%\n",
    "\n",
    "    distinct()\n",
    "\n",
    "  return(data)\n",
    "}"
   ]
  },
  {
   "cell_type": "code",
   "execution_count": 152,
   "id": "007440e2",
   "metadata": {},
   "outputs": [
    {
     "data": {
      "text/html": [
       "<table class=\"dataframe\">\n",
       "<caption>A data.frame: 6 × 40</caption>\n",
       "<thead>\n",
       "\t<tr><th></th><th scope=col>loan_id</th><th scope=col>loan_date</th><th scope=col>amount</th><th scope=col>payments</th><th scope=col>status</th><th scope=col>frequency</th><th scope=col>trans_count</th><th scope=col>credit_count</th><th scope=col>credit_ratio</th><th scope=col>withdrawal_count</th><th scope=col>⋯</th><th scope=col>urban_ratio</th><th scope=col>average_salary</th><th scope=col>entrepreneur_rate</th><th scope=col>unemployment_rate_avg</th><th scope=col>crimes_rate_per_thousand</th><th scope=col>unemployment_growing</th><th scope=col>crimes_growing</th><th scope=col>can_afford_loan</th><th scope=col>can_pay_until</th><th scope=col>acc_age_when_loan</th></tr>\n",
       "\t<tr><th></th><th scope=col>&lt;int&gt;</th><th scope=col>&lt;date&gt;</th><th scope=col>&lt;int&gt;</th><th scope=col>&lt;int&gt;</th><th scope=col>&lt;int&gt;</th><th scope=col>&lt;chr&gt;</th><th scope=col>&lt;int&gt;</th><th scope=col>&lt;int&gt;</th><th scope=col>&lt;dbl&gt;</th><th scope=col>&lt;int&gt;</th><th scope=col>⋯</th><th scope=col>&lt;dbl&gt;</th><th scope=col>&lt;int&gt;</th><th scope=col>&lt;int&gt;</th><th scope=col>&lt;dbl&gt;</th><th scope=col>&lt;dbl&gt;</th><th scope=col>&lt;dbl&gt;</th><th scope=col>&lt;dbl&gt;</th><th scope=col>&lt;dbl&gt;</th><th scope=col>&lt;dbl&gt;</th><th scope=col>&lt;dbl&gt;</th></tr>\n",
       "</thead>\n",
       "<tbody>\n",
       "\t<tr><th scope=row>1</th><td>5314</td><td>1993-07-05</td><td> 96396</td><td>8033</td><td>-1</td><td>2</td><td> 4</td><td> 4</td><td>1.0000000</td><td> 0</td><td>⋯</td><td> 81.8</td><td> 9650</td><td>100</td><td>5.215</td><td>0.0550035860</td><td>1</td><td>0</td><td>1</td><td> 2.502179</td><td>105</td></tr>\n",
       "\t<tr><th scope=row>2</th><td>5316</td><td>1993-07-11</td><td>165960</td><td>4610</td><td> 1</td><td>1</td><td>37</td><td>17</td><td>0.4594595</td><td>20</td><td>⋯</td><td> 73.5</td><td> 8369</td><td>117</td><td>2.945</td><td>0.0261292355</td><td>1</td><td>0</td><td>1</td><td>11.325141</td><td>148</td></tr>\n",
       "\t<tr><th scope=row>3</th><td>6863</td><td>1993-07-28</td><td>127080</td><td>2118</td><td> 1</td><td>1</td><td>24</td><td>15</td><td>0.6250000</td><td> 9</td><td>⋯</td><td> 53.5</td><td> 8390</td><td>132</td><td>3.725</td><td>0.0478072821</td><td>1</td><td>1</td><td>1</td><td> 9.571671</td><td>170</td></tr>\n",
       "\t<tr><th scope=row>4</th><td>5325</td><td>1993-08-03</td><td>105804</td><td>2939</td><td> 1</td><td>1</td><td>25</td><td>13</td><td>0.5200000</td><td>12</td><td>⋯</td><td> 58.0</td><td> 8754</td><td>137</td><td>5.985</td><td>0.0554834523</td><td>1</td><td>1</td><td>1</td><td>11.668152</td><td>185</td></tr>\n",
       "\t<tr><th scope=row>5</th><td>7240</td><td>1993-09-06</td><td>274740</td><td>4579</td><td> 1</td><td>2</td><td>27</td><td>13</td><td>0.4814815</td><td>14</td><td>⋯</td><td>100.0</td><td>12541</td><td>167</td><td>0.505</td><td>0.0004191035</td><td>1</td><td>1</td><td>1</td><td> 8.985128</td><td>204</td></tr>\n",
       "\t<tr><th scope=row>6</th><td>6687</td><td>1993-09-13</td><td> 87840</td><td>3660</td><td> 1</td><td>1</td><td>17</td><td>14</td><td>0.8235294</td><td> 3</td><td>⋯</td><td> 41.3</td><td> 8598</td><td>123</td><td>4.400</td><td>0.0816008605</td><td>1</td><td>1</td><td>1</td><td>11.980273</td><td>124</td></tr>\n",
       "</tbody>\n",
       "</table>\n"
      ],
      "text/latex": [
       "A data.frame: 6 × 40\n",
       "\\begin{tabular}{r|lllllllllllllllllllll}\n",
       "  & loan\\_id & loan\\_date & amount & payments & status & frequency & trans\\_count & credit\\_count & credit\\_ratio & withdrawal\\_count & ⋯ & urban\\_ratio & average\\_salary & entrepreneur\\_rate & unemployment\\_rate\\_avg & crimes\\_rate\\_per\\_thousand & unemployment\\_growing & crimes\\_growing & can\\_afford\\_loan & can\\_pay\\_until & acc\\_age\\_when\\_loan\\\\\n",
       "  & <int> & <date> & <int> & <int> & <int> & <chr> & <int> & <int> & <dbl> & <int> & ⋯ & <dbl> & <int> & <int> & <dbl> & <dbl> & <dbl> & <dbl> & <dbl> & <dbl> & <dbl>\\\\\n",
       "\\hline\n",
       "\t1 & 5314 & 1993-07-05 &  96396 & 8033 & -1 & 2 &  4 &  4 & 1.0000000 &  0 & ⋯ &  81.8 &  9650 & 100 & 5.215 & 0.0550035860 & 1 & 0 & 1 &  2.502179 & 105\\\\\n",
       "\t2 & 5316 & 1993-07-11 & 165960 & 4610 &  1 & 1 & 37 & 17 & 0.4594595 & 20 & ⋯ &  73.5 &  8369 & 117 & 2.945 & 0.0261292355 & 1 & 0 & 1 & 11.325141 & 148\\\\\n",
       "\t3 & 6863 & 1993-07-28 & 127080 & 2118 &  1 & 1 & 24 & 15 & 0.6250000 &  9 & ⋯ &  53.5 &  8390 & 132 & 3.725 & 0.0478072821 & 1 & 1 & 1 &  9.571671 & 170\\\\\n",
       "\t4 & 5325 & 1993-08-03 & 105804 & 2939 &  1 & 1 & 25 & 13 & 0.5200000 & 12 & ⋯ &  58.0 &  8754 & 137 & 5.985 & 0.0554834523 & 1 & 1 & 1 & 11.668152 & 185\\\\\n",
       "\t5 & 7240 & 1993-09-06 & 274740 & 4579 &  1 & 2 & 27 & 13 & 0.4814815 & 14 & ⋯ & 100.0 & 12541 & 167 & 0.505 & 0.0004191035 & 1 & 1 & 1 &  8.985128 & 204\\\\\n",
       "\t6 & 6687 & 1993-09-13 &  87840 & 3660 &  1 & 1 & 17 & 14 & 0.8235294 &  3 & ⋯ &  41.3 &  8598 & 123 & 4.400 & 0.0816008605 & 1 & 1 & 1 & 11.980273 & 124\\\\\n",
       "\\end{tabular}\n"
      ],
      "text/markdown": [
       "\n",
       "A data.frame: 6 × 40\n",
       "\n",
       "| <!--/--> | loan_id &lt;int&gt; | loan_date &lt;date&gt; | amount &lt;int&gt; | payments &lt;int&gt; | status &lt;int&gt; | frequency &lt;chr&gt; | trans_count &lt;int&gt; | credit_count &lt;int&gt; | credit_ratio &lt;dbl&gt; | withdrawal_count &lt;int&gt; | ⋯ ⋯ | urban_ratio &lt;dbl&gt; | average_salary &lt;int&gt; | entrepreneur_rate &lt;int&gt; | unemployment_rate_avg &lt;dbl&gt; | crimes_rate_per_thousand &lt;dbl&gt; | unemployment_growing &lt;dbl&gt; | crimes_growing &lt;dbl&gt; | can_afford_loan &lt;dbl&gt; | can_pay_until &lt;dbl&gt; | acc_age_when_loan &lt;dbl&gt; |\n",
       "|---|---|---|---|---|---|---|---|---|---|---|---|---|---|---|---|---|---|---|---|---|---|\n",
       "| 1 | 5314 | 1993-07-05 |  96396 | 8033 | -1 | 2 |  4 |  4 | 1.0000000 |  0 | ⋯ |  81.8 |  9650 | 100 | 5.215 | 0.0550035860 | 1 | 0 | 1 |  2.502179 | 105 |\n",
       "| 2 | 5316 | 1993-07-11 | 165960 | 4610 |  1 | 1 | 37 | 17 | 0.4594595 | 20 | ⋯ |  73.5 |  8369 | 117 | 2.945 | 0.0261292355 | 1 | 0 | 1 | 11.325141 | 148 |\n",
       "| 3 | 6863 | 1993-07-28 | 127080 | 2118 |  1 | 1 | 24 | 15 | 0.6250000 |  9 | ⋯ |  53.5 |  8390 | 132 | 3.725 | 0.0478072821 | 1 | 1 | 1 |  9.571671 | 170 |\n",
       "| 4 | 5325 | 1993-08-03 | 105804 | 2939 |  1 | 1 | 25 | 13 | 0.5200000 | 12 | ⋯ |  58.0 |  8754 | 137 | 5.985 | 0.0554834523 | 1 | 1 | 1 | 11.668152 | 185 |\n",
       "| 5 | 7240 | 1993-09-06 | 274740 | 4579 |  1 | 2 | 27 | 13 | 0.4814815 | 14 | ⋯ | 100.0 | 12541 | 167 | 0.505 | 0.0004191035 | 1 | 1 | 1 |  8.985128 | 204 |\n",
       "| 6 | 6687 | 1993-09-13 |  87840 | 3660 |  1 | 1 | 17 | 14 | 0.8235294 |  3 | ⋯ |  41.3 |  8598 | 123 | 4.400 | 0.0816008605 | 1 | 1 | 1 | 11.980273 | 124 |\n",
       "\n"
      ],
      "text/plain": [
       "  loan_id loan_date  amount payments status frequency trans_count credit_count\n",
       "1 5314    1993-07-05  96396 8033     -1     2          4           4          \n",
       "2 5316    1993-07-11 165960 4610      1     1         37          17          \n",
       "3 6863    1993-07-28 127080 2118      1     1         24          15          \n",
       "4 5325    1993-08-03 105804 2939      1     1         25          13          \n",
       "5 7240    1993-09-06 274740 4579      1     2         27          13          \n",
       "6 6687    1993-09-13  87840 3660      1     1         17          14          \n",
       "  credit_ratio withdrawal_count ⋯ urban_ratio average_salary entrepreneur_rate\n",
       "1 1.0000000     0               ⋯  81.8        9650          100              \n",
       "2 0.4594595    20               ⋯  73.5        8369          117              \n",
       "3 0.6250000     9               ⋯  53.5        8390          132              \n",
       "4 0.5200000    12               ⋯  58.0        8754          137              \n",
       "5 0.4814815    14               ⋯ 100.0       12541          167              \n",
       "6 0.8235294     3               ⋯  41.3        8598          123              \n",
       "  unemployment_rate_avg crimes_rate_per_thousand unemployment_growing\n",
       "1 5.215                 0.0550035860             1                   \n",
       "2 2.945                 0.0261292355             1                   \n",
       "3 3.725                 0.0478072821             1                   \n",
       "4 5.985                 0.0554834523             1                   \n",
       "5 0.505                 0.0004191035             1                   \n",
       "6 4.400                 0.0816008605             1                   \n",
       "  crimes_growing can_afford_loan can_pay_until acc_age_when_loan\n",
       "1 0              1                2.502179     105              \n",
       "2 0              1               11.325141     148              \n",
       "3 1              1                9.571671     170              \n",
       "4 1              1               11.668152     185              \n",
       "5 1              1                8.985128     204              \n",
       "6 1              1               11.980273     124              "
      ]
     },
     "metadata": {},
     "output_type": "display_data"
    }
   ],
   "source": [
    "data <- join_tables(account, card, client, disp, district, loan, trans)\n",
    "head(data)"
   ]
  },
  {
   "cell_type": "markdown",
   "id": "97ec2004",
   "metadata": {},
   "source": [
    "This has also allowed us to derive new attributes and improve old ones, such as:\n",
    "\n",
    "- **transactions_net**: is now the net amount of money transacted per day;\n",
    "- **sanctions_rate**: number of sanctions per day;\n",
    "- **has_card**: whether or not there is a credit card associated with the account;\n",
    "- **is_gold**: whether or not the account has a gold credit card;\n",
    "- **client_age**: the age of the client as of the last transaction's date;\n",
    "- **can_afford_loan**: whether or not the client's district has an average salary that can cover the loan's monthly payments;\n",
    "- **can_pay_until**: how many months can the client's balance cover the loans payments for;\n",
    "- **acc_age_when_loan**: how old the account was when the loan was made;\n",
    "\n",
    "We also dropped some columns such as: age_days, type, sanctions, card_id, issued, acc_creation_date, account_id, district_id, date, disp_id, client_id."
   ]
  },
  {
   "cell_type": "markdown",
   "id": "c53a7931",
   "metadata": {},
   "source": [
    "We have developed a function `prepare_datasets(train)` that preforms all the previous operations allowing us to quickly get data ready for both traininig and testing."
   ]
  },
  {
   "cell_type": "code",
   "execution_count": 155,
   "id": "769b2702",
   "metadata": {},
   "outputs": [],
   "source": [
    "prepare_datasets <- function(train = TRUE) {\n",
    "  account_data <- prepare_account()\n",
    "  client_data <- prepare_client()\n",
    "  disp_data <- prepare_disp()\n",
    "  district_data <- prepare_district()\n",
    "  card_data <- prepare_card(train)\n",
    "  loan_data <- prepare_loan(train)\n",
    "  trans_data <- prepare_trans(train)\n",
    "\n",
    "  trans_data <- remove_empty_cols(trans_data)\n",
    "  trans_data <- aggregate_trans_data(trans_data)\n",
    "\n",
    "  data <- join_tables(account_data, card_data, client_data,\n",
    "                        disp_data, district_data, loan_data,\n",
    "                        trans_data)\n",
    "\n",
    "  if (!train) data <- data %>% mutate(status = c(NA))\n",
    "  write.csv(data, ifelse(train, \"../data/train.csv\", \"../data/test.csv\"), row.names = FALSE)\n",
    "}"
   ]
  },
  {
   "cell_type": "code",
   "execution_count": 156,
   "id": "73863e34",
   "metadata": {
    "scrolled": true
   },
   "outputs": [],
   "source": [
    "prepare_datasets(TRUE) # Training dataset\n",
    "prepare_datasets(FALSE) # Testing dataset"
   ]
  }
 ],
 "metadata": {
  "kernelspec": {
   "display_name": "R",
   "language": "R",
   "name": "ir"
  },
  "language_info": {
   "codemirror_mode": "r",
   "file_extension": ".r",
   "mimetype": "text/x-r-source",
   "name": "R",
   "pygments_lexer": "r",
   "version": "4.2.2"
  }
 },
 "nbformat": 4,
 "nbformat_minor": 5
}
